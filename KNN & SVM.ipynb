{
 "cells": [
  {
   "cell_type": "code",
   "execution_count": 2,
   "metadata": {},
   "outputs": [
    {
     "name": "stdout",
     "output_type": "stream",
     "text": [
      "(8050, 19)\n"
     ]
    },
    {
     "data": {
      "text/html": [
       "<div>\n",
       "<style scoped>\n",
       "    .dataframe tbody tr th:only-of-type {\n",
       "        vertical-align: middle;\n",
       "    }\n",
       "\n",
       "    .dataframe tbody tr th {\n",
       "        vertical-align: top;\n",
       "    }\n",
       "\n",
       "    .dataframe thead th {\n",
       "        text-align: right;\n",
       "    }\n",
       "</style>\n",
       "<table border=\"1\" class=\"dataframe\">\n",
       "  <thead>\n",
       "    <tr style=\"text-align: right;\">\n",
       "      <th></th>\n",
       "      <th>trip_distance</th>\n",
       "      <th>fare_amount</th>\n",
       "      <th>winter</th>\n",
       "      <th>spring</th>\n",
       "      <th>summer</th>\n",
       "      <th>fall</th>\n",
       "      <th>PULongitude</th>\n",
       "      <th>PULatitude</th>\n",
       "      <th>DOLongitude</th>\n",
       "      <th>DOLatitude</th>\n",
       "      <th>pickup_datetime</th>\n",
       "      <th>dropoff_datetime</th>\n",
       "      <th>ride_duration</th>\n",
       "      <th>Early morning</th>\n",
       "      <th>Morning</th>\n",
       "      <th>Afternoon</th>\n",
       "      <th>Night</th>\n",
       "      <th>Holiday Proximity</th>\n",
       "      <th>label</th>\n",
       "    </tr>\n",
       "  </thead>\n",
       "  <tbody>\n",
       "    <tr>\n",
       "      <td>0</td>\n",
       "      <td>1.1</td>\n",
       "      <td>7.0</td>\n",
       "      <td>0</td>\n",
       "      <td>1</td>\n",
       "      <td>0</td>\n",
       "      <td>0</td>\n",
       "      <td>-73.984176</td>\n",
       "      <td>40.759845</td>\n",
       "      <td>-73.972145</td>\n",
       "      <td>40.756816</td>\n",
       "      <td>2019-04-29 07:55:30</td>\n",
       "      <td>2019-04-29 08:03:39</td>\n",
       "      <td>0 days 00:08:09.000000000</td>\n",
       "      <td>0</td>\n",
       "      <td>1</td>\n",
       "      <td>0</td>\n",
       "      <td>0</td>\n",
       "      <td>0</td>\n",
       "      <td>B</td>\n",
       "    </tr>\n",
       "    <tr>\n",
       "      <td>1</td>\n",
       "      <td>2.6</td>\n",
       "      <td>12.0</td>\n",
       "      <td>0</td>\n",
       "      <td>0</td>\n",
       "      <td>1</td>\n",
       "      <td>0</td>\n",
       "      <td>-73.992455</td>\n",
       "      <td>40.748476</td>\n",
       "      <td>-74.008386</td>\n",
       "      <td>40.735248</td>\n",
       "      <td>2019-08-31 14:26:37</td>\n",
       "      <td>2019-08-31 14:42:27</td>\n",
       "      <td>0 days 00:15:50.000000000</td>\n",
       "      <td>0</td>\n",
       "      <td>0</td>\n",
       "      <td>1</td>\n",
       "      <td>0</td>\n",
       "      <td>0</td>\n",
       "      <td>D</td>\n",
       "    </tr>\n",
       "    <tr>\n",
       "      <td>2</td>\n",
       "      <td>1.2</td>\n",
       "      <td>5.5</td>\n",
       "      <td>0</td>\n",
       "      <td>0</td>\n",
       "      <td>1</td>\n",
       "      <td>0</td>\n",
       "      <td>-73.965174</td>\n",
       "      <td>40.756589</td>\n",
       "      <td>-73.951208</td>\n",
       "      <td>40.778496</td>\n",
       "      <td>2019-07-07 17:53:54</td>\n",
       "      <td>2019-07-07 17:57:55</td>\n",
       "      <td>0 days 00:04:01.000000000</td>\n",
       "      <td>0</td>\n",
       "      <td>0</td>\n",
       "      <td>1</td>\n",
       "      <td>0</td>\n",
       "      <td>0</td>\n",
       "      <td>B</td>\n",
       "    </tr>\n",
       "    <tr>\n",
       "      <td>3</td>\n",
       "      <td>1.9</td>\n",
       "      <td>10.5</td>\n",
       "      <td>0</td>\n",
       "      <td>1</td>\n",
       "      <td>0</td>\n",
       "      <td>0</td>\n",
       "      <td>-73.987973</td>\n",
       "      <td>40.775770</td>\n",
       "      <td>-73.978367</td>\n",
       "      <td>40.764425</td>\n",
       "      <td>2019-04-30 14:45:33</td>\n",
       "      <td>2019-04-30 14:58:43</td>\n",
       "      <td>0 days 00:13:10.000000000</td>\n",
       "      <td>0</td>\n",
       "      <td>0</td>\n",
       "      <td>1</td>\n",
       "      <td>0</td>\n",
       "      <td>0</td>\n",
       "      <td>D</td>\n",
       "    </tr>\n",
       "    <tr>\n",
       "      <td>4</td>\n",
       "      <td>1.0</td>\n",
       "      <td>5.5</td>\n",
       "      <td>0</td>\n",
       "      <td>0</td>\n",
       "      <td>0</td>\n",
       "      <td>1</td>\n",
       "      <td>-73.985214</td>\n",
       "      <td>40.727944</td>\n",
       "      <td>-73.976942</td>\n",
       "      <td>40.747654</td>\n",
       "      <td>2019-09-15 01:52:45</td>\n",
       "      <td>2019-09-15 01:57:18</td>\n",
       "      <td>0 days 00:04:33.000000000</td>\n",
       "      <td>1</td>\n",
       "      <td>0</td>\n",
       "      <td>0</td>\n",
       "      <td>0</td>\n",
       "      <td>0</td>\n",
       "      <td>B</td>\n",
       "    </tr>\n",
       "  </tbody>\n",
       "</table>\n",
       "</div>"
      ],
      "text/plain": [
       "   trip_distance  fare_amount  winter  spring  summer  fall  PULongitude  \\\n",
       "0            1.1          7.0       0       1       0     0   -73.984176   \n",
       "1            2.6         12.0       0       0       1     0   -73.992455   \n",
       "2            1.2          5.5       0       0       1     0   -73.965174   \n",
       "3            1.9         10.5       0       1       0     0   -73.987973   \n",
       "4            1.0          5.5       0       0       0     1   -73.985214   \n",
       "\n",
       "   PULatitude  DOLongitude  DOLatitude      pickup_datetime  \\\n",
       "0   40.759845   -73.972145   40.756816  2019-04-29 07:55:30   \n",
       "1   40.748476   -74.008386   40.735248  2019-08-31 14:26:37   \n",
       "2   40.756589   -73.951208   40.778496  2019-07-07 17:53:54   \n",
       "3   40.775770   -73.978367   40.764425  2019-04-30 14:45:33   \n",
       "4   40.727944   -73.976942   40.747654  2019-09-15 01:52:45   \n",
       "\n",
       "      dropoff_datetime              ride_duration  Early morning  Morning  \\\n",
       "0  2019-04-29 08:03:39  0 days 00:08:09.000000000              0        1   \n",
       "1  2019-08-31 14:42:27  0 days 00:15:50.000000000              0        0   \n",
       "2  2019-07-07 17:57:55  0 days 00:04:01.000000000              0        0   \n",
       "3  2019-04-30 14:58:43  0 days 00:13:10.000000000              0        0   \n",
       "4  2019-09-15 01:57:18  0 days 00:04:33.000000000              1        0   \n",
       "\n",
       "   Afternoon  Night  Holiday Proximity label  \n",
       "0          0      0                  0     B  \n",
       "1          1      0                  0     D  \n",
       "2          1      0                  0     B  \n",
       "3          1      0                  0     D  \n",
       "4          0      0                  0     B  "
      ]
     },
     "execution_count": 2,
     "metadata": {},
     "output_type": "execute_result"
    }
   ],
   "source": [
    "import warnings\n",
    "warnings.simplefilter(\"ignore\")\n",
    "\n",
    "import pandas as pd\n",
    "import matplotlib as plt\n",
    "import numpy as np\n",
    "import sklearn as sk\n",
    "import time\n",
    "\n",
    "#import data \n",
    "data = pd.read_csv(\"taxi_clean_med.csv\")\n",
    "\n",
    "#display data\n",
    "print(data.shape)\n",
    "      \n",
    "data.head()"
   ]
  },
  {
   "cell_type": "code",
   "execution_count": 3,
   "metadata": {},
   "outputs": [],
   "source": [
    "data['pickup_datetime'] = pd.to_datetime(data['pickup_datetime'])\n",
    "data['pickup_datetime'] = pd.to_numeric(data['pickup_datetime'])\n",
    "data['dropoff_datetime'] = pd.to_datetime(data['dropoff_datetime'])\n",
    "data['dropoff_datetime'] = pd.to_numeric(data['dropoff_datetime'])\n",
    "\n",
    "data['ride_duration'] = data['dropoff_datetime'] - data['pickup_datetime']"
   ]
  },
  {
   "cell_type": "markdown",
   "metadata": {},
   "source": [
    "## KNN Analysis"
   ]
  },
  {
   "cell_type": "code",
   "execution_count": 6,
   "metadata": {},
   "outputs": [
    {
     "name": "stdout",
     "output_type": "stream",
     "text": [
      "best_score 0.5937888198757764\n",
      "best_params {'knn__n_neighbors': 1, 'pca__n_components': 12}\n"
     ]
    }
   ],
   "source": [
    "from sklearn.preprocessing import MinMaxScaler\n",
    "from sklearn.model_selection import GridSearchCV\n",
    "from sklearn.neighbors import KNeighborsClassifier\n",
    "from sklearn.decomposition import PCA\n",
    "from sklearn.pipeline import Pipeline\n",
    "from sklearn.model_selection import cross_val_score\n",
    "\n",
    "featurevalues = data.drop(['label'], axis = 1)\n",
    "classlabels = data['label']\n",
    "\n",
    "# define a pipeline to search for best combination of PCA dimensions and n_neighbors\n",
    "scaler = MinMaxScaler()\n",
    "pca = PCA()\n",
    "knn = KNeighborsClassifier()\n",
    "\n",
    "# create a pipeline\n",
    "pipe = Pipeline(steps=[('scaler', scaler), ('pca', pca), ('knn', knn)])\n",
    "\n",
    "# set up parameters to tune for each step in pipeline\n",
    "param_grid = {\n",
    "    'pca__n_components': list(range(1, 19)), # find how many principal componenet to keep\n",
    "    'knn__n_neighbors': list(range(1, 30)),  # find the best value of k\n",
    "}\n",
    "\n",
    "# pass pipeline into gridsearchcv\n",
    "grid_pipe = GridSearchCV(pipe,param_grid,cv=5)\n",
    "\n",
    "# call fit on grid_pipe and pass in unscaled data\n",
    "grid_pipe = grid_pipe.fit(featurevalues,classlabels)\n",
    "\n",
    "# print out the best_score_ and best_params_ from the GridSearchCV\n",
    "print(\"best_score\",grid_pipe.best_score_)\n",
    "print(\"best_params\",grid_pipe.best_params_)"
   ]
  },
  {
   "cell_type": "code",
   "execution_count": 7,
   "metadata": {},
   "outputs": [
    {
     "name": "stdout",
     "output_type": "stream",
     "text": [
      "Accuracy: 59.38079032843297\n"
     ]
    }
   ],
   "source": [
    "# display accuracy on model\n",
    "scores = cross_val_score(grid_pipe,featurevalues,classlabels,cv=5)\n",
    "print(\"Accuracy:\", scores.mean()*100)"
   ]
  },
  {
   "cell_type": "markdown",
   "metadata": {},
   "source": [
    "## SVM Analysis"
   ]
  },
  {
   "cell_type": "code",
   "execution_count": 9,
   "metadata": {},
   "outputs": [
    {
     "name": "stdout",
     "output_type": "stream",
     "text": [
      "Accuracy: 79.62815514695144\n"
     ]
    }
   ],
   "source": [
    "from sklearn.svm import SVC\n",
    "from sklearn.preprocessing import StandardScaler\n",
    "\n",
    "scaler = StandardScaler()\n",
    "svc = SVC()\n",
    "\n",
    "# set up pipeline\n",
    "pipe = Pipeline(steps=[('scaler',scaler),('svc',svc)])\n",
    "pipeline = cross_val_score(pipe,featurevalues,classlabels,cv=5)\n",
    "print(\"Accuracy:\", pipeline.mean()*100)"
   ]
  },
  {
   "cell_type": "code",
   "execution_count": 10,
   "metadata": {},
   "outputs": [
    {
     "name": "stdout",
     "output_type": "stream",
     "text": [
      "{'svc__kernel': 'linear'}\n",
      "Accuracy: 99.96265558880566\n"
     ]
    }
   ],
   "source": [
    "# tune 'svm' part of the pipeline, 'kernel' hyperparameter\n",
    "param_grid = {'svc__kernel': ['linear', 'rbf', 'poly', 'sigmoid']}\n",
    "\n",
    "# find and print best parameter\n",
    "gridsearch = GridSearchCV(pipe,param_grid,cv=5)\n",
    "gridsearch = gridsearch.fit(featurevalues,classlabels)\n",
    "print(gridsearch.best_params_)\n",
    "\n",
    "# find best value of c and print accuracy\n",
    "c = []\n",
    "for x in range(50,110,5):\n",
    "    c.append(x)\n",
    "param_grid = {'svc__kernel':['linear','rbf','poly','sigmoid'],'svc__C':c}\n",
    "grid_search = GridSearchCV(pipe,param_grid,cv=5)\n",
    "grid_accuracy = cross_val_score(grid_search,featurevalues,classlabels,cv=5)\n",
    "print(\"Accuracy:\",grid_accuracy.mean()*100)"
   ]
  },
  {
   "cell_type": "code",
   "execution_count": null,
   "metadata": {},
   "outputs": [],
   "source": []
  }
 ],
 "metadata": {
  "kernelspec": {
   "display_name": "Python 3",
   "language": "python",
   "name": "python3"
  },
  "language_info": {
   "codemirror_mode": {
    "name": "ipython",
    "version": 3
   },
   "file_extension": ".py",
   "mimetype": "text/x-python",
   "name": "python",
   "nbconvert_exporter": "python",
   "pygments_lexer": "ipython3",
   "version": "3.7.4"
  }
 },
 "nbformat": 4,
 "nbformat_minor": 2
}
