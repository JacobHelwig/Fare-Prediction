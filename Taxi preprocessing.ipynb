{
 "cells": [
  {
   "cell_type": "code",
   "execution_count": 1,
   "metadata": {},
   "outputs": [],
   "source": [
    "import pandas as pd\n",
    "from sklearn.model_selection import train_test_split "
   ]
  },
  {
   "cell_type": "markdown",
   "metadata": {},
   "source": [
    "### Read trip data for yellow cabs for each month in 2019"
   ]
  },
  {
   "cell_type": "code",
   "execution_count": 2,
   "metadata": {},
   "outputs": [
    {
     "name": "stderr",
     "output_type": "stream",
     "text": [
      "C:\\Users\\jacob\\Anaconda3\\lib\\site-packages\\IPython\\core\\interactiveshell.py:3058: DtypeWarning: Columns (6) have mixed types. Specify dtype option on import or set low_memory=False.\n",
      "  interactivity=interactivity, compiler=compiler, result=result)\n"
     ]
    }
   ],
   "source": [
    "jan = pd.read_csv(\"C:/Users/jacob/OneDrive/Documents/Spring 2020/Data analytics/taxi/yellow_tripdata_2019-01.csv\")\n",
    "\n",
    "feb = pd.read_csv(\"C:/Users/jacob/OneDrive/Documents/Spring 2020/Data analytics/taxi/yellow_tripdata_2019-02.csv\")\n",
    "mar = pd.read_csv(\"C:/Users/jacob/OneDrive/Documents/Spring 2020/Data analytics/taxi/yellow_tripdata_2019-03.csv\")\n",
    "\n",
    "apr = pd.read_csv(\"C:/Users/jacob/OneDrive/Documents/Spring 2020/Data analytics/taxi/yellow_tripdata_2019-04.csv\")\n",
    "may = pd.read_csv(\"C:/Users/jacob/OneDrive/Documents/Spring 2020/Data analytics/taxi/yellow_tripdata_2019-05.csv\")\n",
    "\n",
    "jun = pd.read_csv(\"C:/Users/jacob/OneDrive/Documents/Spring 2020/Data analytics/taxi/yellow_tripdata_2019-06.csv\")\n",
    "jul = pd.read_csv(\"C:/Users/jacob/OneDrive/Documents/Spring 2020/Data analytics/taxi/yellow_tripdata_2019-07.csv\")\n",
    "aug = pd.read_csv(\"C:/Users/jacob/OneDrive/Documents/Spring 2020/Data analytics/taxi/yellow_tripdata_2019-08.csv\")\n",
    "\n",
    "sept = pd.read_csv(\"C:/Users/jacob/OneDrive/Documents/Spring 2020/Data analytics/taxi/yellow_tripdata_2019-09.csv\")\n",
    "oct = pd.read_csv(\"C:/Users/jacob/OneDrive/Documents/Spring 2020/Data analytics/taxi/yellow_tripdata_2019-10.csv\")\n",
    "\n",
    "nov = pd.read_csv(\"C:/Users/jacob/OneDrive/Documents/Spring 2020/Data analytics/taxi/yellow_tripdata_2019-11.csv\")\n",
    "dec = pd.read_csv(\"C:/Users/jacob/OneDrive/Documents/Spring 2020/Data analytics/taxi/yellow_tripdata_2019-12.csv\")"
   ]
  },
  {
   "cell_type": "markdown",
   "metadata": {},
   "source": [
    "### Put each month's data frame in a dictionary \"months\""
   ]
  },
  {
   "cell_type": "code",
   "execution_count": 5,
   "metadata": {},
   "outputs": [
    {
     "data": {
      "text/html": [
       "<div>\n",
       "<style scoped>\n",
       "    .dataframe tbody tr th:only-of-type {\n",
       "        vertical-align: middle;\n",
       "    }\n",
       "\n",
       "    .dataframe tbody tr th {\n",
       "        vertical-align: top;\n",
       "    }\n",
       "\n",
       "    .dataframe thead th {\n",
       "        text-align: right;\n",
       "    }\n",
       "</style>\n",
       "<table border=\"1\" class=\"dataframe\">\n",
       "  <thead>\n",
       "    <tr style=\"text-align: right;\">\n",
       "      <th></th>\n",
       "      <th>VendorID</th>\n",
       "      <th>tpep_pickup_datetime</th>\n",
       "      <th>tpep_dropoff_datetime</th>\n",
       "      <th>passenger_count</th>\n",
       "      <th>trip_distance</th>\n",
       "      <th>RatecodeID</th>\n",
       "      <th>store_and_fwd_flag</th>\n",
       "      <th>PULocationID</th>\n",
       "      <th>DOLocationID</th>\n",
       "      <th>payment_type</th>\n",
       "      <th>fare_amount</th>\n",
       "      <th>extra</th>\n",
       "      <th>mta_tax</th>\n",
       "      <th>tip_amount</th>\n",
       "      <th>tolls_amount</th>\n",
       "      <th>improvement_surcharge</th>\n",
       "      <th>total_amount</th>\n",
       "      <th>congestion_surcharge</th>\n",
       "    </tr>\n",
       "  </thead>\n",
       "  <tbody>\n",
       "    <tr>\n",
       "      <td>0</td>\n",
       "      <td>1</td>\n",
       "      <td>2019-01-01 00:46:40</td>\n",
       "      <td>2019-01-01 00:53:20</td>\n",
       "      <td>1</td>\n",
       "      <td>1.50</td>\n",
       "      <td>1</td>\n",
       "      <td>N</td>\n",
       "      <td>151</td>\n",
       "      <td>239</td>\n",
       "      <td>1</td>\n",
       "      <td>7.0</td>\n",
       "      <td>0.5</td>\n",
       "      <td>0.5</td>\n",
       "      <td>1.65</td>\n",
       "      <td>0.0</td>\n",
       "      <td>0.3</td>\n",
       "      <td>9.95</td>\n",
       "      <td>NaN</td>\n",
       "    </tr>\n",
       "    <tr>\n",
       "      <td>1</td>\n",
       "      <td>1</td>\n",
       "      <td>2019-01-01 00:59:47</td>\n",
       "      <td>2019-01-01 01:18:59</td>\n",
       "      <td>1</td>\n",
       "      <td>2.60</td>\n",
       "      <td>1</td>\n",
       "      <td>N</td>\n",
       "      <td>239</td>\n",
       "      <td>246</td>\n",
       "      <td>1</td>\n",
       "      <td>14.0</td>\n",
       "      <td>0.5</td>\n",
       "      <td>0.5</td>\n",
       "      <td>1.00</td>\n",
       "      <td>0.0</td>\n",
       "      <td>0.3</td>\n",
       "      <td>16.30</td>\n",
       "      <td>NaN</td>\n",
       "    </tr>\n",
       "    <tr>\n",
       "      <td>2</td>\n",
       "      <td>2</td>\n",
       "      <td>2018-12-21 13:48:30</td>\n",
       "      <td>2018-12-21 13:52:40</td>\n",
       "      <td>3</td>\n",
       "      <td>0.00</td>\n",
       "      <td>1</td>\n",
       "      <td>N</td>\n",
       "      <td>236</td>\n",
       "      <td>236</td>\n",
       "      <td>1</td>\n",
       "      <td>4.5</td>\n",
       "      <td>0.5</td>\n",
       "      <td>0.5</td>\n",
       "      <td>0.00</td>\n",
       "      <td>0.0</td>\n",
       "      <td>0.3</td>\n",
       "      <td>5.80</td>\n",
       "      <td>NaN</td>\n",
       "    </tr>\n",
       "    <tr>\n",
       "      <td>3</td>\n",
       "      <td>2</td>\n",
       "      <td>2018-11-28 15:52:25</td>\n",
       "      <td>2018-11-28 15:55:45</td>\n",
       "      <td>5</td>\n",
       "      <td>0.00</td>\n",
       "      <td>1</td>\n",
       "      <td>N</td>\n",
       "      <td>193</td>\n",
       "      <td>193</td>\n",
       "      <td>2</td>\n",
       "      <td>3.5</td>\n",
       "      <td>0.5</td>\n",
       "      <td>0.5</td>\n",
       "      <td>0.00</td>\n",
       "      <td>0.0</td>\n",
       "      <td>0.3</td>\n",
       "      <td>7.55</td>\n",
       "      <td>NaN</td>\n",
       "    </tr>\n",
       "    <tr>\n",
       "      <td>4</td>\n",
       "      <td>2</td>\n",
       "      <td>2018-11-28 15:56:57</td>\n",
       "      <td>2018-11-28 15:58:33</td>\n",
       "      <td>5</td>\n",
       "      <td>0.00</td>\n",
       "      <td>2</td>\n",
       "      <td>N</td>\n",
       "      <td>193</td>\n",
       "      <td>193</td>\n",
       "      <td>2</td>\n",
       "      <td>52.0</td>\n",
       "      <td>0.0</td>\n",
       "      <td>0.5</td>\n",
       "      <td>0.00</td>\n",
       "      <td>0.0</td>\n",
       "      <td>0.3</td>\n",
       "      <td>55.55</td>\n",
       "      <td>NaN</td>\n",
       "    </tr>\n",
       "    <tr>\n",
       "      <td>...</td>\n",
       "      <td>...</td>\n",
       "      <td>...</td>\n",
       "      <td>...</td>\n",
       "      <td>...</td>\n",
       "      <td>...</td>\n",
       "      <td>...</td>\n",
       "      <td>...</td>\n",
       "      <td>...</td>\n",
       "      <td>...</td>\n",
       "      <td>...</td>\n",
       "      <td>...</td>\n",
       "      <td>...</td>\n",
       "      <td>...</td>\n",
       "      <td>...</td>\n",
       "      <td>...</td>\n",
       "      <td>...</td>\n",
       "      <td>...</td>\n",
       "      <td>...</td>\n",
       "    </tr>\n",
       "    <tr>\n",
       "      <td>6609670</td>\n",
       "      <td>4</td>\n",
       "      <td>2019-01-27 23:05:54</td>\n",
       "      <td>2019-01-27 23:11:33</td>\n",
       "      <td>1</td>\n",
       "      <td>1.06</td>\n",
       "      <td>1</td>\n",
       "      <td>N</td>\n",
       "      <td>238</td>\n",
       "      <td>151</td>\n",
       "      <td>1</td>\n",
       "      <td>6.0</td>\n",
       "      <td>0.5</td>\n",
       "      <td>0.5</td>\n",
       "      <td>1.46</td>\n",
       "      <td>0.0</td>\n",
       "      <td>0.3</td>\n",
       "      <td>8.76</td>\n",
       "      <td>NaN</td>\n",
       "    </tr>\n",
       "    <tr>\n",
       "      <td>6609671</td>\n",
       "      <td>4</td>\n",
       "      <td>2019-01-27 23:18:38</td>\n",
       "      <td>2019-01-27 23:28:19</td>\n",
       "      <td>1</td>\n",
       "      <td>2.35</td>\n",
       "      <td>1</td>\n",
       "      <td>N</td>\n",
       "      <td>239</td>\n",
       "      <td>68</td>\n",
       "      <td>2</td>\n",
       "      <td>10.0</td>\n",
       "      <td>0.5</td>\n",
       "      <td>0.5</td>\n",
       "      <td>0.00</td>\n",
       "      <td>0.0</td>\n",
       "      <td>0.3</td>\n",
       "      <td>11.30</td>\n",
       "      <td>NaN</td>\n",
       "    </tr>\n",
       "    <tr>\n",
       "      <td>6609672</td>\n",
       "      <td>4</td>\n",
       "      <td>2019-01-27 23:29:41</td>\n",
       "      <td>2019-01-27 23:42:06</td>\n",
       "      <td>1</td>\n",
       "      <td>3.75</td>\n",
       "      <td>1</td>\n",
       "      <td>N</td>\n",
       "      <td>68</td>\n",
       "      <td>13</td>\n",
       "      <td>1</td>\n",
       "      <td>13.5</td>\n",
       "      <td>0.5</td>\n",
       "      <td>0.5</td>\n",
       "      <td>2.96</td>\n",
       "      <td>0.0</td>\n",
       "      <td>0.3</td>\n",
       "      <td>17.76</td>\n",
       "      <td>NaN</td>\n",
       "    </tr>\n",
       "    <tr>\n",
       "      <td>6609673</td>\n",
       "      <td>4</td>\n",
       "      <td>2019-01-27 23:44:23</td>\n",
       "      <td>2019-01-27 23:53:18</td>\n",
       "      <td>1</td>\n",
       "      <td>2.12</td>\n",
       "      <td>1</td>\n",
       "      <td>N</td>\n",
       "      <td>13</td>\n",
       "      <td>249</td>\n",
       "      <td>1</td>\n",
       "      <td>9.5</td>\n",
       "      <td>0.5</td>\n",
       "      <td>0.5</td>\n",
       "      <td>2.16</td>\n",
       "      <td>0.0</td>\n",
       "      <td>0.3</td>\n",
       "      <td>12.96</td>\n",
       "      <td>NaN</td>\n",
       "    </tr>\n",
       "    <tr>\n",
       "      <td>6609674</td>\n",
       "      <td>4</td>\n",
       "      <td>2019-01-27 23:56:02</td>\n",
       "      <td>2019-01-28 00:03:11</td>\n",
       "      <td>1</td>\n",
       "      <td>1.78</td>\n",
       "      <td>1</td>\n",
       "      <td>N</td>\n",
       "      <td>249</td>\n",
       "      <td>148</td>\n",
       "      <td>1</td>\n",
       "      <td>7.5</td>\n",
       "      <td>0.5</td>\n",
       "      <td>0.5</td>\n",
       "      <td>1.76</td>\n",
       "      <td>0.0</td>\n",
       "      <td>0.3</td>\n",
       "      <td>10.56</td>\n",
       "      <td>NaN</td>\n",
       "    </tr>\n",
       "  </tbody>\n",
       "</table>\n",
       "<p>4855978 rows × 18 columns</p>\n",
       "</div>"
      ],
      "text/plain": [
       "         VendorID tpep_pickup_datetime tpep_dropoff_datetime  passenger_count  \\\n",
       "0               1  2019-01-01 00:46:40   2019-01-01 00:53:20                1   \n",
       "1               1  2019-01-01 00:59:47   2019-01-01 01:18:59                1   \n",
       "2               2  2018-12-21 13:48:30   2018-12-21 13:52:40                3   \n",
       "3               2  2018-11-28 15:52:25   2018-11-28 15:55:45                5   \n",
       "4               2  2018-11-28 15:56:57   2018-11-28 15:58:33                5   \n",
       "...           ...                  ...                   ...              ...   \n",
       "6609670         4  2019-01-27 23:05:54   2019-01-27 23:11:33                1   \n",
       "6609671         4  2019-01-27 23:18:38   2019-01-27 23:28:19                1   \n",
       "6609672         4  2019-01-27 23:29:41   2019-01-27 23:42:06                1   \n",
       "6609673         4  2019-01-27 23:44:23   2019-01-27 23:53:18                1   \n",
       "6609674         4  2019-01-27 23:56:02   2019-01-28 00:03:11                1   \n",
       "\n",
       "         trip_distance  RatecodeID store_and_fwd_flag  PULocationID  \\\n",
       "0                 1.50           1                  N           151   \n",
       "1                 2.60           1                  N           239   \n",
       "2                 0.00           1                  N           236   \n",
       "3                 0.00           1                  N           193   \n",
       "4                 0.00           2                  N           193   \n",
       "...                ...         ...                ...           ...   \n",
       "6609670           1.06           1                  N           238   \n",
       "6609671           2.35           1                  N           239   \n",
       "6609672           3.75           1                  N            68   \n",
       "6609673           2.12           1                  N            13   \n",
       "6609674           1.78           1                  N           249   \n",
       "\n",
       "         DOLocationID  payment_type  fare_amount  extra  mta_tax  tip_amount  \\\n",
       "0                 239             1          7.0    0.5      0.5        1.65   \n",
       "1                 246             1         14.0    0.5      0.5        1.00   \n",
       "2                 236             1          4.5    0.5      0.5        0.00   \n",
       "3                 193             2          3.5    0.5      0.5        0.00   \n",
       "4                 193             2         52.0    0.0      0.5        0.00   \n",
       "...               ...           ...          ...    ...      ...         ...   \n",
       "6609670           151             1          6.0    0.5      0.5        1.46   \n",
       "6609671            68             2         10.0    0.5      0.5        0.00   \n",
       "6609672            13             1         13.5    0.5      0.5        2.96   \n",
       "6609673           249             1          9.5    0.5      0.5        2.16   \n",
       "6609674           148             1          7.5    0.5      0.5        1.76   \n",
       "\n",
       "         tolls_amount  improvement_surcharge  total_amount  \\\n",
       "0                 0.0                    0.3          9.95   \n",
       "1                 0.0                    0.3         16.30   \n",
       "2                 0.0                    0.3          5.80   \n",
       "3                 0.0                    0.3          7.55   \n",
       "4                 0.0                    0.3         55.55   \n",
       "...               ...                    ...           ...   \n",
       "6609670           0.0                    0.3          8.76   \n",
       "6609671           0.0                    0.3         11.30   \n",
       "6609672           0.0                    0.3         17.76   \n",
       "6609673           0.0                    0.3         12.96   \n",
       "6609674           0.0                    0.3         10.56   \n",
       "\n",
       "         congestion_surcharge  \n",
       "0                         NaN  \n",
       "1                         NaN  \n",
       "2                         NaN  \n",
       "3                         NaN  \n",
       "4                         NaN  \n",
       "...                       ...  \n",
       "6609670                   NaN  \n",
       "6609671                   NaN  \n",
       "6609672                   NaN  \n",
       "6609673                   NaN  \n",
       "6609674                   NaN  \n",
       "\n",
       "[4855978 rows x 18 columns]"
      ]
     },
     "execution_count": 5,
     "metadata": {},
     "output_type": "execute_result"
    }
   ],
   "source": [
    "jan[jan.isnull().any(axis=1)]"
   ]
  },
  {
   "cell_type": "code",
   "execution_count": 6,
   "metadata": {},
   "outputs": [],
   "source": [
    "months = {'jan':jan, 'feb':feb, 'mar':mar, 'apr':apr, 'may':may, 'jun':jun, \n",
    "          'jul':jul, 'aug':aug, 'sept':sept, 'oct':oct, 'nov':nov, 'dec':dec}"
   ]
  },
  {
   "cell_type": "markdown",
   "metadata": {},
   "source": [
    "### Create a resampling of each month that is .1% of the size of the original sampling"
   ]
  },
  {
   "cell_type": "code",
   "execution_count": 14,
   "metadata": {},
   "outputs": [
    {
     "name": "stdout",
     "output_type": "stream",
     "text": [
      "Resampling jan\n",
      ".01 % Complete.\n",
      ".1 % Complete.\n",
      "1% Complete.\n",
      "10% Complete.\n",
      "Resampling feb\n",
      ".01 % Complete.\n",
      ".1 % Complete.\n",
      "1% Complete.\n",
      "10% Complete.\n",
      "Resampling mar\n",
      ".01 % Complete.\n",
      ".1 % Complete.\n",
      "1% Complete.\n",
      "10% Complete.\n",
      "Resampling apr\n",
      ".01 % Complete.\n",
      ".1 % Complete.\n",
      "1% Complete.\n",
      "10% Complete.\n",
      "Resampling may\n",
      ".01 % Complete.\n",
      ".1 % Complete.\n",
      "1% Complete.\n",
      "10% Complete.\n",
      "Resampling jun\n",
      ".01 % Complete.\n",
      ".1 % Complete.\n",
      "1% Complete.\n",
      "10% Complete.\n",
      "Resampling jul\n",
      ".01 % Complete.\n",
      ".1 % Complete.\n",
      "1% Complete.\n",
      "10% Complete.\n",
      "Resampling aug\n",
      ".01 % Complete.\n",
      ".1 % Complete.\n",
      "1% Complete.\n",
      "10% Complete.\n",
      "Resampling sept\n",
      ".01 % Complete.\n",
      ".1 % Complete.\n",
      "1% Complete.\n",
      "10% Complete.\n",
      "Resampling oct\n",
      ".01 % Complete.\n",
      ".1 % Complete.\n",
      "1% Complete.\n",
      "10% Complete.\n",
      "Resampling nov\n",
      ".01 % Complete.\n",
      ".1 % Complete.\n",
      "1% Complete.\n",
      "10% Complete.\n",
      "Resampling dec\n",
      ".01 % Complete.\n",
      ".1 % Complete.\n",
      "1% Complete.\n",
      "10% Complete.\n"
     ]
    }
   ],
   "source": [
    "reduced_months0001 = {}\n",
    "reduced_months001 = {}\n",
    "reduced_months01 = {}\n",
    "reduced_months1 = {}\n",
    "reduced_months\n",
    "for month in months:\n",
    "  print(\"Resampling \"+month)\n",
    "  reduced_months0001[month], _ = train_test_split(months[month], train_size=0.0001, random_state = 101)\n",
    "  print(\".01 % Complete.\")\n",
    "  reduced_months001[month], _ = train_test_split(months[month], train_size=0.001, random_state = 101)\n",
    "  print(\".1 % Complete.\")\n",
    "  reduced_months01[month], _ = train_test_split(months[month], train_size=0.01, random_state = 101)\n",
    "  print(\"1% Complete.\")\n",
    "  reduced_months1[month], _ = train_test_split(months[month], train_size=0.1, random_state = 101)\n",
    "  print(\"10% Complete.\")"
   ]
  },
  {
   "cell_type": "markdown",
   "metadata": {},
   "source": [
    "### Look at the number of records for each month in the original set"
   ]
  },
  {
   "cell_type": "code",
   "execution_count": 15,
   "metadata": {},
   "outputs": [],
   "source": [
    "month_leng = {}\n",
    "for month in months:\n",
    "    month_leng[month] = len(months[month].index)"
   ]
  },
  {
   "cell_type": "code",
   "execution_count": 16,
   "metadata": {},
   "outputs": [
    {
     "data": {
      "text/plain": [
       "{'jan': 7667792,\n",
       " 'feb': 7019375,\n",
       " 'mar': 7832545,\n",
       " 'apr': 7433139,\n",
       " 'may': 7565261,\n",
       " 'jun': 6941024,\n",
       " 'jul': 6310419,\n",
       " 'aug': 6073357,\n",
       " 'sept': 6567788,\n",
       " 'oct': 7213891,\n",
       " 'nov': 6878111,\n",
       " 'dec': 6896317}"
      ]
     },
     "execution_count": 16,
     "metadata": {},
     "output_type": "execute_result"
    }
   ],
   "source": [
    "month_leng"
   ]
  },
  {
   "cell_type": "markdown",
   "metadata": {},
   "source": [
    "### Look at the number of records for each month in the .01 % reduced set"
   ]
  },
  {
   "cell_type": "code",
   "execution_count": 17,
   "metadata": {},
   "outputs": [],
   "source": [
    "month_leng_red0001 = {}\n",
    "for month in reduced_months0001:\n",
    "    month_leng_red0001[month] = len(reduced_months0001[month].index)"
   ]
  },
  {
   "cell_type": "code",
   "execution_count": 18,
   "metadata": {},
   "outputs": [
    {
     "data": {
      "text/plain": [
       "{'jan': 766,\n",
       " 'feb': 701,\n",
       " 'mar': 783,\n",
       " 'apr': 743,\n",
       " 'may': 756,\n",
       " 'jun': 694,\n",
       " 'jul': 631,\n",
       " 'aug': 607,\n",
       " 'sept': 656,\n",
       " 'oct': 721,\n",
       " 'nov': 687,\n",
       " 'dec': 689}"
      ]
     },
     "execution_count": 18,
     "metadata": {},
     "output_type": "execute_result"
    }
   ],
   "source": [
    "month_leng_red0001"
   ]
  },
  {
   "cell_type": "markdown",
   "metadata": {},
   "source": [
    "### Look at the number of records for each month in the .1% reduced set"
   ]
  },
  {
   "cell_type": "code",
   "execution_count": 19,
   "metadata": {},
   "outputs": [
    {
     "data": {
      "text/plain": [
       "{'jan': 7667,\n",
       " 'feb': 7019,\n",
       " 'mar': 7832,\n",
       " 'apr': 7433,\n",
       " 'may': 7565,\n",
       " 'jun': 6941,\n",
       " 'jul': 6310,\n",
       " 'aug': 6073,\n",
       " 'sept': 6567,\n",
       " 'oct': 7213,\n",
       " 'nov': 6878,\n",
       " 'dec': 6896}"
      ]
     },
     "execution_count": 19,
     "metadata": {},
     "output_type": "execute_result"
    }
   ],
   "source": [
    "month_leng_red001 = {}\n",
    "for month in reduced_months001:\n",
    "    month_leng_red001[month] = len(reduced_months001[month].index)\n",
    "month_leng_red001"
   ]
  },
  {
   "cell_type": "markdown",
   "metadata": {},
   "source": [
    "### Look at the number of records for each month in the 1% reduced set"
   ]
  },
  {
   "cell_type": "code",
   "execution_count": 20,
   "metadata": {},
   "outputs": [
    {
     "data": {
      "text/plain": [
       "{'jan': 76677,\n",
       " 'feb': 70193,\n",
       " 'mar': 78325,\n",
       " 'apr': 74331,\n",
       " 'may': 75652,\n",
       " 'jun': 69410,\n",
       " 'jul': 63104,\n",
       " 'aug': 60733,\n",
       " 'sept': 65677,\n",
       " 'oct': 72138,\n",
       " 'nov': 68781,\n",
       " 'dec': 68963}"
      ]
     },
     "execution_count": 20,
     "metadata": {},
     "output_type": "execute_result"
    }
   ],
   "source": [
    "month_leng_red01 = {}\n",
    "for month in reduced_months01:\n",
    "    month_leng_red01[month] = len(reduced_months01[month].index)\n",
    "month_leng_red01"
   ]
  },
  {
   "cell_type": "markdown",
   "metadata": {},
   "source": [
    "### Look at the number of records for each month in the 10% reduced set"
   ]
  },
  {
   "cell_type": "code",
   "execution_count": 21,
   "metadata": {},
   "outputs": [
    {
     "data": {
      "text/plain": [
       "{'jan': 766779,\n",
       " 'feb': 701937,\n",
       " 'mar': 783254,\n",
       " 'apr': 743313,\n",
       " 'may': 756526,\n",
       " 'jun': 694102,\n",
       " 'jul': 631041,\n",
       " 'aug': 607335,\n",
       " 'sept': 656778,\n",
       " 'oct': 721389,\n",
       " 'nov': 687811,\n",
       " 'dec': 689631}"
      ]
     },
     "execution_count": 21,
     "metadata": {},
     "output_type": "execute_result"
    }
   ],
   "source": [
    "month_leng_red1 = {}\n",
    "for month in reduced_months1:\n",
    "    month_leng_red1[month] = len(reduced_months1[month].index)\n",
    "month_leng_red1"
   ]
  },
  {
   "cell_type": "markdown",
   "metadata": {},
   "source": [
    "### Find out how many records there are for the whole year in the original data set"
   ]
  },
  {
   "cell_type": "code",
   "execution_count": 22,
   "metadata": {},
   "outputs": [
    {
     "data": {
      "text/plain": [
       "84399019"
      ]
     },
     "execution_count": 22,
     "metadata": {},
     "output_type": "execute_result"
    }
   ],
   "source": [
    "total_length = 0\n",
    "for month in month_leng:\n",
    "  total_length += month_leng[month]\n",
    "total_length"
   ]
  },
  {
   "cell_type": "markdown",
   "metadata": {},
   "source": [
    "### Number of records for the whole year in the .01% reduced data set"
   ]
  },
  {
   "cell_type": "code",
   "execution_count": 23,
   "metadata": {},
   "outputs": [
    {
     "data": {
      "text/plain": [
       "8434"
      ]
     },
     "execution_count": 23,
     "metadata": {},
     "output_type": "execute_result"
    }
   ],
   "source": [
    "total_length_reduced0001 = 0\n",
    "for month in month_leng_red0001:\n",
    "  total_length_reduced0001 += month_leng_red0001[month]\n",
    "total_length_reduced0001"
   ]
  },
  {
   "cell_type": "markdown",
   "metadata": {},
   "source": [
    "### Number of records for the whole year in the .1% reudced data set"
   ]
  },
  {
   "cell_type": "code",
   "execution_count": 24,
   "metadata": {},
   "outputs": [
    {
     "data": {
      "text/plain": [
       "84394"
      ]
     },
     "execution_count": 24,
     "metadata": {},
     "output_type": "execute_result"
    }
   ],
   "source": [
    "total_length_reduced001 = 0\n",
    "for month in month_leng_red001:\n",
    "  total_length_reduced001 += month_leng_red001[month]\n",
    "total_length_reduced001"
   ]
  },
  {
   "cell_type": "markdown",
   "metadata": {},
   "source": [
    "### Number of records for the whole year in the 1% reduced data set"
   ]
  },
  {
   "cell_type": "code",
   "execution_count": 25,
   "metadata": {},
   "outputs": [
    {
     "data": {
      "text/plain": [
       "843984"
      ]
     },
     "execution_count": 25,
     "metadata": {},
     "output_type": "execute_result"
    }
   ],
   "source": [
    "total_length_reduced01 = 0\n",
    "for month in month_leng_red01:\n",
    "  total_length_reduced01 += month_leng_red01[month]\n",
    "total_length_reduced01"
   ]
  },
  {
   "cell_type": "markdown",
   "metadata": {},
   "source": [
    "### Number of records for the whole year in the 10 % reduced data set"
   ]
  },
  {
   "cell_type": "code",
   "execution_count": 26,
   "metadata": {},
   "outputs": [
    {
     "data": {
      "text/plain": [
       "8439896"
      ]
     },
     "execution_count": 26,
     "metadata": {},
     "output_type": "execute_result"
    }
   ],
   "source": [
    "total_length_reduced1 = 0\n",
    "for month in month_leng_red1:\n",
    "  total_length_reduced1 += month_leng_red1[month]\n",
    "total_length_reduced1"
   ]
  }
 ],
 "metadata": {
  "kernelspec": {
   "display_name": "Python 3",
   "language": "python",
   "name": "python3"
  },
  "language_info": {
   "codemirror_mode": {
    "name": "ipython",
    "version": 3
   },
   "file_extension": ".py",
   "mimetype": "text/x-python",
   "name": "python",
   "nbconvert_exporter": "python",
   "pygments_lexer": "ipython3",
   "version": "3.7.4"
  }
 },
 "nbformat": 4,
 "nbformat_minor": 2
}
