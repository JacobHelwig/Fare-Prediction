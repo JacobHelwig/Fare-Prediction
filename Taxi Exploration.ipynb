{
 "cells": [
  {
   "cell_type": "code",
   "execution_count": 168,
   "metadata": {},
   "outputs": [],
   "source": [
    "import pandas as pd\n",
    "import matplotlib.pyplot as plt"
   ]
  },
  {
   "cell_type": "code",
   "execution_count": 169,
   "metadata": {},
   "outputs": [],
   "source": [
    "taxi_small = pd.read_csv(\"taxi-reduced-8434\").drop('Unnamed: 0',axis = 1)\n",
    "taxi_med = pd.read_csv(\"taxi-reduced-84394\").drop('Unnamed: 0',axis = 1)\n",
    "taxi_large = pd.read_csv(\"taxi-reduced-843984\").drop('Unnamed: 0',axis = 1)"
   ]
  },
  {
   "cell_type": "markdown",
   "metadata": {},
   "source": [
    "## Make a cleaned version that has outliers removed"
   ]
  },
  {
   "cell_type": "code",
   "execution_count": 170,
   "metadata": {},
   "outputs": [],
   "source": [
    "taxi_clean = taxi_large.copy()\n",
    "# separate the date and time into separate columns\n",
    "taxi_clean['pickup_datetime'] = pd.to_datetime(taxi_large['tpep_pickup_datetime'])\n",
    "taxi_clean['dropoff_datetime'] = pd.to_datetime(taxi_large['tpep_dropoff_datetime'])"
   ]
  },
  {
   "cell_type": "code",
   "execution_count": 171,
   "metadata": {},
   "outputs": [],
   "source": [
    "from datetime import datetime, date, timedelta\n",
    "import numpy as np\n",
    "\n",
    "# Compute ride time\n",
    "taxi_clean['ride_duration'] = np.vectorize(lambda drop, pick: drop - pick)(taxi_clean['dropoff_datetime'], \n",
    "                                                                           taxi_clean['pickup_datetime'])\n",
    "\n",
    "# Drop rides longer than 3 hours\n",
    "taxi_clean.drop(taxi_clean[taxi_clean['ride_duration'] > timedelta(hours=3)].index, inplace=True)\n",
    "\n",
    "# Drop rides less than 1 seconds\n",
    "taxi_clean.drop(taxi_clean[taxi_clean['ride_duration'] < timedelta(seconds=1)].index, inplace=True)"
   ]
  },
  {
   "cell_type": "code",
   "execution_count": 172,
   "metadata": {},
   "outputs": [],
   "source": [
    " # drop rides with negative distances\n",
    "taxi_clean.drop(taxi_clean[taxi_clean[\"trip_distance\"]<0].index, inplace = True)"
   ]
  },
  {
   "cell_type": "code",
   "execution_count": 173,
   "metadata": {},
   "outputs": [],
   "source": [
    "# drop rides with negative fares\n",
    "taxi_clean.drop(taxi_clean[taxi_clean[\"fare_amount\"]<=2.5].index, inplace = True)"
   ]
  },
  {
   "cell_type": "markdown",
   "metadata": {},
   "source": [
    "## Begin exploratory data analysis"
   ]
  },
  {
   "cell_type": "code",
   "execution_count": 174,
   "metadata": {},
   "outputs": [],
   "source": [
    "#read in key for taxi zones\n",
    "taxi_zones = pd.read_csv(\"https://s3.amazonaws.com/nyc-tlc/misc/taxi+_zone_lookup.csv\")"
   ]
  },
  {
   "cell_type": "code",
   "execution_count": 175,
   "metadata": {},
   "outputs": [
    {
     "data": {
      "text/html": [
       "<div>\n",
       "<style scoped>\n",
       "    .dataframe tbody tr th:only-of-type {\n",
       "        vertical-align: middle;\n",
       "    }\n",
       "\n",
       "    .dataframe tbody tr th {\n",
       "        vertical-align: top;\n",
       "    }\n",
       "\n",
       "    .dataframe thead th {\n",
       "        text-align: right;\n",
       "    }\n",
       "</style>\n",
       "<table border=\"1\" class=\"dataframe\">\n",
       "  <thead>\n",
       "    <tr style=\"text-align: right;\">\n",
       "      <th></th>\n",
       "      <th>LocationID</th>\n",
       "      <th>Borough</th>\n",
       "      <th>Zone</th>\n",
       "      <th>service_zone</th>\n",
       "    </tr>\n",
       "  </thead>\n",
       "  <tbody>\n",
       "    <tr>\n",
       "      <td>0</td>\n",
       "      <td>1</td>\n",
       "      <td>EWR</td>\n",
       "      <td>Newark Airport</td>\n",
       "      <td>EWR</td>\n",
       "    </tr>\n",
       "    <tr>\n",
       "      <td>1</td>\n",
       "      <td>2</td>\n",
       "      <td>Queens</td>\n",
       "      <td>Jamaica Bay</td>\n",
       "      <td>Boro Zone</td>\n",
       "    </tr>\n",
       "    <tr>\n",
       "      <td>2</td>\n",
       "      <td>3</td>\n",
       "      <td>Bronx</td>\n",
       "      <td>Allerton/Pelham Gardens</td>\n",
       "      <td>Boro Zone</td>\n",
       "    </tr>\n",
       "    <tr>\n",
       "      <td>3</td>\n",
       "      <td>4</td>\n",
       "      <td>Manhattan</td>\n",
       "      <td>Alphabet City</td>\n",
       "      <td>Yellow Zone</td>\n",
       "    </tr>\n",
       "    <tr>\n",
       "      <td>4</td>\n",
       "      <td>5</td>\n",
       "      <td>Staten Island</td>\n",
       "      <td>Arden Heights</td>\n",
       "      <td>Boro Zone</td>\n",
       "    </tr>\n",
       "  </tbody>\n",
       "</table>\n",
       "</div>"
      ],
      "text/plain": [
       "   LocationID        Borough                     Zone service_zone\n",
       "0           1            EWR           Newark Airport          EWR\n",
       "1           2         Queens              Jamaica Bay    Boro Zone\n",
       "2           3          Bronx  Allerton/Pelham Gardens    Boro Zone\n",
       "3           4      Manhattan            Alphabet City  Yellow Zone\n",
       "4           5  Staten Island            Arden Heights    Boro Zone"
      ]
     },
     "execution_count": 175,
     "metadata": {},
     "output_type": "execute_result"
    }
   ],
   "source": [
    "#display zones to understand what it tells us\n",
    "taxi_zones.head()"
   ]
  },
  {
   "cell_type": "code",
   "execution_count": 176,
   "metadata": {},
   "outputs": [
    {
     "data": {
      "text/plain": [
       "Governor's Island/Ellis Island/Liberty Island    3\n",
       "Corona                                           2\n",
       "DUMBO/Vinegar Hill                               1\n",
       "Battery Park                                     1\n",
       "Hillcrest/Pomonok                                1\n",
       "                                                ..\n",
       "Financial District South                         1\n",
       "Morrisania/Melrose                               1\n",
       "Bedford Park                                     1\n",
       "Starrett City                                    1\n",
       "Spuyten Duyvil/Kingsbridge                       1\n",
       "Name: Zone, Length: 261, dtype: int64"
      ]
     },
     "execution_count": 176,
     "metadata": {},
     "output_type": "execute_result"
    }
   ],
   "source": [
    "taxi_zones[\"Zone\"].value_counts()"
   ]
  },
  {
   "cell_type": "code",
   "execution_count": 177,
   "metadata": {},
   "outputs": [
    {
     "data": {
      "text/html": [
       "<div>\n",
       "<style scoped>\n",
       "    .dataframe tbody tr th:only-of-type {\n",
       "        vertical-align: middle;\n",
       "    }\n",
       "\n",
       "    .dataframe tbody tr th {\n",
       "        vertical-align: top;\n",
       "    }\n",
       "\n",
       "    .dataframe thead th {\n",
       "        text-align: right;\n",
       "    }\n",
       "</style>\n",
       "<table border=\"1\" class=\"dataframe\">\n",
       "  <thead>\n",
       "    <tr style=\"text-align: right;\">\n",
       "      <th></th>\n",
       "      <th>VendorID</th>\n",
       "      <th>tpep_pickup_datetime</th>\n",
       "      <th>tpep_dropoff_datetime</th>\n",
       "      <th>passenger_count</th>\n",
       "      <th>trip_distance</th>\n",
       "      <th>RatecodeID</th>\n",
       "      <th>store_and_fwd_flag</th>\n",
       "      <th>PULocationID</th>\n",
       "      <th>DOLocationID</th>\n",
       "      <th>payment_type</th>\n",
       "      <th>...</th>\n",
       "      <th>mta_tax</th>\n",
       "      <th>tip_amount</th>\n",
       "      <th>tolls_amount</th>\n",
       "      <th>improvement_surcharge</th>\n",
       "      <th>total_amount</th>\n",
       "      <th>congestion_surcharge</th>\n",
       "      <th>winter</th>\n",
       "      <th>spring</th>\n",
       "      <th>summer</th>\n",
       "      <th>fall</th>\n",
       "    </tr>\n",
       "  </thead>\n",
       "  <tbody>\n",
       "    <tr>\n",
       "      <td>0</td>\n",
       "      <td>2.0</td>\n",
       "      <td>2019-01-09 00:43:42</td>\n",
       "      <td>2019-01-09 00:52:16</td>\n",
       "      <td>1.0</td>\n",
       "      <td>1.81</td>\n",
       "      <td>1.0</td>\n",
       "      <td>N</td>\n",
       "      <td>142</td>\n",
       "      <td>229</td>\n",
       "      <td>1.0</td>\n",
       "      <td>...</td>\n",
       "      <td>0.5</td>\n",
       "      <td>2.45</td>\n",
       "      <td>0.0</td>\n",
       "      <td>0.3</td>\n",
       "      <td>12.25</td>\n",
       "      <td>NaN</td>\n",
       "      <td>1</td>\n",
       "      <td>0</td>\n",
       "      <td>0</td>\n",
       "      <td>0</td>\n",
       "    </tr>\n",
       "    <tr>\n",
       "      <td>1</td>\n",
       "      <td>1.0</td>\n",
       "      <td>2019-01-01 04:03:20</td>\n",
       "      <td>2019-01-01 04:18:54</td>\n",
       "      <td>1.0</td>\n",
       "      <td>4.30</td>\n",
       "      <td>1.0</td>\n",
       "      <td>N</td>\n",
       "      <td>140</td>\n",
       "      <td>202</td>\n",
       "      <td>1.0</td>\n",
       "      <td>...</td>\n",
       "      <td>0.5</td>\n",
       "      <td>3.25</td>\n",
       "      <td>0.0</td>\n",
       "      <td>0.3</td>\n",
       "      <td>19.55</td>\n",
       "      <td>NaN</td>\n",
       "      <td>1</td>\n",
       "      <td>0</td>\n",
       "      <td>0</td>\n",
       "      <td>0</td>\n",
       "    </tr>\n",
       "    <tr>\n",
       "      <td>2</td>\n",
       "      <td>2.0</td>\n",
       "      <td>2019-01-26 02:19:33</td>\n",
       "      <td>2019-01-26 02:25:37</td>\n",
       "      <td>1.0</td>\n",
       "      <td>1.56</td>\n",
       "      <td>1.0</td>\n",
       "      <td>N</td>\n",
       "      <td>164</td>\n",
       "      <td>68</td>\n",
       "      <td>1.0</td>\n",
       "      <td>...</td>\n",
       "      <td>0.5</td>\n",
       "      <td>1.00</td>\n",
       "      <td>0.0</td>\n",
       "      <td>0.3</td>\n",
       "      <td>9.30</td>\n",
       "      <td>0.0</td>\n",
       "      <td>1</td>\n",
       "      <td>0</td>\n",
       "      <td>0</td>\n",
       "      <td>0</td>\n",
       "    </tr>\n",
       "    <tr>\n",
       "      <td>3</td>\n",
       "      <td>1.0</td>\n",
       "      <td>2019-01-07 16:10:33</td>\n",
       "      <td>2019-01-07 16:26:20</td>\n",
       "      <td>1.0</td>\n",
       "      <td>0.80</td>\n",
       "      <td>1.0</td>\n",
       "      <td>N</td>\n",
       "      <td>170</td>\n",
       "      <td>230</td>\n",
       "      <td>2.0</td>\n",
       "      <td>...</td>\n",
       "      <td>0.5</td>\n",
       "      <td>0.00</td>\n",
       "      <td>0.0</td>\n",
       "      <td>0.3</td>\n",
       "      <td>12.30</td>\n",
       "      <td>NaN</td>\n",
       "      <td>1</td>\n",
       "      <td>0</td>\n",
       "      <td>0</td>\n",
       "      <td>0</td>\n",
       "    </tr>\n",
       "    <tr>\n",
       "      <td>4</td>\n",
       "      <td>1.0</td>\n",
       "      <td>2019-01-20 08:58:48</td>\n",
       "      <td>2019-01-20 09:04:30</td>\n",
       "      <td>1.0</td>\n",
       "      <td>0.50</td>\n",
       "      <td>1.0</td>\n",
       "      <td>N</td>\n",
       "      <td>65</td>\n",
       "      <td>65</td>\n",
       "      <td>1.0</td>\n",
       "      <td>...</td>\n",
       "      <td>0.5</td>\n",
       "      <td>1.25</td>\n",
       "      <td>0.0</td>\n",
       "      <td>0.3</td>\n",
       "      <td>7.55</td>\n",
       "      <td>NaN</td>\n",
       "      <td>1</td>\n",
       "      <td>0</td>\n",
       "      <td>0</td>\n",
       "      <td>0</td>\n",
       "    </tr>\n",
       "  </tbody>\n",
       "</table>\n",
       "<p>5 rows × 22 columns</p>\n",
       "</div>"
      ],
      "text/plain": [
       "   VendorID tpep_pickup_datetime tpep_dropoff_datetime  passenger_count  \\\n",
       "0       2.0  2019-01-09 00:43:42   2019-01-09 00:52:16              1.0   \n",
       "1       1.0  2019-01-01 04:03:20   2019-01-01 04:18:54              1.0   \n",
       "2       2.0  2019-01-26 02:19:33   2019-01-26 02:25:37              1.0   \n",
       "3       1.0  2019-01-07 16:10:33   2019-01-07 16:26:20              1.0   \n",
       "4       1.0  2019-01-20 08:58:48   2019-01-20 09:04:30              1.0   \n",
       "\n",
       "   trip_distance  RatecodeID store_and_fwd_flag  PULocationID  DOLocationID  \\\n",
       "0           1.81         1.0                  N           142           229   \n",
       "1           4.30         1.0                  N           140           202   \n",
       "2           1.56         1.0                  N           164            68   \n",
       "3           0.80         1.0                  N           170           230   \n",
       "4           0.50         1.0                  N            65            65   \n",
       "\n",
       "   payment_type  ...  mta_tax  tip_amount  tolls_amount  \\\n",
       "0           1.0  ...      0.5        2.45           0.0   \n",
       "1           1.0  ...      0.5        3.25           0.0   \n",
       "2           1.0  ...      0.5        1.00           0.0   \n",
       "3           2.0  ...      0.5        0.00           0.0   \n",
       "4           1.0  ...      0.5        1.25           0.0   \n",
       "\n",
       "   improvement_surcharge  total_amount  congestion_surcharge  winter  spring  \\\n",
       "0                    0.3         12.25                   NaN       1       0   \n",
       "1                    0.3         19.55                   NaN       1       0   \n",
       "2                    0.3          9.30                   0.0       1       0   \n",
       "3                    0.3         12.30                   NaN       1       0   \n",
       "4                    0.3          7.55                   NaN       1       0   \n",
       "\n",
       "   summer  fall  \n",
       "0       0     0  \n",
       "1       0     0  \n",
       "2       0     0  \n",
       "3       0     0  \n",
       "4       0     0  \n",
       "\n",
       "[5 rows x 22 columns]"
      ]
     },
     "execution_count": 177,
     "metadata": {},
     "output_type": "execute_result"
    }
   ],
   "source": [
    "#display taxi data for visual aid\n",
    "taxi_med.head()"
   ]
  },
  {
   "cell_type": "code",
   "execution_count": 178,
   "metadata": {},
   "outputs": [
    {
     "name": "stdout",
     "output_type": "stream",
     "text": [
      "Highest Average Cost:\n",
      "\t Zone: Newark Airport\n",
      "\t Borough: EWR\n",
      "\t Cost: 104.75\n",
      "\n",
      "Lowest Average Cost:\n",
      "\t Zone: Prospect Park\n",
      "\t Borough: Brooklyn\n",
      "\t Cost: 2.5\n"
     ]
    }
   ],
   "source": [
    "#lets analyze location v cost\n",
    "\n",
    "#which Pickup locations end up with the highest and lowest average cost\n",
    "loc_cost_group = taxi_med.groupby('PULocationID').mean()['fare_amount']\n",
    "loc_cost_group = loc_cost_group.sort_values()\n",
    "\n",
    "print('Highest Average Cost:')\n",
    "max_id = loc_cost_group.index[-1]\n",
    "max_borough = taxi_zones[ taxi_zones['LocationID'] == max_id ].iloc[0,1]\n",
    "max_zone= taxi_zones[ taxi_zones['LocationID'] == max_id ].iloc[0,2]\n",
    "print('\\t Zone:', max_zone)\n",
    "print('\\t Borough:', max_borough)\n",
    "print('\\t Cost:',loc_cost_group.max() )\n",
    "print()\n",
    "\n",
    "print('Lowest Average Cost:')\n",
    "min_id = loc_cost_group.index[0]\n",
    "min_borough = taxi_zones[ taxi_zones['LocationID'] == min_id ].iloc[0,1]\n",
    "min_zone= taxi_zones[ taxi_zones['LocationID'] == min_id ].iloc[0,2]\n",
    "print('\\t Zone:', min_zone)\n",
    "print('\\t Borough:',min_borough)\n",
    "print('\\t Cost:',loc_cost_group.min())"
   ]
  },
  {
   "cell_type": "code",
   "execution_count": 179,
   "metadata": {},
   "outputs": [
    {
     "data": {
      "text/html": [
       "<div>\n",
       "<style scoped>\n",
       "    .dataframe tbody tr th:only-of-type {\n",
       "        vertical-align: middle;\n",
       "    }\n",
       "\n",
       "    .dataframe tbody tr th {\n",
       "        vertical-align: top;\n",
       "    }\n",
       "\n",
       "    .dataframe thead th {\n",
       "        text-align: right;\n",
       "    }\n",
       "</style>\n",
       "<table border=\"1\" class=\"dataframe\">\n",
       "  <thead>\n",
       "    <tr style=\"text-align: right;\">\n",
       "      <th></th>\n",
       "      <th>count</th>\n",
       "      <th>mean</th>\n",
       "      <th>std</th>\n",
       "      <th>min</th>\n",
       "      <th>25%</th>\n",
       "      <th>50%</th>\n",
       "      <th>75%</th>\n",
       "      <th>max</th>\n",
       "    </tr>\n",
       "    <tr>\n",
       "      <th>PULocationID</th>\n",
       "      <th></th>\n",
       "      <th></th>\n",
       "      <th></th>\n",
       "      <th></th>\n",
       "      <th></th>\n",
       "      <th></th>\n",
       "      <th></th>\n",
       "      <th></th>\n",
       "    </tr>\n",
       "  </thead>\n",
       "  <tbody>\n",
       "    <tr>\n",
       "      <td>1</td>\n",
       "      <td>8.0</td>\n",
       "      <td>104.750000</td>\n",
       "      <td>58.301556</td>\n",
       "      <td>20.0</td>\n",
       "      <td>88.750</td>\n",
       "      <td>97.50</td>\n",
       "      <td>104.500</td>\n",
       "      <td>230.00</td>\n",
       "    </tr>\n",
       "    <tr>\n",
       "      <td>3</td>\n",
       "      <td>1.0</td>\n",
       "      <td>13.500000</td>\n",
       "      <td>NaN</td>\n",
       "      <td>13.5</td>\n",
       "      <td>13.500</td>\n",
       "      <td>13.50</td>\n",
       "      <td>13.500</td>\n",
       "      <td>13.50</td>\n",
       "    </tr>\n",
       "    <tr>\n",
       "      <td>4</td>\n",
       "      <td>141.0</td>\n",
       "      <td>12.976950</td>\n",
       "      <td>8.233845</td>\n",
       "      <td>-3.0</td>\n",
       "      <td>8.000</td>\n",
       "      <td>11.00</td>\n",
       "      <td>16.000</td>\n",
       "      <td>52.00</td>\n",
       "    </tr>\n",
       "    <tr>\n",
       "      <td>7</td>\n",
       "      <td>127.0</td>\n",
       "      <td>11.911102</td>\n",
       "      <td>10.572925</td>\n",
       "      <td>-2.5</td>\n",
       "      <td>4.750</td>\n",
       "      <td>7.50</td>\n",
       "      <td>16.500</td>\n",
       "      <td>49.00</td>\n",
       "    </tr>\n",
       "    <tr>\n",
       "      <td>8</td>\n",
       "      <td>2.0</td>\n",
       "      <td>29.750000</td>\n",
       "      <td>31.466252</td>\n",
       "      <td>7.5</td>\n",
       "      <td>18.625</td>\n",
       "      <td>29.75</td>\n",
       "      <td>40.875</td>\n",
       "      <td>52.00</td>\n",
       "    </tr>\n",
       "    <tr>\n",
       "      <td>...</td>\n",
       "      <td>...</td>\n",
       "      <td>...</td>\n",
       "      <td>...</td>\n",
       "      <td>...</td>\n",
       "      <td>...</td>\n",
       "      <td>...</td>\n",
       "      <td>...</td>\n",
       "      <td>...</td>\n",
       "    </tr>\n",
       "    <tr>\n",
       "      <td>261</td>\n",
       "      <td>483.0</td>\n",
       "      <td>17.103561</td>\n",
       "      <td>12.023754</td>\n",
       "      <td>2.5</td>\n",
       "      <td>9.000</td>\n",
       "      <td>14.50</td>\n",
       "      <td>21.000</td>\n",
       "      <td>71.50</td>\n",
       "    </tr>\n",
       "    <tr>\n",
       "      <td>262</td>\n",
       "      <td>1104.0</td>\n",
       "      <td>10.160226</td>\n",
       "      <td>6.528599</td>\n",
       "      <td>-6.5</td>\n",
       "      <td>6.000</td>\n",
       "      <td>8.50</td>\n",
       "      <td>12.500</td>\n",
       "      <td>60.00</td>\n",
       "    </tr>\n",
       "    <tr>\n",
       "      <td>263</td>\n",
       "      <td>1560.0</td>\n",
       "      <td>9.733654</td>\n",
       "      <td>7.018809</td>\n",
       "      <td>-9.5</td>\n",
       "      <td>5.000</td>\n",
       "      <td>7.50</td>\n",
       "      <td>12.000</td>\n",
       "      <td>72.00</td>\n",
       "    </tr>\n",
       "    <tr>\n",
       "      <td>264</td>\n",
       "      <td>786.0</td>\n",
       "      <td>15.257570</td>\n",
       "      <td>19.013951</td>\n",
       "      <td>-2.5</td>\n",
       "      <td>6.000</td>\n",
       "      <td>9.50</td>\n",
       "      <td>16.375</td>\n",
       "      <td>350.00</td>\n",
       "    </tr>\n",
       "    <tr>\n",
       "      <td>265</td>\n",
       "      <td>34.0</td>\n",
       "      <td>81.092059</td>\n",
       "      <td>98.495287</td>\n",
       "      <td>0.0</td>\n",
       "      <td>10.125</td>\n",
       "      <td>64.00</td>\n",
       "      <td>105.250</td>\n",
       "      <td>418.78</td>\n",
       "    </tr>\n",
       "  </tbody>\n",
       "</table>\n",
       "<p>226 rows × 8 columns</p>\n",
       "</div>"
      ],
      "text/plain": [
       "               count        mean        std   min     25%    50%      75%  \\\n",
       "PULocationID                                                                \n",
       "1                8.0  104.750000  58.301556  20.0  88.750  97.50  104.500   \n",
       "3                1.0   13.500000        NaN  13.5  13.500  13.50   13.500   \n",
       "4              141.0   12.976950   8.233845  -3.0   8.000  11.00   16.000   \n",
       "7              127.0   11.911102  10.572925  -2.5   4.750   7.50   16.500   \n",
       "8                2.0   29.750000  31.466252   7.5  18.625  29.75   40.875   \n",
       "...              ...         ...        ...   ...     ...    ...      ...   \n",
       "261            483.0   17.103561  12.023754   2.5   9.000  14.50   21.000   \n",
       "262           1104.0   10.160226   6.528599  -6.5   6.000   8.50   12.500   \n",
       "263           1560.0    9.733654   7.018809  -9.5   5.000   7.50   12.000   \n",
       "264            786.0   15.257570  19.013951  -2.5   6.000   9.50   16.375   \n",
       "265             34.0   81.092059  98.495287   0.0  10.125  64.00  105.250   \n",
       "\n",
       "                 max  \n",
       "PULocationID          \n",
       "1             230.00  \n",
       "3              13.50  \n",
       "4              52.00  \n",
       "7              49.00  \n",
       "8              52.00  \n",
       "...              ...  \n",
       "261            71.50  \n",
       "262            60.00  \n",
       "263            72.00  \n",
       "264           350.00  \n",
       "265           418.78  \n",
       "\n",
       "[226 rows x 8 columns]"
      ]
     },
     "execution_count": 179,
     "metadata": {},
     "output_type": "execute_result"
    }
   ],
   "source": [
    "taxi_med.groupby('PULocationID')['fare_amount'].describe()"
   ]
  },
  {
   "cell_type": "code",
   "execution_count": 180,
   "metadata": {},
   "outputs": [
    {
     "name": "stdout",
     "output_type": "stream",
     "text": [
      "Highest Average Cost:\n",
      "\t Zone: Rossville/Woodrow\n",
      "\t Borough: Staten Island\n",
      "\t Cost: 105.0\n",
      "\n",
      "Lowest Average Cost:\n",
      "\t Zone: Saint Michaels Cemetery/Woodside\n",
      "\t Borough: Queens\n",
      "\t Cost: 3.375\n"
     ]
    }
   ],
   "source": [
    "#compare to drop off location.\n",
    "#see if values are different\n",
    "#which drop off locations have the highest and lowest average cost\n",
    "loc_cost_group = taxi_med.groupby('DOLocationID').mean()['fare_amount']\n",
    "loc_cost_group = loc_cost_group.sort_values()\n",
    "\n",
    "print('Highest Average Cost:')\n",
    "max_id = loc_cost_group.index[-1]\n",
    "max_borough = taxi_zones[ taxi_zones['LocationID'] == max_id ].iloc[0,1]\n",
    "max_zone= taxi_zones[ taxi_zones['LocationID'] == max_id ].iloc[0,2]\n",
    "print('\\t Zone:', max_zone)\n",
    "print('\\t Borough:', max_borough)\n",
    "print('\\t Cost:',loc_cost_group.max() )\n",
    "print()\n",
    "\n",
    "print('Lowest Average Cost:')\n",
    "min_id = loc_cost_group.index[0]\n",
    "min_borough = taxi_zones[ taxi_zones['LocationID'] == min_id ].iloc[0,1]\n",
    "min_zone= taxi_zones[ taxi_zones['LocationID'] == min_id ].iloc[0,2]\n",
    "print('\\t Zone:', min_zone)\n",
    "print('\\t Borough:',min_borough)\n",
    "print('\\t Cost:',loc_cost_group.min())\n"
   ]
  },
  {
   "cell_type": "code",
   "execution_count": 181,
   "metadata": {},
   "outputs": [
    {
     "data": {
      "text/html": [
       "<div>\n",
       "<style scoped>\n",
       "    .dataframe tbody tr th:only-of-type {\n",
       "        vertical-align: middle;\n",
       "    }\n",
       "\n",
       "    .dataframe tbody tr th {\n",
       "        vertical-align: top;\n",
       "    }\n",
       "\n",
       "    .dataframe thead th {\n",
       "        text-align: right;\n",
       "    }\n",
       "</style>\n",
       "<table border=\"1\" class=\"dataframe\">\n",
       "  <thead>\n",
       "    <tr style=\"text-align: right;\">\n",
       "      <th></th>\n",
       "      <th>count</th>\n",
       "      <th>mean</th>\n",
       "      <th>std</th>\n",
       "      <th>min</th>\n",
       "      <th>25%</th>\n",
       "      <th>50%</th>\n",
       "      <th>75%</th>\n",
       "      <th>max</th>\n",
       "    </tr>\n",
       "    <tr>\n",
       "      <th>DOLocationID</th>\n",
       "      <th></th>\n",
       "      <th></th>\n",
       "      <th></th>\n",
       "      <th></th>\n",
       "      <th></th>\n",
       "      <th></th>\n",
       "      <th></th>\n",
       "      <th></th>\n",
       "    </tr>\n",
       "  </thead>\n",
       "  <tbody>\n",
       "    <tr>\n",
       "      <td>1</td>\n",
       "      <td>166.0</td>\n",
       "      <td>71.018072</td>\n",
       "      <td>21.795321</td>\n",
       "      <td>-77.5</td>\n",
       "      <td>64.1250</td>\n",
       "      <td>68.75</td>\n",
       "      <td>75.000</td>\n",
       "      <td>230.0</td>\n",
       "    </tr>\n",
       "    <tr>\n",
       "      <td>3</td>\n",
       "      <td>8.0</td>\n",
       "      <td>40.148750</td>\n",
       "      <td>10.223077</td>\n",
       "      <td>27.0</td>\n",
       "      <td>34.1425</td>\n",
       "      <td>37.25</td>\n",
       "      <td>44.250</td>\n",
       "      <td>59.5</td>\n",
       "    </tr>\n",
       "    <tr>\n",
       "      <td>4</td>\n",
       "      <td>347.0</td>\n",
       "      <td>10.979251</td>\n",
       "      <td>7.658686</td>\n",
       "      <td>-11.5</td>\n",
       "      <td>6.2500</td>\n",
       "      <td>9.50</td>\n",
       "      <td>13.000</td>\n",
       "      <td>52.0</td>\n",
       "    </tr>\n",
       "    <tr>\n",
       "      <td>6</td>\n",
       "      <td>1.0</td>\n",
       "      <td>39.000000</td>\n",
       "      <td>NaN</td>\n",
       "      <td>39.0</td>\n",
       "      <td>39.0000</td>\n",
       "      <td>39.00</td>\n",
       "      <td>39.000</td>\n",
       "      <td>39.0</td>\n",
       "    </tr>\n",
       "    <tr>\n",
       "      <td>7</td>\n",
       "      <td>333.0</td>\n",
       "      <td>17.407748</td>\n",
       "      <td>10.518832</td>\n",
       "      <td>-41.0</td>\n",
       "      <td>11.0000</td>\n",
       "      <td>16.00</td>\n",
       "      <td>22.500</td>\n",
       "      <td>53.0</td>\n",
       "    </tr>\n",
       "    <tr>\n",
       "      <td>...</td>\n",
       "      <td>...</td>\n",
       "      <td>...</td>\n",
       "      <td>...</td>\n",
       "      <td>...</td>\n",
       "      <td>...</td>\n",
       "      <td>...</td>\n",
       "      <td>...</td>\n",
       "      <td>...</td>\n",
       "    </tr>\n",
       "    <tr>\n",
       "      <td>261</td>\n",
       "      <td>382.0</td>\n",
       "      <td>17.670681</td>\n",
       "      <td>12.410479</td>\n",
       "      <td>2.5</td>\n",
       "      <td>8.6250</td>\n",
       "      <td>15.50</td>\n",
       "      <td>21.500</td>\n",
       "      <td>66.0</td>\n",
       "    </tr>\n",
       "    <tr>\n",
       "      <td>262</td>\n",
       "      <td>1105.0</td>\n",
       "      <td>10.808597</td>\n",
       "      <td>7.636159</td>\n",
       "      <td>0.0</td>\n",
       "      <td>6.0000</td>\n",
       "      <td>9.00</td>\n",
       "      <td>13.000</td>\n",
       "      <td>52.0</td>\n",
       "    </tr>\n",
       "    <tr>\n",
       "      <td>263</td>\n",
       "      <td>1542.0</td>\n",
       "      <td>10.276440</td>\n",
       "      <td>7.440437</td>\n",
       "      <td>-6.0</td>\n",
       "      <td>5.5000</td>\n",
       "      <td>8.00</td>\n",
       "      <td>13.000</td>\n",
       "      <td>52.0</td>\n",
       "    </tr>\n",
       "    <tr>\n",
       "      <td>264</td>\n",
       "      <td>783.0</td>\n",
       "      <td>18.312656</td>\n",
       "      <td>25.575095</td>\n",
       "      <td>-2.5</td>\n",
       "      <td>6.0000</td>\n",
       "      <td>10.00</td>\n",
       "      <td>19.700</td>\n",
       "      <td>375.0</td>\n",
       "    </tr>\n",
       "    <tr>\n",
       "      <td>265</td>\n",
       "      <td>204.0</td>\n",
       "      <td>74.043235</td>\n",
       "      <td>62.932833</td>\n",
       "      <td>-53.5</td>\n",
       "      <td>32.8750</td>\n",
       "      <td>56.50</td>\n",
       "      <td>100.875</td>\n",
       "      <td>425.0</td>\n",
       "    </tr>\n",
       "  </tbody>\n",
       "</table>\n",
       "<p>250 rows × 8 columns</p>\n",
       "</div>"
      ],
      "text/plain": [
       "               count       mean        std   min      25%    50%      75%  \\\n",
       "DOLocationID                                                                \n",
       "1              166.0  71.018072  21.795321 -77.5  64.1250  68.75   75.000   \n",
       "3                8.0  40.148750  10.223077  27.0  34.1425  37.25   44.250   \n",
       "4              347.0  10.979251   7.658686 -11.5   6.2500   9.50   13.000   \n",
       "6                1.0  39.000000        NaN  39.0  39.0000  39.00   39.000   \n",
       "7              333.0  17.407748  10.518832 -41.0  11.0000  16.00   22.500   \n",
       "...              ...        ...        ...   ...      ...    ...      ...   \n",
       "261            382.0  17.670681  12.410479   2.5   8.6250  15.50   21.500   \n",
       "262           1105.0  10.808597   7.636159   0.0   6.0000   9.00   13.000   \n",
       "263           1542.0  10.276440   7.440437  -6.0   5.5000   8.00   13.000   \n",
       "264            783.0  18.312656  25.575095  -2.5   6.0000  10.00   19.700   \n",
       "265            204.0  74.043235  62.932833 -53.5  32.8750  56.50  100.875   \n",
       "\n",
       "                max  \n",
       "DOLocationID         \n",
       "1             230.0  \n",
       "3              59.5  \n",
       "4              52.0  \n",
       "6              39.0  \n",
       "7              53.0  \n",
       "...             ...  \n",
       "261            66.0  \n",
       "262            52.0  \n",
       "263            52.0  \n",
       "264           375.0  \n",
       "265           425.0  \n",
       "\n",
       "[250 rows x 8 columns]"
      ]
     },
     "execution_count": 181,
     "metadata": {},
     "output_type": "execute_result"
    }
   ],
   "source": [
    "taxi_med.groupby('DOLocationID')['fare_amount'].describe()"
   ]
  },
  {
   "cell_type": "code",
   "execution_count": 182,
   "metadata": {},
   "outputs": [
    {
     "name": "stdout",
     "output_type": "stream",
     "text": [
      "min fare: -77.5\n",
      "max fare: 425.0\n"
     ]
    }
   ],
   "source": [
    "print('min fare:', taxi_med['fare_amount'].min())\n",
    "print('max fare:', taxi_med['fare_amount'].max())\n",
    "\n",
    "#possible issue with having negative fare amounts. Something to look into. Maybe these are bas records."
   ]
  },
  {
   "cell_type": "code",
   "execution_count": 183,
   "metadata": {},
   "outputs": [
    {
     "data": {
      "text/plain": [
       "<matplotlib.axes._subplots.AxesSubplot at 0x25906c1a808>"
      ]
     },
     "execution_count": 183,
     "metadata": {},
     "output_type": "execute_result"
    },
    {
     "data": {
      "image/png": "[encoded data removed]",
      "text/plain": [
       "<Figure size 432x288 with 1 Axes>"
      ]
     },
     "metadata": {
      "needs_background": "light"
     },
     "output_type": "display_data"
    }
   ],
   "source": [
    "import seaborn as sns\n",
    "sns.boxplot(y=taxi_med['fare_amount'])\n",
    "#this shows some very clear outliers in our data. "
   ]
  },
  {
   "cell_type": "code",
   "execution_count": 184,
   "metadata": {},
   "outputs": [
    {
     "data": {
      "text/html": [
       "<div>\n",
       "<style scoped>\n",
       "    .dataframe tbody tr th:only-of-type {\n",
       "        vertical-align: middle;\n",
       "    }\n",
       "\n",
       "    .dataframe tbody tr th {\n",
       "        vertical-align: top;\n",
       "    }\n",
       "\n",
       "    .dataframe thead th {\n",
       "        text-align: right;\n",
       "    }\n",
       "</style>\n",
       "<table border=\"1\" class=\"dataframe\">\n",
       "  <thead>\n",
       "    <tr style=\"text-align: right;\">\n",
       "      <th></th>\n",
       "      <th>VendorID</th>\n",
       "      <th>tpep_pickup_datetime</th>\n",
       "      <th>tpep_dropoff_datetime</th>\n",
       "      <th>passenger_count</th>\n",
       "      <th>trip_distance</th>\n",
       "      <th>RatecodeID</th>\n",
       "      <th>store_and_fwd_flag</th>\n",
       "      <th>PULocationID</th>\n",
       "      <th>DOLocationID</th>\n",
       "      <th>payment_type</th>\n",
       "      <th>...</th>\n",
       "      <th>mta_tax</th>\n",
       "      <th>tip_amount</th>\n",
       "      <th>tolls_amount</th>\n",
       "      <th>improvement_surcharge</th>\n",
       "      <th>total_amount</th>\n",
       "      <th>congestion_surcharge</th>\n",
       "      <th>winter</th>\n",
       "      <th>spring</th>\n",
       "      <th>summer</th>\n",
       "      <th>fall</th>\n",
       "    </tr>\n",
       "  </thead>\n",
       "  <tbody>\n",
       "    <tr>\n",
       "      <td>26027</td>\n",
       "      <td>2.0</td>\n",
       "      <td>2019-04-02 12:39:52</td>\n",
       "      <td>2019-04-02 13:41:04</td>\n",
       "      <td>3.0</td>\n",
       "      <td>40.30</td>\n",
       "      <td>3.0</td>\n",
       "      <td>N</td>\n",
       "      <td>132</td>\n",
       "      <td>1</td>\n",
       "      <td>2.0</td>\n",
       "      <td>...</td>\n",
       "      <td>0.0</td>\n",
       "      <td>0.00</td>\n",
       "      <td>10.50</td>\n",
       "      <td>0.3</td>\n",
       "      <td>134.30</td>\n",
       "      <td>0.0</td>\n",
       "      <td>0</td>\n",
       "      <td>1</td>\n",
       "      <td>0</td>\n",
       "      <td>0</td>\n",
       "    </tr>\n",
       "    <tr>\n",
       "      <td>32862</td>\n",
       "      <td>2.0</td>\n",
       "      <td>2019-05-12 16:24:19</td>\n",
       "      <td>2019-05-12 17:38:14</td>\n",
       "      <td>4.0</td>\n",
       "      <td>41.95</td>\n",
       "      <td>5.0</td>\n",
       "      <td>N</td>\n",
       "      <td>132</td>\n",
       "      <td>265</td>\n",
       "      <td>1.0</td>\n",
       "      <td>...</td>\n",
       "      <td>0.0</td>\n",
       "      <td>10.00</td>\n",
       "      <td>24.74</td>\n",
       "      <td>0.3</td>\n",
       "      <td>460.04</td>\n",
       "      <td>0.0</td>\n",
       "      <td>0</td>\n",
       "      <td>1</td>\n",
       "      <td>0</td>\n",
       "      <td>0</td>\n",
       "    </tr>\n",
       "    <tr>\n",
       "      <td>37184</td>\n",
       "      <td>1.0</td>\n",
       "      <td>2019-05-09 11:42:50</td>\n",
       "      <td>2019-05-09 13:02:29</td>\n",
       "      <td>1.0</td>\n",
       "      <td>51.40</td>\n",
       "      <td>1.0</td>\n",
       "      <td>N</td>\n",
       "      <td>138</td>\n",
       "      <td>138</td>\n",
       "      <td>1.0</td>\n",
       "      <td>...</td>\n",
       "      <td>0.5</td>\n",
       "      <td>15.00</td>\n",
       "      <td>0.00</td>\n",
       "      <td>0.3</td>\n",
       "      <td>154.30</td>\n",
       "      <td>0.0</td>\n",
       "      <td>0</td>\n",
       "      <td>1</td>\n",
       "      <td>0</td>\n",
       "      <td>0</td>\n",
       "    </tr>\n",
       "    <tr>\n",
       "      <td>53291</td>\n",
       "      <td>2.0</td>\n",
       "      <td>2019-08-20 15:12:19</td>\n",
       "      <td>2019-08-20 17:24:43</td>\n",
       "      <td>1.0</td>\n",
       "      <td>95.29</td>\n",
       "      <td>1.0</td>\n",
       "      <td>N</td>\n",
       "      <td>132</td>\n",
       "      <td>265</td>\n",
       "      <td>1.0</td>\n",
       "      <td>...</td>\n",
       "      <td>0.5</td>\n",
       "      <td>50.56</td>\n",
       "      <td>0.00</td>\n",
       "      <td>0.3</td>\n",
       "      <td>303.36</td>\n",
       "      <td>0.0</td>\n",
       "      <td>0</td>\n",
       "      <td>0</td>\n",
       "      <td>1</td>\n",
       "      <td>0</td>\n",
       "    </tr>\n",
       "    <tr>\n",
       "      <td>68751</td>\n",
       "      <td>2.0</td>\n",
       "      <td>2019-10-12 00:24:38</td>\n",
       "      <td>2019-10-12 02:10:02</td>\n",
       "      <td>1.0</td>\n",
       "      <td>76.01</td>\n",
       "      <td>5.0</td>\n",
       "      <td>N</td>\n",
       "      <td>10</td>\n",
       "      <td>265</td>\n",
       "      <td>1.0</td>\n",
       "      <td>...</td>\n",
       "      <td>0.5</td>\n",
       "      <td>40.66</td>\n",
       "      <td>0.00</td>\n",
       "      <td>0.3</td>\n",
       "      <td>243.96</td>\n",
       "      <td>2.5</td>\n",
       "      <td>0</td>\n",
       "      <td>0</td>\n",
       "      <td>0</td>\n",
       "      <td>1</td>\n",
       "    </tr>\n",
       "    <tr>\n",
       "      <td>72142</td>\n",
       "      <td>2.0</td>\n",
       "      <td>2019-11-04 23:52:52</td>\n",
       "      <td>2019-11-05 00:38:42</td>\n",
       "      <td>2.0</td>\n",
       "      <td>40.50</td>\n",
       "      <td>5.0</td>\n",
       "      <td>N</td>\n",
       "      <td>132</td>\n",
       "      <td>265</td>\n",
       "      <td>1.0</td>\n",
       "      <td>...</td>\n",
       "      <td>0.5</td>\n",
       "      <td>9.00</td>\n",
       "      <td>6.12</td>\n",
       "      <td>0.3</td>\n",
       "      <td>200.92</td>\n",
       "      <td>0.0</td>\n",
       "      <td>0</td>\n",
       "      <td>0</td>\n",
       "      <td>0</td>\n",
       "      <td>1</td>\n",
       "    </tr>\n",
       "    <tr>\n",
       "      <td>74900</td>\n",
       "      <td>1.0</td>\n",
       "      <td>2019-11-09 15:31:58</td>\n",
       "      <td>2019-11-09 17:29:44</td>\n",
       "      <td>1.0</td>\n",
       "      <td>93.60</td>\n",
       "      <td>5.0</td>\n",
       "      <td>N</td>\n",
       "      <td>132</td>\n",
       "      <td>265</td>\n",
       "      <td>1.0</td>\n",
       "      <td>...</td>\n",
       "      <td>0.0</td>\n",
       "      <td>5.00</td>\n",
       "      <td>30.54</td>\n",
       "      <td>0.3</td>\n",
       "      <td>310.84</td>\n",
       "      <td>0.0</td>\n",
       "      <td>0</td>\n",
       "      <td>0</td>\n",
       "      <td>0</td>\n",
       "      <td>1</td>\n",
       "    </tr>\n",
       "    <tr>\n",
       "      <td>79683</td>\n",
       "      <td>2.0</td>\n",
       "      <td>2019-12-17 13:48:49</td>\n",
       "      <td>2019-12-17 15:26:43</td>\n",
       "      <td>1.0</td>\n",
       "      <td>42.14</td>\n",
       "      <td>5.0</td>\n",
       "      <td>N</td>\n",
       "      <td>132</td>\n",
       "      <td>265</td>\n",
       "      <td>1.0</td>\n",
       "      <td>...</td>\n",
       "      <td>0.0</td>\n",
       "      <td>27.00</td>\n",
       "      <td>16.62</td>\n",
       "      <td>0.3</td>\n",
       "      <td>201.92</td>\n",
       "      <td>0.0</td>\n",
       "      <td>1</td>\n",
       "      <td>0</td>\n",
       "      <td>0</td>\n",
       "      <td>0</td>\n",
       "    </tr>\n",
       "    <tr>\n",
       "      <td>80668</td>\n",
       "      <td>2.0</td>\n",
       "      <td>2019-12-14 22:07:57</td>\n",
       "      <td>2019-12-15 00:24:01</td>\n",
       "      <td>1.0</td>\n",
       "      <td>91.41</td>\n",
       "      <td>4.0</td>\n",
       "      <td>N</td>\n",
       "      <td>114</td>\n",
       "      <td>265</td>\n",
       "      <td>2.0</td>\n",
       "      <td>...</td>\n",
       "      <td>0.5</td>\n",
       "      <td>0.00</td>\n",
       "      <td>10.50</td>\n",
       "      <td>0.3</td>\n",
       "      <td>277.80</td>\n",
       "      <td>2.5</td>\n",
       "      <td>1</td>\n",
       "      <td>0</td>\n",
       "      <td>0</td>\n",
       "      <td>0</td>\n",
       "    </tr>\n",
       "  </tbody>\n",
       "</table>\n",
       "<p>9 rows × 22 columns</p>\n",
       "</div>"
      ],
      "text/plain": [
       "       VendorID tpep_pickup_datetime tpep_dropoff_datetime  passenger_count  \\\n",
       "26027       2.0  2019-04-02 12:39:52   2019-04-02 13:41:04              3.0   \n",
       "32862       2.0  2019-05-12 16:24:19   2019-05-12 17:38:14              4.0   \n",
       "37184       1.0  2019-05-09 11:42:50   2019-05-09 13:02:29              1.0   \n",
       "53291       2.0  2019-08-20 15:12:19   2019-08-20 17:24:43              1.0   \n",
       "68751       2.0  2019-10-12 00:24:38   2019-10-12 02:10:02              1.0   \n",
       "72142       2.0  2019-11-04 23:52:52   2019-11-05 00:38:42              2.0   \n",
       "74900       1.0  2019-11-09 15:31:58   2019-11-09 17:29:44              1.0   \n",
       "79683       2.0  2019-12-17 13:48:49   2019-12-17 15:26:43              1.0   \n",
       "80668       2.0  2019-12-14 22:07:57   2019-12-15 00:24:01              1.0   \n",
       "\n",
       "       trip_distance  RatecodeID store_and_fwd_flag  PULocationID  \\\n",
       "26027          40.30         3.0                  N           132   \n",
       "32862          41.95         5.0                  N           132   \n",
       "37184          51.40         1.0                  N           138   \n",
       "53291          95.29         1.0                  N           132   \n",
       "68751          76.01         5.0                  N            10   \n",
       "72142          40.50         5.0                  N           132   \n",
       "74900          93.60         5.0                  N           132   \n",
       "79683          42.14         5.0                  N           132   \n",
       "80668          91.41         4.0                  N           114   \n",
       "\n",
       "       DOLocationID  payment_type  ...  mta_tax  tip_amount  tolls_amount  \\\n",
       "26027             1           2.0  ...      0.0        0.00         10.50   \n",
       "32862           265           1.0  ...      0.0       10.00         24.74   \n",
       "37184           138           1.0  ...      0.5       15.00          0.00   \n",
       "53291           265           1.0  ...      0.5       50.56          0.00   \n",
       "68751           265           1.0  ...      0.5       40.66          0.00   \n",
       "72142           265           1.0  ...      0.5        9.00          6.12   \n",
       "74900           265           1.0  ...      0.0        5.00         30.54   \n",
       "79683           265           1.0  ...      0.0       27.00         16.62   \n",
       "80668           265           2.0  ...      0.5        0.00         10.50   \n",
       "\n",
       "       improvement_surcharge  total_amount  congestion_surcharge  winter  \\\n",
       "26027                    0.3        134.30                   0.0       0   \n",
       "32862                    0.3        460.04                   0.0       0   \n",
       "37184                    0.3        154.30                   0.0       0   \n",
       "53291                    0.3        303.36                   0.0       0   \n",
       "68751                    0.3        243.96                   2.5       0   \n",
       "72142                    0.3        200.92                   0.0       0   \n",
       "74900                    0.3        310.84                   0.0       0   \n",
       "79683                    0.3        201.92                   0.0       1   \n",
       "80668                    0.3        277.80                   2.5       1   \n",
       "\n",
       "       spring  summer  fall  \n",
       "26027       1       0     0  \n",
       "32862       1       0     0  \n",
       "37184       1       0     0  \n",
       "53291       0       1     0  \n",
       "68751       0       0     1  \n",
       "72142       0       0     1  \n",
       "74900       0       0     1  \n",
       "79683       0       0     0  \n",
       "80668       0       0     0  \n",
       "\n",
       "[9 rows x 22 columns]"
      ]
     },
     "execution_count": 184,
     "metadata": {},
     "output_type": "execute_result"
    },
    {
     "data": {
      "image/png": "[encoded data removed]",
      "text/plain": [
       "<Figure size 432x288 with 1 Axes>"
      ]
     },
     "metadata": {
      "needs_background": "light"
     },
     "output_type": "display_data"
    }
   ],
   "source": [
    "sns.boxplot(y = taxi_med['trip_distance'])\n",
    "\n",
    "\n",
    "taxi_med[ taxi_med['trip_distance'] > 40]\n",
    "#we have only 9 instances where the trip was more than 40 miles\n"
   ]
  },
  {
   "cell_type": "code",
   "execution_count": 185,
   "metadata": {},
   "outputs": [
    {
     "data": {
      "text/plain": [
       "<matplotlib.axes._subplots.AxesSubplot at 0x25902149b88>"
      ]
     },
     "execution_count": 185,
     "metadata": {},
     "output_type": "execute_result"
    },
    {
     "data": {
      "image/png": "[encoded data removed]",
      "text/plain": [
       "<Figure size 432x288 with 1 Axes>"
      ]
     },
     "metadata": {
      "needs_background": "light"
     },
     "output_type": "display_data"
    }
   ],
   "source": [
    "taxi_med.plot.scatter(x='trip_distance', y='fare_amount')"
   ]
  },
  {
   "cell_type": "code",
   "execution_count": 186,
   "metadata": {},
   "outputs": [
    {
     "data": {
      "text/plain": [
       "' this scatter plot isnt the most usefull however it does show us that we have several of our fate outliers \\nin the same zone. '"
      ]
     },
     "execution_count": 186,
     "metadata": {},
     "output_type": "execute_result"
    },
    {
     "data": {
      "image/png": "[encoded data removed]",
      "text/plain": [
       "<Figure size 432x288 with 1 Axes>"
      ]
     },
     "metadata": {
      "needs_background": "light"
     },
     "output_type": "display_data"
    }
   ],
   "source": [
    "'''we can see with teh scatter plot that some rides with a distance of 0 miles had positive fares. \n",
    "We need to clean up these.\n",
    "Otherwise, there is an overall correlation between distance and fare showing that distance is a fare predictor\n",
    "'''\n",
    "\n",
    "#show DO location with fare\n",
    "taxi_med.plot.scatter(x='DOLocationID', y='fare_amount')\n",
    "''' this scatter plot isnt the most usefull however it does show us that we have several of our fate outliers \n",
    "in the same zone. '''"
   ]
  },
  {
   "cell_type": "markdown",
   "metadata": {},
   "source": [
    "## Determine distribution of fares"
   ]
  },
  {
   "cell_type": "code",
   "execution_count": 209,
   "metadata": {},
   "outputs": [
    {
     "name": "stdout",
     "output_type": "stream",
     "text": [
      "fare_amount\n",
      "6.0     41191\n",
      "6.5     40723\n",
      "7.0     39973\n",
      "5.5     39744\n",
      "7.5     38268\n",
      "5.0     36794\n",
      "8.0     36600\n",
      "8.5     34109\n",
      "9.0     31984\n",
      "4.5     29895\n",
      "9.5     29500\n",
      "10.0    27853\n",
      "10.5    25577\n",
      "11.0    23149\n",
      "52.0    22398\n",
      "11.5    20987\n",
      "4.0     20846\n",
      "12.0    19530\n",
      "12.5    17497\n",
      "13.0    16102\n",
      "dtype: int64\n"
     ]
    },
    {
     "data": {
      "text/plain": [
       "' $52 is the fixed fare for airport, and most fares are between $6-$13, which means most rides are within Manhattan'"
      ]
     },
     "execution_count": 209,
     "metadata": {},
     "output_type": "execute_result"
    }
   ],
   "source": [
    "# Determine distribution of fares\n",
    "print(taxi_clean.groupby('fare_amount').size().nlargest(20))\n",
    "\n",
    "# $52 is the fixed fare for airport, and most fares are between $6-$13, which means most rides are within Manhattan"
   ]
  },
  {
   "cell_type": "markdown",
   "metadata": {},
   "source": [
    "## Bin and plot histogram (for fares)"
   ]
  },
  {
   "cell_type": "code",
   "execution_count": 229,
   "metadata": {},
   "outputs": [
    {
     "data": {
      "image/png": "[encoded data removed]",
      "text/plain": [
       "<Figure size 432x288 with 1 Axes>"
      ]
     },
     "metadata": {
      "needs_background": "light"
     },
     "output_type": "display_data"
    }
   ],
   "source": [
    "plt.hist(taxi_clean.fare_amount, 1000)\n",
    "plt.title('Fare Distribution')\n",
    "plt.xlabel('Fare in $')\n",
    "plt.ylabel('Number of occurence')\n",
    "plt.xlim(0, 100)\n",
    "plt.show();"
   ]
  },
  {
   "cell_type": "markdown",
   "metadata": {},
   "source": [
    "## Determine distribution of PULocationID and DOLocationID"
   ]
  },
  {
   "cell_type": "code",
   "execution_count": 244,
   "metadata": {},
   "outputs": [
    {
     "name": "stdout",
     "output_type": "stream",
     "text": [
      "\n",
      "Top 5 pickup borough and zone\n",
      "                   0    Borough                          Zone service_zone\n",
      "PULocationID                                                             \n",
      "237           36179  Manhattan         Upper East Side South  Yellow Zone\n",
      "161           34056  Manhattan                Midtown Center  Yellow Zone\n",
      "236           32814  Manhattan         Upper East Side North  Yellow Zone\n",
      "186           30286  Manhattan  Penn Station/Madison Sq West  Yellow Zone\n",
      "162           30224  Manhattan                  Midtown East  Yellow Zone\n",
      "\n",
      "Top 5 dropoff borough and zone\n",
      "                   0    Borough                       Zone service_zone\n",
      "DOLocationID                                                          \n",
      "236           34108  Manhattan      Upper East Side North  Yellow Zone\n",
      "161           32652  Manhattan             Midtown Center  Yellow Zone\n",
      "237           32209  Manhattan      Upper East Side South  Yellow Zone\n",
      "170           26260  Manhattan                Murray Hill  Yellow Zone\n",
      "230           25897  Manhattan  Times Sq/Theatre District  Yellow Zone\n"
     ]
    }
   ],
   "source": [
    "# Top 5 pickup zone and borough\n",
    "pu = pd.DataFrame(taxi_clean.groupby('PULocationID').size().nlargest(5))\n",
    "print('\\nTop 5 pickup borough and zone\\n',pu.join(other = taxi_zones.set_index(\"LocationID\"), on = \"PULocationID\", how = \"left\"))\n",
    "\n",
    "# Top 5 dropoff zone and borough\n",
    "do = pd.DataFrame(taxi_clean.groupby('DOLocationID').size().nlargest(5))\n",
    "print('\\nTop 5 dropoff borough and zone\\n',do.join(other = taxi_zones.set_index(\"LocationID\"), on = \"DOLocationID\", how = \"left\"))\n",
    "\n",
    "# Most pickups and dropoffs are within Manhattan"
   ]
  },
  {
   "cell_type": "markdown",
   "metadata": {},
   "source": [
    "## Determine distribution of trip distance and passengers"
   ]
  },
  {
   "cell_type": "code",
   "execution_count": 278,
   "metadata": {},
   "outputs": [
    {
     "name": "stdout",
     "output_type": "stream",
     "text": [
      "trip_distance\n",
      "0.8    16326\n",
      "0.9    16311\n",
      "1.0    16085\n",
      "0.7    15394\n",
      "1.1    15336\n",
      "1.2    14657\n",
      "0.6    13873\n",
      "1.3    13421\n",
      "1.4    12586\n",
      "1.5    11837\n",
      "dtype: int64 \n",
      "\n",
      "passenger_count\n",
      "1.0    584464\n",
      "2.0    127204\n",
      "3.0     35344\n",
      "5.0     33807\n",
      "6.0     20170\n",
      "4.0     17152\n",
      "0.0     15154\n",
      "8.0         5\n",
      "7.0         4\n",
      "9.0         2\n",
      "dtype: int64 \n",
      "\n"
     ]
    },
    {
     "data": {
      "image/png": "[encoded data removed]",
      "text/plain": [
       "<Figure size 432x288 with 1 Axes>"
      ]
     },
     "metadata": {
      "needs_background": "light"
     },
     "output_type": "display_data"
    },
    {
     "data": {
      "image/png": "[encoded data removed]",
      "text/plain": [
       "<Figure size 432x288 with 1 Axes>"
      ]
     },
     "metadata": {
      "needs_background": "light"
     },
     "output_type": "display_data"
    }
   ],
   "source": [
    "print(taxi_clean.groupby('trip_distance').size().nlargest(10),'\\n')\n",
    "print(taxi_clean.groupby('passenger_count').size().nlargest(10),'\\n')\n",
    "\n",
    "plt.hist(taxi_clean.passenger_count, 10)\n",
    "plt.title('passenger_count')\n",
    "plt.xlabel('passenger_count')\n",
    "plt.ylabel('Number of occurence')\n",
    "plt.xlim(0, 10)\n",
    "plt.show();\n",
    " \n",
    "# Most trips are with 0-6 passengers, 0 because passenger information is reported by drivers and they might have missed it\n",
    "\n",
    "plt.hist(taxi_clean.trip_distance, 100)\n",
    "plt.title('trip_distance')\n",
    "plt.xlabel('trip_distance')\n",
    "plt.ylabel('Number of occurence')\n",
    "plt.xlim(0, 40)\n",
    "plt.show();\n",
    "\n",
    "# Most trips are less than 1.5 miles which means fares will be impacted by traffic conditions"
   ]
  },
  {
   "cell_type": "markdown",
   "metadata": {},
   "source": [
    "## Exploring location"
   ]
  },
  {
   "cell_type": "markdown",
   "metadata": {},
   "source": [
    "The \"shape file\" found here contains some information about the zones: https://www1.nyc.gov/site/tlc/about/tlc-trip-record-data.page\n",
    "\n",
    "Somehow, uploading all of them to this site out puts a csv with latitudes and longitudes \n",
    "\n",
    "https://mygeodata.cloud/\n",
    "\n",
    "Uses coordinate system: EPSG:4269"
   ]
  },
  {
   "cell_type": "markdown",
   "metadata": {},
   "source": [
    "Credit to this person, that did this project before us: https://chih-ling-hsu.github.io/2018/05/14/NYC"
   ]
  },
  {
   "cell_type": "code",
   "execution_count": 187,
   "metadata": {},
   "outputs": [],
   "source": [
    "zones_latlong = pd.read_csv(\"taxi_zones-latlong.csv\")"
   ]
  },
  {
   "cell_type": "code",
   "execution_count": 188,
   "metadata": {},
   "outputs": [
    {
     "data": {
      "text/html": [
       "<div>\n",
       "<style scoped>\n",
       "    .dataframe tbody tr th:only-of-type {\n",
       "        vertical-align: middle;\n",
       "    }\n",
       "\n",
       "    .dataframe tbody tr th {\n",
       "        vertical-align: top;\n",
       "    }\n",
       "\n",
       "    .dataframe thead th {\n",
       "        text-align: right;\n",
       "    }\n",
       "</style>\n",
       "<table border=\"1\" class=\"dataframe\">\n",
       "  <thead>\n",
       "    <tr style=\"text-align: right;\">\n",
       "      <th></th>\n",
       "      <th>X</th>\n",
       "      <th>Y</th>\n",
       "      <th>OBJECTID</th>\n",
       "      <th>Shape_Leng</th>\n",
       "      <th>Shape_Area</th>\n",
       "      <th>zone</th>\n",
       "      <th>LocationID</th>\n",
       "      <th>borough</th>\n",
       "    </tr>\n",
       "  </thead>\n",
       "  <tbody>\n",
       "    <tr>\n",
       "      <td>0</td>\n",
       "      <td>9.352230e+05</td>\n",
       "      <td>190535.0526</td>\n",
       "      <td>1</td>\n",
       "      <td>0.116357</td>\n",
       "      <td>0.000782</td>\n",
       "      <td>Newark Airport</td>\n",
       "      <td>1</td>\n",
       "      <td>EWR</td>\n",
       "    </tr>\n",
       "    <tr>\n",
       "      <td>1</td>\n",
       "      <td>1.032516e+06</td>\n",
       "      <td>167292.4932</td>\n",
       "      <td>2</td>\n",
       "      <td>0.433470</td>\n",
       "      <td>0.004866</td>\n",
       "      <td>Jamaica Bay</td>\n",
       "      <td>2</td>\n",
       "      <td>Queens</td>\n",
       "    </tr>\n",
       "    <tr>\n",
       "      <td>2</td>\n",
       "      <td>1.025883e+06</td>\n",
       "      <td>254779.6006</td>\n",
       "      <td>3</td>\n",
       "      <td>0.084341</td>\n",
       "      <td>0.000314</td>\n",
       "      <td>Allerton/Pelham Gardens</td>\n",
       "      <td>3</td>\n",
       "      <td>Bronx</td>\n",
       "    </tr>\n",
       "    <tr>\n",
       "      <td>3</td>\n",
       "      <td>9.906188e+05</td>\n",
       "      <td>203105.5323</td>\n",
       "      <td>4</td>\n",
       "      <td>0.043567</td>\n",
       "      <td>0.000112</td>\n",
       "      <td>Alphabet City</td>\n",
       "      <td>4</td>\n",
       "      <td>Manhattan</td>\n",
       "    </tr>\n",
       "    <tr>\n",
       "      <td>4</td>\n",
       "      <td>9.314680e+05</td>\n",
       "      <td>139837.4784</td>\n",
       "      <td>5</td>\n",
       "      <td>0.092146</td>\n",
       "      <td>0.000498</td>\n",
       "      <td>Arden Heights</td>\n",
       "      <td>5</td>\n",
       "      <td>Staten Island</td>\n",
       "    </tr>\n",
       "  </tbody>\n",
       "</table>\n",
       "</div>"
      ],
      "text/plain": [
       "              X            Y  OBJECTID  Shape_Leng  Shape_Area  \\\n",
       "0  9.352230e+05  190535.0526         1    0.116357    0.000782   \n",
       "1  1.032516e+06  167292.4932         2    0.433470    0.004866   \n",
       "2  1.025883e+06  254779.6006         3    0.084341    0.000314   \n",
       "3  9.906188e+05  203105.5323         4    0.043567    0.000112   \n",
       "4  9.314680e+05  139837.4784         5    0.092146    0.000498   \n",
       "\n",
       "                      zone  LocationID        borough  \n",
       "0           Newark Airport           1            EWR  \n",
       "1              Jamaica Bay           2         Queens  \n",
       "2  Allerton/Pelham Gardens           3          Bronx  \n",
       "3            Alphabet City           4      Manhattan  \n",
       "4            Arden Heights           5  Staten Island  "
      ]
     },
     "execution_count": 188,
     "metadata": {},
     "output_type": "execute_result"
    }
   ],
   "source": [
    "zones_latlong.head()"
   ]
  },
  {
   "cell_type": "markdown",
   "metadata": {},
   "source": [
    "### Join the lat/ long for each zone, dropping unneccessary columns "
   ]
  },
  {
   "cell_type": "code",
   "execution_count": 190,
   "metadata": {},
   "outputs": [
    {
     "data": {
      "text/html": [
       "<div>\n",
       "<style scoped>\n",
       "    .dataframe tbody tr th:only-of-type {\n",
       "        vertical-align: middle;\n",
       "    }\n",
       "\n",
       "    .dataframe tbody tr th {\n",
       "        vertical-align: top;\n",
       "    }\n",
       "\n",
       "    .dataframe thead th {\n",
       "        text-align: right;\n",
       "    }\n",
       "</style>\n",
       "<table border=\"1\" class=\"dataframe\">\n",
       "  <thead>\n",
       "    <tr style=\"text-align: right;\">\n",
       "      <th></th>\n",
       "      <th>Latitude</th>\n",
       "      <th>Longitude</th>\n",
       "      <th>fare_amount</th>\n",
       "    </tr>\n",
       "  </thead>\n",
       "  <tbody>\n",
       "    <tr>\n",
       "      <td>0</td>\n",
       "      <td>1.010930e+06</td>\n",
       "      <td>211369.8834</td>\n",
       "      <td>6.5</td>\n",
       "    </tr>\n",
       "    <tr>\n",
       "      <td>1</td>\n",
       "      <td>9.968350e+05</td>\n",
       "      <td>218174.7900</td>\n",
       "      <td>7.0</td>\n",
       "    </tr>\n",
       "    <tr>\n",
       "      <td>2</td>\n",
       "      <td>9.919669e+05</td>\n",
       "      <td>215006.4597</td>\n",
       "      <td>14.5</td>\n",
       "    </tr>\n",
       "    <tr>\n",
       "      <td>3</td>\n",
       "      <td>9.961663e+05</td>\n",
       "      <td>223633.8650</td>\n",
       "      <td>5.5</td>\n",
       "    </tr>\n",
       "    <tr>\n",
       "      <td>4</td>\n",
       "      <td>9.822611e+05</td>\n",
       "      <td>203550.7913</td>\n",
       "      <td>7.5</td>\n",
       "    </tr>\n",
       "    <tr>\n",
       "      <td>...</td>\n",
       "      <td>...</td>\n",
       "      <td>...</td>\n",
       "      <td>...</td>\n",
       "    </tr>\n",
       "    <tr>\n",
       "      <td>843979</td>\n",
       "      <td>9.863405e+05</td>\n",
       "      <td>211966.8662</td>\n",
       "      <td>15.0</td>\n",
       "    </tr>\n",
       "    <tr>\n",
       "      <td>843980</td>\n",
       "      <td>9.868888e+05</td>\n",
       "      <td>208992.9156</td>\n",
       "      <td>12.5</td>\n",
       "    </tr>\n",
       "    <tr>\n",
       "      <td>843981</td>\n",
       "      <td>9.870599e+05</td>\n",
       "      <td>216980.2975</td>\n",
       "      <td>21.0</td>\n",
       "    </tr>\n",
       "    <tr>\n",
       "      <td>843982</td>\n",
       "      <td>9.886337e+05</td>\n",
       "      <td>216109.0411</td>\n",
       "      <td>6.0</td>\n",
       "    </tr>\n",
       "    <tr>\n",
       "      <td>843983</td>\n",
       "      <td>9.902668e+05</td>\n",
       "      <td>224949.0756</td>\n",
       "      <td>8.5</td>\n",
       "    </tr>\n",
       "  </tbody>\n",
       "</table>\n",
       "<p>835583 rows × 3 columns</p>\n",
       "</div>"
      ],
      "text/plain": [
       "            Latitude    Longitude  fare_amount\n",
       "0       1.010930e+06  211369.8834          6.5\n",
       "1       9.968350e+05  218174.7900          7.0\n",
       "2       9.919669e+05  215006.4597         14.5\n",
       "3       9.961663e+05  223633.8650          5.5\n",
       "4       9.822611e+05  203550.7913          7.5\n",
       "...              ...          ...          ...\n",
       "843979  9.863405e+05  211966.8662         15.0\n",
       "843980  9.868888e+05  208992.9156         12.5\n",
       "843981  9.870599e+05  216980.2975         21.0\n",
       "843982  9.886337e+05  216109.0411          6.0\n",
       "843983  9.902668e+05  224949.0756          8.5\n",
       "\n",
       "[835583 rows x 3 columns]"
      ]
     },
     "execution_count": 190,
     "metadata": {},
     "output_type": "execute_result"
    }
   ],
   "source": [
    "lat_long_fare = taxi_clean.join(other = zones_latlong.set_index(\"LocationID\")[[\"X\",\"Y\"]], on = \"PULocationID\", how =\"left\")[[\"X\",\"Y\",\"fare_amount\"]]\n",
    "lat_long_fare.rename({\"X\":\"Latitude\", \"Y\": \"Longitude\"}, axis = 1, inplace = True)\n",
    "lat_long_fare"
   ]
  },
  {
   "cell_type": "markdown",
   "metadata": {},
   "source": [
    "## Make a dataframe that includes pickup and dropoff longitude and latitude"
   ]
  },
  {
   "cell_type": "code",
   "execution_count": 196,
   "metadata": {},
   "outputs": [],
   "source": [
    "# make a couple of data framees for pick up and dropooff location\n",
    "PU_lat_long = taxi_large.join(other = zones_latlong.set_index(\"LocationID\")[[\"X\",\"Y\"]], on = \"PULocationID\", how =\"left\")[[\"X\",\"Y\"]]\n",
    "PU_lat_long.rename({\"X\":\"Pickup_Latitude\", \"Y\": \"Pickup_Longitude\"}, axis = 1, inplace = True)\n",
    "DO_lat_long = taxi_large.join(other = zones_latlong.set_index(\"LocationID\")[[\"X\",\"Y\"]], on = \"DOLocationID\", how =\"left\")[[\"X\",\"Y\"]]\n",
    "DO_lat_long.rename({\"X\":\"Dropoff_Latitude\", \"Y\": \"Dropoff_Longitude\"}, axis = 1, inplace = True)"
   ]
  },
  {
   "cell_type": "code",
   "execution_count": 197,
   "metadata": {},
   "outputs": [
    {
     "data": {
      "text/html": [
       "<div>\n",
       "<style scoped>\n",
       "    .dataframe tbody tr th:only-of-type {\n",
       "        vertical-align: middle;\n",
       "    }\n",
       "\n",
       "    .dataframe tbody tr th {\n",
       "        vertical-align: top;\n",
       "    }\n",
       "\n",
       "    .dataframe thead th {\n",
       "        text-align: right;\n",
       "    }\n",
       "</style>\n",
       "<table border=\"1\" class=\"dataframe\">\n",
       "  <thead>\n",
       "    <tr style=\"text-align: right;\">\n",
       "      <th></th>\n",
       "      <th>Pickup_Latitude</th>\n",
       "      <th>Pickup_Longitude</th>\n",
       "      <th>Dropoff_Latitude</th>\n",
       "      <th>Dropoff_Longitude</th>\n",
       "    </tr>\n",
       "  </thead>\n",
       "  <tbody>\n",
       "    <tr>\n",
       "      <td>0</td>\n",
       "      <td>1.010930e+06</td>\n",
       "      <td>211369.8834</td>\n",
       "      <td>1.003837e+06</td>\n",
       "      <td>207164.4234</td>\n",
       "    </tr>\n",
       "    <tr>\n",
       "      <td>1</td>\n",
       "      <td>9.968350e+05</td>\n",
       "      <td>218174.7900</td>\n",
       "      <td>9.937533e+05</td>\n",
       "      <td>219279.1627</td>\n",
       "    </tr>\n",
       "    <tr>\n",
       "      <td>2</td>\n",
       "      <td>9.919669e+05</td>\n",
       "      <td>215006.4597</td>\n",
       "      <td>9.937844e+05</td>\n",
       "      <td>224349.9169</td>\n",
       "    </tr>\n",
       "    <tr>\n",
       "      <td>3</td>\n",
       "      <td>9.961663e+05</td>\n",
       "      <td>223633.8650</td>\n",
       "      <td>9.994917e+05</td>\n",
       "      <td>227336.8825</td>\n",
       "    </tr>\n",
       "    <tr>\n",
       "      <td>4</td>\n",
       "      <td>9.822611e+05</td>\n",
       "      <td>203550.7913</td>\n",
       "      <td>9.857388e+05</td>\n",
       "      <td>206141.0082</td>\n",
       "    </tr>\n",
       "  </tbody>\n",
       "</table>\n",
       "</div>"
      ],
      "text/plain": [
       "   Pickup_Latitude  Pickup_Longitude  Dropoff_Latitude  Dropoff_Longitude\n",
       "0     1.010930e+06       211369.8834      1.003837e+06        207164.4234\n",
       "1     9.968350e+05       218174.7900      9.937533e+05        219279.1627\n",
       "2     9.919669e+05       215006.4597      9.937844e+05        224349.9169\n",
       "3     9.961663e+05       223633.8650      9.994917e+05        227336.8825\n",
       "4     9.822611e+05       203550.7913      9.857388e+05        206141.0082"
      ]
     },
     "execution_count": 197,
     "metadata": {},
     "output_type": "execute_result"
    }
   ],
   "source": [
    "# join the dataframes\n",
    "PU_DO_lat_long = PU_lat_long.join(other = DO_lat_long, how = \"inner\")\n",
    "PU_DO_lat_long.head()"
   ]
  },
  {
   "cell_type": "code",
   "execution_count": 198,
   "metadata": {},
   "outputs": [
    {
     "data": {
      "text/html": [
       "<div>\n",
       "<style scoped>\n",
       "    .dataframe tbody tr th:only-of-type {\n",
       "        vertical-align: middle;\n",
       "    }\n",
       "\n",
       "    .dataframe tbody tr th {\n",
       "        vertical-align: top;\n",
       "    }\n",
       "\n",
       "    .dataframe thead th {\n",
       "        text-align: right;\n",
       "    }\n",
       "</style>\n",
       "<table border=\"1\" class=\"dataframe\">\n",
       "  <thead>\n",
       "    <tr style=\"text-align: right;\">\n",
       "      <th></th>\n",
       "      <th>Pickup_Latitude</th>\n",
       "      <th>Pickup_Longitude</th>\n",
       "      <th>Dropoff_Latitude</th>\n",
       "      <th>Dropoff_Longitude</th>\n",
       "      <th>Latitude Traveled</th>\n",
       "      <th>Longtude Traveled</th>\n",
       "    </tr>\n",
       "  </thead>\n",
       "  <tbody>\n",
       "    <tr>\n",
       "      <td>0</td>\n",
       "      <td>1.010930e+06</td>\n",
       "      <td>211369.8834</td>\n",
       "      <td>1.003837e+06</td>\n",
       "      <td>207164.4234</td>\n",
       "      <td>7092.2330</td>\n",
       "      <td>4205.4600</td>\n",
       "    </tr>\n",
       "    <tr>\n",
       "      <td>1</td>\n",
       "      <td>9.968350e+05</td>\n",
       "      <td>218174.7900</td>\n",
       "      <td>9.937533e+05</td>\n",
       "      <td>219279.1627</td>\n",
       "      <td>3081.7215</td>\n",
       "      <td>1104.3727</td>\n",
       "    </tr>\n",
       "    <tr>\n",
       "      <td>2</td>\n",
       "      <td>9.919669e+05</td>\n",
       "      <td>215006.4597</td>\n",
       "      <td>9.937844e+05</td>\n",
       "      <td>224349.9169</td>\n",
       "      <td>1817.4261</td>\n",
       "      <td>9343.4572</td>\n",
       "    </tr>\n",
       "    <tr>\n",
       "      <td>3</td>\n",
       "      <td>9.961663e+05</td>\n",
       "      <td>223633.8650</td>\n",
       "      <td>9.994917e+05</td>\n",
       "      <td>227336.8825</td>\n",
       "      <td>3325.3793</td>\n",
       "      <td>3703.0175</td>\n",
       "    </tr>\n",
       "    <tr>\n",
       "      <td>4</td>\n",
       "      <td>9.822611e+05</td>\n",
       "      <td>203550.7913</td>\n",
       "      <td>9.857388e+05</td>\n",
       "      <td>206141.0082</td>\n",
       "      <td>3477.6911</td>\n",
       "      <td>2590.2169</td>\n",
       "    </tr>\n",
       "  </tbody>\n",
       "</table>\n",
       "</div>"
      ],
      "text/plain": [
       "   Pickup_Latitude  Pickup_Longitude  Dropoff_Latitude  Dropoff_Longitude  \\\n",
       "0     1.010930e+06       211369.8834      1.003837e+06        207164.4234   \n",
       "1     9.968350e+05       218174.7900      9.937533e+05        219279.1627   \n",
       "2     9.919669e+05       215006.4597      9.937844e+05        224349.9169   \n",
       "3     9.961663e+05       223633.8650      9.994917e+05        227336.8825   \n",
       "4     9.822611e+05       203550.7913      9.857388e+05        206141.0082   \n",
       "\n",
       "   Latitude Traveled  Longtude Traveled  \n",
       "0          7092.2330          4205.4600  \n",
       "1          3081.7215          1104.3727  \n",
       "2          1817.4261          9343.4572  \n",
       "3          3325.3793          3703.0175  \n",
       "4          3477.6911          2590.2169  "
      ]
     },
     "execution_count": 198,
     "metadata": {},
     "output_type": "execute_result"
    }
   ],
   "source": [
    "# calculate traveled latitude and longitude\n",
    "PU_DO_lat_long[\"Latitude Traveled\"] = abs(PU_DO_lat_long[\"Pickup_Latitude\"] - PU_DO_lat_long[\"Dropoff_Latitude\"])\n",
    "PU_DO_lat_long[\"Longtude Traveled\"] = abs(PU_DO_lat_long[\"Pickup_Longitude\"] - PU_DO_lat_long[\"Dropoff_Longitude\"])\n",
    "PU_DO_lat_long.head()"
   ]
  },
  {
   "cell_type": "markdown",
   "metadata": {},
   "source": [
    "### Determine Boundary"
   ]
  },
  {
   "cell_type": "code",
   "execution_count": 203,
   "metadata": {},
   "outputs": [
    {
     "name": "stdout",
     "output_type": "stream",
     "text": [
      "Longitude Boundary in reduced data\n",
      "Min: 131469.1414 , Max: 267135.0299\n",
      "\n",
      "Latitude Boundary in reduced data\n",
      "Min: 920436.3369 , Max: 1064866.095\n"
     ]
    }
   ],
   "source": [
    "print(\"Longitude Boundary in reduced data\")\n",
    "min_long = min(PU_DO_lat_long['Pickup_Longitude'].min(), PU_DO_lat_long['Dropoff_Longitude'].min())\n",
    "max_long = max(PU_DO_lat_long['Pickup_Longitude'].max(), PU_DO_lat_long['Dropoff_Longitude'].max())\n",
    "print('Min:',min_long,', Max:',max_long)\n",
    "\n",
    "print(\"\\nLatitude Boundary in reduced data\")\n",
    "min_lat = min(PU_DO_lat_long['Pickup_Latitude'].min(), PU_DO_lat_long['Dropoff_Latitude'].min())\n",
    "max_lat = max(PU_DO_lat_long['Pickup_Latitude'].max(), PU_DO_lat_long['Dropoff_Latitude'].max())\n",
    "print('Min:',min_lat,', Max:',max_lat)"
   ]
  },
  {
   "cell_type": "markdown",
   "metadata": {},
   "source": [
    "### This pivot table will have latitude on the Y axis and longitude on the X axis"
   ]
  },
  {
   "cell_type": "code",
   "execution_count": 141,
   "metadata": {},
   "outputs": [
    {
     "data": {
      "text/html": [
       "<div>\n",
       "<style scoped>\n",
       "    .dataframe tbody tr th:only-of-type {\n",
       "        vertical-align: middle;\n",
       "    }\n",
       "\n",
       "    .dataframe tbody tr th {\n",
       "        vertical-align: top;\n",
       "    }\n",
       "\n",
       "    .dataframe thead th {\n",
       "        text-align: right;\n",
       "    }\n",
       "</style>\n",
       "<table border=\"1\" class=\"dataframe\">\n",
       "  <thead>\n",
       "    <tr style=\"text-align: right;\">\n",
       "      <th>Longitude</th>\n",
       "      <th>131469.1414</th>\n",
       "      <th>139837.4784</th>\n",
       "      <th>142929.9855</th>\n",
       "      <th>149456.6732</th>\n",
       "      <th>149700.8641</th>\n",
       "      <th>150502.7459</th>\n",
       "      <th>150686.8185</th>\n",
       "      <th>151388.4311</th>\n",
       "      <th>152667.3989</th>\n",
       "      <th>153009.2606</th>\n",
       "      <th>...</th>\n",
       "      <th>257767.3374</th>\n",
       "      <th>258295.0956</th>\n",
       "      <th>258436.3238</th>\n",
       "      <th>258762.4175</th>\n",
       "      <th>258960.9358</th>\n",
       "      <th>260590.4019</th>\n",
       "      <th>261091.6499</th>\n",
       "      <th>265281.3527</th>\n",
       "      <th>266878.0340</th>\n",
       "      <th>267135.0299</th>\n",
       "    </tr>\n",
       "    <tr>\n",
       "      <th>Latitude</th>\n",
       "      <th></th>\n",
       "      <th></th>\n",
       "      <th></th>\n",
       "      <th></th>\n",
       "      <th></th>\n",
       "      <th></th>\n",
       "      <th></th>\n",
       "      <th></th>\n",
       "      <th></th>\n",
       "      <th></th>\n",
       "      <th></th>\n",
       "      <th></th>\n",
       "      <th></th>\n",
       "      <th></th>\n",
       "      <th></th>\n",
       "      <th></th>\n",
       "      <th></th>\n",
       "      <th></th>\n",
       "      <th></th>\n",
       "      <th></th>\n",
       "      <th></th>\n",
       "    </tr>\n",
       "  </thead>\n",
       "  <tbody>\n",
       "    <tr>\n",
       "      <td>9.204363e+05</td>\n",
       "      <td>28.666667</td>\n",
       "      <td>NaN</td>\n",
       "      <td>NaN</td>\n",
       "      <td>NaN</td>\n",
       "      <td>NaN</td>\n",
       "      <td>NaN</td>\n",
       "      <td>NaN</td>\n",
       "      <td>NaN</td>\n",
       "      <td>NaN</td>\n",
       "      <td>NaN</td>\n",
       "      <td>...</td>\n",
       "      <td>NaN</td>\n",
       "      <td>NaN</td>\n",
       "      <td>NaN</td>\n",
       "      <td>NaN</td>\n",
       "      <td>NaN</td>\n",
       "      <td>NaN</td>\n",
       "      <td>NaN</td>\n",
       "      <td>NaN</td>\n",
       "      <td>NaN</td>\n",
       "      <td>NaN</td>\n",
       "    </tr>\n",
       "    <tr>\n",
       "      <td>9.314680e+05</td>\n",
       "      <td>NaN</td>\n",
       "      <td>64.583333</td>\n",
       "      <td>NaN</td>\n",
       "      <td>NaN</td>\n",
       "      <td>NaN</td>\n",
       "      <td>NaN</td>\n",
       "      <td>NaN</td>\n",
       "      <td>NaN</td>\n",
       "      <td>NaN</td>\n",
       "      <td>NaN</td>\n",
       "      <td>...</td>\n",
       "      <td>NaN</td>\n",
       "      <td>NaN</td>\n",
       "      <td>NaN</td>\n",
       "      <td>NaN</td>\n",
       "      <td>NaN</td>\n",
       "      <td>NaN</td>\n",
       "      <td>NaN</td>\n",
       "      <td>NaN</td>\n",
       "      <td>NaN</td>\n",
       "      <td>NaN</td>\n",
       "    </tr>\n",
       "    <tr>\n",
       "      <td>9.321097e+05</td>\n",
       "      <td>NaN</td>\n",
       "      <td>NaN</td>\n",
       "      <td>NaN</td>\n",
       "      <td>NaN</td>\n",
       "      <td>NaN</td>\n",
       "      <td>8.0</td>\n",
       "      <td>NaN</td>\n",
       "      <td>NaN</td>\n",
       "      <td>NaN</td>\n",
       "      <td>NaN</td>\n",
       "      <td>...</td>\n",
       "      <td>NaN</td>\n",
       "      <td>NaN</td>\n",
       "      <td>NaN</td>\n",
       "      <td>NaN</td>\n",
       "      <td>NaN</td>\n",
       "      <td>NaN</td>\n",
       "      <td>NaN</td>\n",
       "      <td>NaN</td>\n",
       "      <td>NaN</td>\n",
       "      <td>NaN</td>\n",
       "    </tr>\n",
       "    <tr>\n",
       "      <td>9.352230e+05</td>\n",
       "      <td>NaN</td>\n",
       "      <td>NaN</td>\n",
       "      <td>NaN</td>\n",
       "      <td>NaN</td>\n",
       "      <td>NaN</td>\n",
       "      <td>NaN</td>\n",
       "      <td>NaN</td>\n",
       "      <td>NaN</td>\n",
       "      <td>NaN</td>\n",
       "      <td>NaN</td>\n",
       "      <td>...</td>\n",
       "      <td>NaN</td>\n",
       "      <td>NaN</td>\n",
       "      <td>NaN</td>\n",
       "      <td>NaN</td>\n",
       "      <td>NaN</td>\n",
       "      <td>NaN</td>\n",
       "      <td>NaN</td>\n",
       "      <td>NaN</td>\n",
       "      <td>NaN</td>\n",
       "      <td>NaN</td>\n",
       "    </tr>\n",
       "    <tr>\n",
       "      <td>9.399781e+05</td>\n",
       "      <td>NaN</td>\n",
       "      <td>NaN</td>\n",
       "      <td>NaN</td>\n",
       "      <td>NaN</td>\n",
       "      <td>NaN</td>\n",
       "      <td>NaN</td>\n",
       "      <td>NaN</td>\n",
       "      <td>NaN</td>\n",
       "      <td>NaN</td>\n",
       "      <td>NaN</td>\n",
       "      <td>...</td>\n",
       "      <td>NaN</td>\n",
       "      <td>NaN</td>\n",
       "      <td>NaN</td>\n",
       "      <td>NaN</td>\n",
       "      <td>NaN</td>\n",
       "      <td>NaN</td>\n",
       "      <td>NaN</td>\n",
       "      <td>NaN</td>\n",
       "      <td>NaN</td>\n",
       "      <td>NaN</td>\n",
       "    </tr>\n",
       "    <tr>\n",
       "      <td>...</td>\n",
       "      <td>...</td>\n",
       "      <td>...</td>\n",
       "      <td>...</td>\n",
       "      <td>...</td>\n",
       "      <td>...</td>\n",
       "      <td>...</td>\n",
       "      <td>...</td>\n",
       "      <td>...</td>\n",
       "      <td>...</td>\n",
       "      <td>...</td>\n",
       "      <td>...</td>\n",
       "      <td>...</td>\n",
       "      <td>...</td>\n",
       "      <td>...</td>\n",
       "      <td>...</td>\n",
       "      <td>...</td>\n",
       "      <td>...</td>\n",
       "      <td>...</td>\n",
       "      <td>...</td>\n",
       "      <td>...</td>\n",
       "      <td>...</td>\n",
       "    </tr>\n",
       "    <tr>\n",
       "      <td>1.057297e+06</td>\n",
       "      <td>NaN</td>\n",
       "      <td>NaN</td>\n",
       "      <td>NaN</td>\n",
       "      <td>NaN</td>\n",
       "      <td>NaN</td>\n",
       "      <td>NaN</td>\n",
       "      <td>NaN</td>\n",
       "      <td>NaN</td>\n",
       "      <td>NaN</td>\n",
       "      <td>NaN</td>\n",
       "      <td>...</td>\n",
       "      <td>NaN</td>\n",
       "      <td>NaN</td>\n",
       "      <td>NaN</td>\n",
       "      <td>NaN</td>\n",
       "      <td>NaN</td>\n",
       "      <td>NaN</td>\n",
       "      <td>NaN</td>\n",
       "      <td>NaN</td>\n",
       "      <td>NaN</td>\n",
       "      <td>NaN</td>\n",
       "    </tr>\n",
       "    <tr>\n",
       "      <td>1.057584e+06</td>\n",
       "      <td>NaN</td>\n",
       "      <td>NaN</td>\n",
       "      <td>NaN</td>\n",
       "      <td>NaN</td>\n",
       "      <td>NaN</td>\n",
       "      <td>NaN</td>\n",
       "      <td>NaN</td>\n",
       "      <td>NaN</td>\n",
       "      <td>NaN</td>\n",
       "      <td>NaN</td>\n",
       "      <td>...</td>\n",
       "      <td>NaN</td>\n",
       "      <td>NaN</td>\n",
       "      <td>NaN</td>\n",
       "      <td>NaN</td>\n",
       "      <td>NaN</td>\n",
       "      <td>NaN</td>\n",
       "      <td>NaN</td>\n",
       "      <td>NaN</td>\n",
       "      <td>NaN</td>\n",
       "      <td>NaN</td>\n",
       "    </tr>\n",
       "    <tr>\n",
       "      <td>1.058662e+06</td>\n",
       "      <td>NaN</td>\n",
       "      <td>NaN</td>\n",
       "      <td>NaN</td>\n",
       "      <td>NaN</td>\n",
       "      <td>NaN</td>\n",
       "      <td>NaN</td>\n",
       "      <td>NaN</td>\n",
       "      <td>NaN</td>\n",
       "      <td>NaN</td>\n",
       "      <td>NaN</td>\n",
       "      <td>...</td>\n",
       "      <td>NaN</td>\n",
       "      <td>NaN</td>\n",
       "      <td>NaN</td>\n",
       "      <td>NaN</td>\n",
       "      <td>NaN</td>\n",
       "      <td>NaN</td>\n",
       "      <td>NaN</td>\n",
       "      <td>NaN</td>\n",
       "      <td>NaN</td>\n",
       "      <td>NaN</td>\n",
       "    </tr>\n",
       "    <tr>\n",
       "      <td>1.059665e+06</td>\n",
       "      <td>NaN</td>\n",
       "      <td>NaN</td>\n",
       "      <td>NaN</td>\n",
       "      <td>NaN</td>\n",
       "      <td>NaN</td>\n",
       "      <td>NaN</td>\n",
       "      <td>NaN</td>\n",
       "      <td>NaN</td>\n",
       "      <td>NaN</td>\n",
       "      <td>NaN</td>\n",
       "      <td>...</td>\n",
       "      <td>NaN</td>\n",
       "      <td>NaN</td>\n",
       "      <td>NaN</td>\n",
       "      <td>NaN</td>\n",
       "      <td>NaN</td>\n",
       "      <td>NaN</td>\n",
       "      <td>NaN</td>\n",
       "      <td>NaN</td>\n",
       "      <td>NaN</td>\n",
       "      <td>NaN</td>\n",
       "    </tr>\n",
       "    <tr>\n",
       "      <td>1.064866e+06</td>\n",
       "      <td>NaN</td>\n",
       "      <td>NaN</td>\n",
       "      <td>NaN</td>\n",
       "      <td>NaN</td>\n",
       "      <td>NaN</td>\n",
       "      <td>NaN</td>\n",
       "      <td>NaN</td>\n",
       "      <td>NaN</td>\n",
       "      <td>NaN</td>\n",
       "      <td>NaN</td>\n",
       "      <td>...</td>\n",
       "      <td>NaN</td>\n",
       "      <td>NaN</td>\n",
       "      <td>NaN</td>\n",
       "      <td>NaN</td>\n",
       "      <td>NaN</td>\n",
       "      <td>NaN</td>\n",
       "      <td>NaN</td>\n",
       "      <td>NaN</td>\n",
       "      <td>NaN</td>\n",
       "      <td>NaN</td>\n",
       "    </tr>\n",
       "  </tbody>\n",
       "</table>\n",
       "<p>249 rows × 249 columns</p>\n",
       "</div>"
      ],
      "text/plain": [
       "Longitude     131469.1414  139837.4784  142929.9855  149456.6732  149700.8641  \\\n",
       "Latitude                                                                        \n",
       "9.204363e+05    28.666667          NaN          NaN          NaN          NaN   \n",
       "9.314680e+05          NaN    64.583333          NaN          NaN          NaN   \n",
       "9.321097e+05          NaN          NaN          NaN          NaN          NaN   \n",
       "9.352230e+05          NaN          NaN          NaN          NaN          NaN   \n",
       "9.399781e+05          NaN          NaN          NaN          NaN          NaN   \n",
       "...                   ...          ...          ...          ...          ...   \n",
       "1.057297e+06          NaN          NaN          NaN          NaN          NaN   \n",
       "1.057584e+06          NaN          NaN          NaN          NaN          NaN   \n",
       "1.058662e+06          NaN          NaN          NaN          NaN          NaN   \n",
       "1.059665e+06          NaN          NaN          NaN          NaN          NaN   \n",
       "1.064866e+06          NaN          NaN          NaN          NaN          NaN   \n",
       "\n",
       "Longitude     150502.7459  150686.8185  151388.4311  152667.3989  153009.2606  \\\n",
       "Latitude                                                                        \n",
       "9.204363e+05          NaN          NaN          NaN          NaN          NaN   \n",
       "9.314680e+05          NaN          NaN          NaN          NaN          NaN   \n",
       "9.321097e+05          8.0          NaN          NaN          NaN          NaN   \n",
       "9.352230e+05          NaN          NaN          NaN          NaN          NaN   \n",
       "9.399781e+05          NaN          NaN          NaN          NaN          NaN   \n",
       "...                   ...          ...          ...          ...          ...   \n",
       "1.057297e+06          NaN          NaN          NaN          NaN          NaN   \n",
       "1.057584e+06          NaN          NaN          NaN          NaN          NaN   \n",
       "1.058662e+06          NaN          NaN          NaN          NaN          NaN   \n",
       "1.059665e+06          NaN          NaN          NaN          NaN          NaN   \n",
       "1.064866e+06          NaN          NaN          NaN          NaN          NaN   \n",
       "\n",
       "Longitude     ...  257767.3374  258295.0956  258436.3238  258762.4175  \\\n",
       "Latitude      ...                                                       \n",
       "9.204363e+05  ...          NaN          NaN          NaN          NaN   \n",
       "9.314680e+05  ...          NaN          NaN          NaN          NaN   \n",
       "9.321097e+05  ...          NaN          NaN          NaN          NaN   \n",
       "9.352230e+05  ...          NaN          NaN          NaN          NaN   \n",
       "9.399781e+05  ...          NaN          NaN          NaN          NaN   \n",
       "...           ...          ...          ...          ...          ...   \n",
       "1.057297e+06  ...          NaN          NaN          NaN          NaN   \n",
       "1.057584e+06  ...          NaN          NaN          NaN          NaN   \n",
       "1.058662e+06  ...          NaN          NaN          NaN          NaN   \n",
       "1.059665e+06  ...          NaN          NaN          NaN          NaN   \n",
       "1.064866e+06  ...          NaN          NaN          NaN          NaN   \n",
       "\n",
       "Longitude     258960.9358  260590.4019  261091.6499  265281.3527  266878.0340  \\\n",
       "Latitude                                                                        \n",
       "9.204363e+05          NaN          NaN          NaN          NaN          NaN   \n",
       "9.314680e+05          NaN          NaN          NaN          NaN          NaN   \n",
       "9.321097e+05          NaN          NaN          NaN          NaN          NaN   \n",
       "9.352230e+05          NaN          NaN          NaN          NaN          NaN   \n",
       "9.399781e+05          NaN          NaN          NaN          NaN          NaN   \n",
       "...                   ...          ...          ...          ...          ...   \n",
       "1.057297e+06          NaN          NaN          NaN          NaN          NaN   \n",
       "1.057584e+06          NaN          NaN          NaN          NaN          NaN   \n",
       "1.058662e+06          NaN          NaN          NaN          NaN          NaN   \n",
       "1.059665e+06          NaN          NaN          NaN          NaN          NaN   \n",
       "1.064866e+06          NaN          NaN          NaN          NaN          NaN   \n",
       "\n",
       "Longitude     267135.0299  \n",
       "Latitude                   \n",
       "9.204363e+05          NaN  \n",
       "9.314680e+05          NaN  \n",
       "9.321097e+05          NaN  \n",
       "9.352230e+05          NaN  \n",
       "9.399781e+05          NaN  \n",
       "...                   ...  \n",
       "1.057297e+06          NaN  \n",
       "1.057584e+06          NaN  \n",
       "1.058662e+06          NaN  \n",
       "1.059665e+06          NaN  \n",
       "1.064866e+06          NaN  \n",
       "\n",
       "[249 rows x 249 columns]"
      ]
     },
     "execution_count": 141,
     "metadata": {},
     "output_type": "execute_result"
    }
   ],
   "source": [
    "pivot = lat_long_fare.pivot_table(values = \"fare_amount\", index = \"Latitude\", columns = \"Longitude\")\n",
    "pivot"
   ]
  },
  {
   "cell_type": "markdown",
   "metadata": {},
   "source": [
    "### There are a ton of Null values because some of the latitudes and longitude pairs are not valid pickup locations, so no one has ever been picked up there. Fill them with zeroes"
   ]
  },
  {
   "cell_type": "code",
   "execution_count": 142,
   "metadata": {},
   "outputs": [],
   "source": [
    "pivot.fillna(0, inplace = True)"
   ]
  },
  {
   "cell_type": "code",
   "execution_count": 143,
   "metadata": {},
   "outputs": [
    {
     "data": {
      "text/plain": [
       "<matplotlib.axes._subplots.AxesSubplot at 0x2153d1bdf88>"
      ]
     },
     "execution_count": 143,
     "metadata": {},
     "output_type": "execute_result"
    },
    {
     "data": {
      "image/png": "[encoded data removed]",
      "text/plain": [
       "<Figure size 1584x1440 with 2 Axes>"
      ]
     },
     "metadata": {
      "needs_background": "light"
     },
     "output_type": "display_data"
    }
   ],
   "source": [
    "plt.figure(figsize=(22,20))\n",
    "sns.heatmap(pivot, cmap=\"coolwarm\")"
   ]
  },
  {
   "cell_type": "markdown",
   "metadata": {},
   "source": [
    "### Look at average fare at each pickup latitude"
   ]
  },
  {
   "cell_type": "code",
   "execution_count": 144,
   "metadata": {},
   "outputs": [],
   "source": [
    "import seaborn as sns"
   ]
  },
  {
   "cell_type": "code",
   "execution_count": 145,
   "metadata": {},
   "outputs": [
    {
     "data": {
      "text/plain": [
       "Latitude\n",
       "920436.3369    28.666667\n",
       "931467.9628    64.583333\n",
       "932109.6899     8.000000\n",
       "935223.0266    88.000649\n",
       "939978.1196    75.794000\n",
       "Name: fare_amount, dtype: float64"
      ]
     },
     "execution_count": 145,
     "metadata": {},
     "output_type": "execute_result"
    }
   ],
   "source": [
    "lat_fare = lat_long_fare.groupby(\"Latitude\").mean()[\"fare_amount\"]\n",
    "lat_fare.head()"
   ]
  },
  {
   "cell_type": "code",
   "execution_count": 146,
   "metadata": {},
   "outputs": [
    {
     "data": {
      "text/plain": [
       "<matplotlib.axes._subplots.AxesSubplot at 0x215d98b9608>"
      ]
     },
     "execution_count": 146,
     "metadata": {},
     "output_type": "execute_result"
    },
    {
     "data": {
      "image/png": "[encoded data removed]",
      "text/plain": [
       "<Figure size 432x288 with 1 Axes>"
      ]
     },
     "metadata": {
      "needs_background": "light"
     },
     "output_type": "display_data"
    }
   ],
   "source": [
    "sns.scatterplot(data = lat_fare)"
   ]
  },
  {
   "cell_type": "markdown",
   "metadata": {},
   "source": [
    "### Fit a linear regression to fare and latitude and plot the resulting line"
   ]
  },
  {
   "cell_type": "code",
   "execution_count": 147,
   "metadata": {},
   "outputs": [
    {
     "data": {
      "text/plain": [
       "[<matplotlib.lines.Line2D at 0x2157193b8c8>]"
      ]
     },
     "execution_count": 147,
     "metadata": {},
     "output_type": "execute_result"
    },
    {
     "data": {
      "image/png": "[encoded data removed]",
      "text/plain": [
       "<Figure size 720x720 with 1 Axes>"
      ]
     },
     "metadata": {
      "needs_background": "light"
     },
     "output_type": "display_data"
    }
   ],
   "source": [
    "lf = pd.DataFrame(lat_fare).reset_index()\n",
    "\n",
    "import numpy as np\n",
    "X_lat = np.array(lf['Latitude']).reshape(-1, 1)\n",
    "y_lat = np.array(lf['fare_amount']).reshape(-1, 1)\n",
    "\n",
    "from sklearn.linear_model import LinearRegression\n",
    "lm = LinearRegression().fit(X_lat, y_lat)\n",
    "\n",
    "X_plot = np.linspace(X_lat.min(), X_lat.max(), 100)\n",
    "Y_plot = lm.coef_*X_plot+lm.intercept_\n",
    "plt.figure(figsize = (10,10))\n",
    "sns.scatterplot(data = lat_fare)\n",
    "plt.plot(X_plot,Y_plot[0], color = \"red\")"
   ]
  },
  {
   "cell_type": "markdown",
   "metadata": {},
   "source": [
    "### Looks like there is a weak positive correlation between latitude and fare"
   ]
  },
  {
   "cell_type": "markdown",
   "metadata": {},
   "source": [
    "## Do the same thing for longitude"
   ]
  },
  {
   "cell_type": "code",
   "execution_count": 148,
   "metadata": {},
   "outputs": [
    {
     "data": {
      "text/plain": [
       "<matplotlib.axes._subplots.AxesSubplot at 0x21518035d48>"
      ]
     },
     "execution_count": 148,
     "metadata": {},
     "output_type": "execute_result"
    },
    {
     "data": {
      "image/png": "[encoded data removed]",
      "text/plain": [
       "<Figure size 432x288 with 1 Axes>"
      ]
     },
     "metadata": {
      "needs_background": "light"
     },
     "output_type": "display_data"
    }
   ],
   "source": [
    "long_fare = lat_long_fare.groupby(\"Longitude\").mean()[\"fare_amount\"]\n",
    "sns.scatterplot(data = long_fare)"
   ]
  },
  {
   "cell_type": "markdown",
   "metadata": {},
   "source": [
    "## Looks like there is a weak negative correlation between Longitude and fare"
   ]
  },
  {
   "cell_type": "markdown",
   "metadata": {},
   "source": [
    "### Fit another regression"
   ]
  },
  {
   "cell_type": "code",
   "execution_count": 149,
   "metadata": {},
   "outputs": [
    {
     "data": {
      "text/plain": [
       "[<matplotlib.lines.Line2D at 0x21517b5e9c8>]"
      ]
     },
     "execution_count": 149,
     "metadata": {},
     "output_type": "execute_result"
    },
    {
     "data": {
      "image/png": "[encoded data removed]",
      "text/plain": [
       "<Figure size 864x720 with 1 Axes>"
      ]
     },
     "metadata": {
      "needs_background": "light"
     },
     "output_type": "display_data"
    }
   ],
   "source": [
    "lf2 = pd.DataFrame(long_fare).reset_index()\n",
    "\n",
    "X_lon = np.array(lf2['Longitude']).reshape(-1, 1)\n",
    "y_lon = np.array(lf2['fare_amount']).reshape(-1, 1)\n",
    "\n",
    "lm2 = LinearRegression().fit(X_lon, y_lon)\n",
    "\n",
    "X_plot2 = np.linspace(X_lon.min(), X_lon.max(), 2)\n",
    "Y_plot2 = lm2.coef_*X_plot2+lm2.intercept_\n",
    "plt.figure(figsize = (12,10))\n",
    "sns.scatterplot(data = long_fare)\n",
    "plt.plot(X_plot2,Y_plot2[0], color = \"red\")"
   ]
  },
  {
   "cell_type": "markdown",
   "metadata": {},
   "source": [
    "### Look at mean fares in the different seasons"
   ]
  },
  {
   "cell_type": "code",
   "execution_count": 150,
   "metadata": {},
   "outputs": [],
   "source": [
    "winter = taxi_clean[taxi_clean[\"winter\"]==1]\n",
    "spring = taxi_clean[taxi_clean[\"spring\"]==1]\n",
    "summer = taxi_clean[taxi_clean[\"summer\"]==1]\n",
    "fall = taxi_clean[taxi_clean[\"fall\"]==1]"
   ]
  },
  {
   "cell_type": "code",
   "execution_count": 155,
   "metadata": {},
   "outputs": [
    {
     "data": {
      "text/plain": [
       "12.8"
      ]
     },
     "execution_count": 155,
     "metadata": {},
     "output_type": "execute_result"
    }
   ],
   "source": [
    "round(winter[\"fare_amount\"].mean(),2)"
   ]
  },
  {
   "cell_type": "code",
   "execution_count": 156,
   "metadata": {},
   "outputs": [
    {
     "data": {
      "text/plain": [
       "213751"
      ]
     },
     "execution_count": 156,
     "metadata": {},
     "output_type": "execute_result"
    }
   ],
   "source": [
    "len(winter.index)"
   ]
  },
  {
   "cell_type": "code",
   "execution_count": 157,
   "metadata": {},
   "outputs": [
    {
     "data": {
      "text/plain": [
       "13.24"
      ]
     },
     "execution_count": 157,
     "metadata": {},
     "output_type": "execute_result"
    }
   ],
   "source": [
    "round(spring[\"fare_amount\"].mean(),2)"
   ]
  },
  {
   "cell_type": "code",
   "execution_count": 158,
   "metadata": {},
   "outputs": [
    {
     "data": {
      "text/plain": [
       "226215"
      ]
     },
     "execution_count": 158,
     "metadata": {},
     "output_type": "execute_result"
    }
   ],
   "source": [
    "len(spring)"
   ]
  },
  {
   "cell_type": "code",
   "execution_count": 160,
   "metadata": {},
   "outputs": [
    {
     "data": {
      "text/plain": [
       "13.72"
      ]
     },
     "execution_count": 160,
     "metadata": {},
     "output_type": "execute_result"
    }
   ],
   "source": [
    "round(summer[\"fare_amount\"].mean(),2)"
   ]
  },
  {
   "cell_type": "code",
   "execution_count": 161,
   "metadata": {},
   "outputs": [
    {
     "data": {
      "text/plain": [
       "13.69"
      ]
     },
     "execution_count": 161,
     "metadata": {},
     "output_type": "execute_result"
    }
   ],
   "source": [
    "round(fall[\"fare_amount\"].mean(),2)"
   ]
  },
  {
   "cell_type": "code",
   "execution_count": 163,
   "metadata": {},
   "outputs": [
    {
     "data": {
      "text/plain": [
       "204385"
      ]
     },
     "execution_count": 163,
     "metadata": {},
     "output_type": "execute_result"
    }
   ],
   "source": [
    "len(fall.index)"
   ]
  },
  {
   "cell_type": "markdown",
   "metadata": {},
   "source": [
    "## look at holidays"
   ]
  },
  {
   "cell_type": "markdown",
   "metadata": {},
   "source": [
    "https://www.kaggle.com/gsnehaa21/federal-holidays-usa-19662020/data#"
   ]
  },
  {
   "cell_type": "code",
   "execution_count": 322,
   "metadata": {},
   "outputs": [
    {
     "data": {
      "text/html": [
       "<div>\n",
       "<style scoped>\n",
       "    .dataframe tbody tr th:only-of-type {\n",
       "        vertical-align: middle;\n",
       "    }\n",
       "\n",
       "    .dataframe tbody tr th {\n",
       "        vertical-align: top;\n",
       "    }\n",
       "\n",
       "    .dataframe thead th {\n",
       "        text-align: right;\n",
       "    }\n",
       "</style>\n",
       "<table border=\"1\" class=\"dataframe\">\n",
       "  <thead>\n",
       "    <tr style=\"text-align: right;\">\n",
       "      <th></th>\n",
       "      <th>Holiday</th>\n",
       "      <th>hol_date</th>\n",
       "    </tr>\n",
       "  </thead>\n",
       "  <tbody>\n",
       "    <tr>\n",
       "      <td>0</td>\n",
       "      <td>New Year's Day</td>\n",
       "      <td>2019-12-31</td>\n",
       "    </tr>\n",
       "    <tr>\n",
       "      <td>1</td>\n",
       "      <td>Birthday of Martin Luther King, Jr.</td>\n",
       "      <td>2019-01-17</td>\n",
       "    </tr>\n",
       "    <tr>\n",
       "      <td>3</td>\n",
       "      <td>Memorial Day</td>\n",
       "      <td>2019-05-30</td>\n",
       "    </tr>\n",
       "    <tr>\n",
       "      <td>4</td>\n",
       "      <td>Independence Day</td>\n",
       "      <td>2019-07-04</td>\n",
       "    </tr>\n",
       "    <tr>\n",
       "      <td>5</td>\n",
       "      <td>Labor Day</td>\n",
       "      <td>2019-09-05</td>\n",
       "    </tr>\n",
       "    <tr>\n",
       "      <td>7</td>\n",
       "      <td>Veterans Day</td>\n",
       "      <td>2019-11-11</td>\n",
       "    </tr>\n",
       "    <tr>\n",
       "      <td>8</td>\n",
       "      <td>Thanksgiving Day</td>\n",
       "      <td>2019-11-24</td>\n",
       "    </tr>\n",
       "    <tr>\n",
       "      <td>9</td>\n",
       "      <td>Christmas Day</td>\n",
       "      <td>2019-12-26</td>\n",
       "    </tr>\n",
       "    <tr>\n",
       "      <td>10</td>\n",
       "      <td>St. Patricks</td>\n",
       "      <td>2019-03-19</td>\n",
       "    </tr>\n",
       "    <tr>\n",
       "      <td>11</td>\n",
       "      <td>UN Convenes</td>\n",
       "      <td>2019-09-23</td>\n",
       "    </tr>\n",
       "    <tr>\n",
       "      <td>12</td>\n",
       "      <td>UN Ajourns</td>\n",
       "      <td>2019-03-27</td>\n",
       "    </tr>\n",
       "    <tr>\n",
       "      <td>13</td>\n",
       "      <td>New Year's '18</td>\n",
       "      <td>2019-01-01</td>\n",
       "    </tr>\n",
       "  </tbody>\n",
       "</table>\n",
       "</div>"
      ],
      "text/plain": [
       "                                Holiday   hol_date\n",
       "0                        New Year's Day 2019-12-31\n",
       "1   Birthday of Martin Luther King, Jr. 2019-01-17\n",
       "3                          Memorial Day 2019-05-30\n",
       "4                      Independence Day 2019-07-04\n",
       "5                             Labor Day 2019-09-05\n",
       "7                          Veterans Day 2019-11-11\n",
       "8                      Thanksgiving Day 2019-11-24\n",
       "9                         Christmas Day 2019-12-26\n",
       "10                         St. Patricks 2019-03-19\n",
       "11                          UN Convenes 2019-09-23\n",
       "12                           UN Ajourns 2019-03-27\n",
       "13                       New Year's '18 2019-01-01"
      ]
     },
     "execution_count": 322,
     "metadata": {},
     "output_type": "execute_result"
    }
   ],
   "source": [
    "hol = pd.read_csv(\"usholidays.csv\").drop(\"Unnamed: 0\",1)\n",
    "\n",
    "# only 10 unique holidays\n",
    "hol_unique = hol.iloc[0:10]\n",
    "\n",
    "hol = hol_unique\n",
    "hol['month'], hol['day'] = hol[\"Date\"].apply(lambda date: date.split('-')[1]),hol[\"Date\"].apply(lambda date: date.split('-')[2])\n",
    "\n",
    "hol['date'] = '2019-'+hol['month']+'-'+hol['day']\n",
    "\n",
    "hol.drop('Date',1,inplace = True)\n",
    "\n",
    "hol['hol_date'] = pd.to_datetime(hol['date'])\n",
    "hol.drop(['month','day','date'],1,inplace = True)\n",
    "hol.drop([2,6], inplace = True)\n",
    "hol.loc[10]=({\"Holiday\":\"St. Patricks\", \"hol_date\":pd.to_datetime('2019-3-19')})\n",
    "hol.loc[11]=({\"Holiday\":\"UN Convenes\", \"hol_date\":pd.to_datetime('2019-9-23')})\n",
    "hol.loc[12]=({\"Holiday\":\"UN Ajourns\", \"hol_date\":pd.to_datetime('2019-3-27')})\n",
    "hol.loc[13]=({\"Holiday\":\"New Year's '18\", \"hol_date\":pd.to_datetime('2019-1-01')})\n",
    "hol"
   ]
  },
  {
   "cell_type": "code",
   "execution_count": 324,
   "metadata": {},
   "outputs": [
    {
     "name": "stdout",
     "output_type": "stream",
     "text": [
      "New Year's Day\n",
      "\n",
      "Birthday of Martin Luther King, Jr.\n",
      "\n",
      "Memorial Day\n",
      "\n",
      "Independence Day\n",
      "\n",
      "Labor Day\n",
      "\n",
      "Veterans Day\n",
      "\n",
      "Thanksgiving Day\n",
      "\n",
      "Christmas Day\n",
      "\n",
      "St. Patricks\n",
      "\n",
      "UN Convenes\n",
      "\n",
      "UN Ajourns\n",
      "\n",
      "New Year's '18\n",
      "\n"
     ]
    }
   ],
   "source": [
    "# takes about 5 minutes to run this one\n",
    "for ind in hol.index:\n",
    "  hol_name = hol.loc[ind][0]\n",
    "  hol_date = hol.loc[ind][1]\n",
    "  print(hol_name+\"\\n\")\n",
    "  taxi_clean[hol_name+\" proximity\"] = taxi_clean[\"pickup_datetime\"].apply(\n",
    "      lambda ride_date:int((abs(ride_date-hol_date)<timedelta(days = 3))))"
   ]
  },
  {
   "cell_type": "code",
   "execution_count": 354,
   "metadata": {},
   "outputs": [
    {
     "data": {
      "text/plain": [
       "Index(['VendorID', 'tpep_pickup_datetime', 'tpep_dropoff_datetime',\n",
       "       'passenger_count', 'trip_distance', 'RatecodeID', 'store_and_fwd_flag',\n",
       "       'PULocationID', 'DOLocationID', 'payment_type', 'fare_amount', 'extra',\n",
       "       'mta_tax', 'tip_amount', 'tolls_amount', 'improvement_surcharge',\n",
       "       'total_amount', 'congestion_surcharge', 'winter', 'spring', 'summer',\n",
       "       'fall', 'pickup_datetime', 'dropoff_datetime', 'ride_duration',\n",
       "       'New Year's Day proximity',\n",
       "       'Birthday of Martin Luther King, Jr. proximity',\n",
       "       'Memorial Day proximity', 'Independence Day proximity',\n",
       "       'Labor Day proximity', 'Veterans Day proximity',\n",
       "       'Thanksgiving Day proximity', 'Christmas Day proximity',\n",
       "       'St. Patricks proximity', 'UN Convenes proximity',\n",
       "       'UN Ajourns proximity', 'New Year's '18 proximity',\n",
       "       'Holiday Proximity'],\n",
       "      dtype='object')"
      ]
     },
     "execution_count": 354,
     "metadata": {},
     "output_type": "execute_result"
    }
   ],
   "source": [
    "taxi_clean.columns"
   ]
  },
  {
   "cell_type": "code",
   "execution_count": 347,
   "metadata": {},
   "outputs": [],
   "source": [
    "holiday_prox = [\"New Year's Day proximity\",'Birthday of Martin Luther King, Jr. proximity','Memorial Day proximity', \n",
    "                'Independence Day proximity','Labor Day proximity', 'Veterans Day proximity','Thanksgiving Day proximity', \n",
    "                'Christmas Day proximity','St. Patricks proximity', 'UN Convenes proximity','UN Ajourns proximity',\n",
    "               \"New Year's '18 proximity\"]\n",
    "taxi_clean[\"Holiday Proximity\"] = taxi_clean[holiday_prox].apply(lambda ride_prox: int(sum(ride_prox)>0),1)"
   ]
  },
  {
   "cell_type": "code",
   "execution_count": 350,
   "metadata": {},
   "outputs": [],
   "source": [
    "taxi_clean.to_csv(r\"taxi-lg-clean-holiday.csv\")"
   ]
  },
  {
   "cell_type": "code",
   "execution_count": 351,
   "metadata": {},
   "outputs": [],
   "source": [
    "close_to_holiday = taxi_clean[taxi_clean[\"Holiday Proximity\"]==1]"
   ]
  },
  {
   "cell_type": "code",
   "execution_count": 360,
   "metadata": {},
   "outputs": [],
   "source": [
    "far_from_holiday = taxi_clean[taxi_clean[\"Holiday Proximity\"]==0]"
   ]
  },
  {
   "cell_type": "code",
   "execution_count": 361,
   "metadata": {},
   "outputs": [
    {
     "data": {
      "text/plain": [
       "13.399473986594273"
      ]
     },
     "execution_count": 361,
     "metadata": {},
     "output_type": "execute_result"
    }
   ],
   "source": [
    "close_to_holiday[\"fare_amount\"].mean()"
   ]
  },
  {
   "cell_type": "code",
   "execution_count": 364,
   "metadata": {},
   "outputs": [
    {
     "data": {
      "text/plain": [
       "13.336185739791498"
      ]
     },
     "execution_count": 364,
     "metadata": {},
     "output_type": "execute_result"
    }
   ],
   "source": [
    "far_from_holiday[\"fare_amount\"].mean()"
   ]
  },
  {
   "cell_type": "code",
   "execution_count": 365,
   "metadata": {},
   "outputs": [
    {
     "data": {
      "text/plain": [
       "140985"
      ]
     },
     "execution_count": 365,
     "metadata": {},
     "output_type": "execute_result"
    }
   ],
   "source": [
    "len(close_to_holiday.index)"
   ]
  },
  {
   "cell_type": "code",
   "execution_count": 366,
   "metadata": {},
   "outputs": [
    {
     "data": {
      "text/plain": [
       "694520"
      ]
     },
     "execution_count": 366,
     "metadata": {},
     "output_type": "execute_result"
    }
   ],
   "source": [
    "len(far_from_holiday.index)"
   ]
  },
  {
   "cell_type": "markdown",
   "metadata": {},
   "source": [
    "## 6 cent difference between the average fare during the holidays and not during the holidays"
   ]
  },
  {
   "cell_type": "code",
   "execution_count": 318,
   "metadata": {},
   "outputs": [
    {
     "data": {
      "text/plain": [
       "Timestamp('2019-11-21 00:00:30')"
      ]
     },
     "execution_count": 318,
     "metadata": {},
     "output_type": "execute_result"
    }
   ],
   "source": [
    "taxi_clean[taxi_clean[\"Thanksgiving Day proximity\"]==1]['pickup_datetime'].min()"
   ]
  },
  {
   "cell_type": "code",
   "execution_count": 367,
   "metadata": {},
   "outputs": [
    {
     "data": {
      "text/plain": [
       "Timestamp('2019-11-26 23:59:54')"
      ]
     },
     "execution_count": 367,
     "metadata": {},
     "output_type": "execute_result"
    }
   ],
   "source": [
    "taxi_clean[taxi_clean[\"Thanksgiving Day proximity\"]==1]['pickup_datetime'].max()"
   ]
  },
  {
   "cell_type": "markdown",
   "metadata": {},
   "source": [
    "## Identify date/time outliers"
   ]
  },
  {
   "cell_type": "code",
   "execution_count": 75,
   "metadata": {},
   "outputs": [
    {
     "data": {
      "text/html": [
       "<div>\n",
       "<style scoped>\n",
       "    .dataframe tbody tr th:only-of-type {\n",
       "        vertical-align: middle;\n",
       "    }\n",
       "\n",
       "    .dataframe tbody tr th {\n",
       "        vertical-align: top;\n",
       "    }\n",
       "\n",
       "    .dataframe thead th {\n",
       "        text-align: right;\n",
       "    }\n",
       "</style>\n",
       "<table border=\"1\" class=\"dataframe\">\n",
       "  <thead>\n",
       "    <tr style=\"text-align: right;\">\n",
       "      <th></th>\n",
       "      <th>VendorID</th>\n",
       "      <th>tpep_pickup_datetime</th>\n",
       "      <th>tpep_dropoff_datetime</th>\n",
       "      <th>passenger_count</th>\n",
       "      <th>trip_distance</th>\n",
       "      <th>RatecodeID</th>\n",
       "      <th>store_and_fwd_flag</th>\n",
       "      <th>PULocationID</th>\n",
       "      <th>DOLocationID</th>\n",
       "      <th>payment_type</th>\n",
       "      <th>...</th>\n",
       "      <th>summer</th>\n",
       "      <th>fall</th>\n",
       "      <th>Dates</th>\n",
       "      <th>Time</th>\n",
       "      <th>Pick up dates</th>\n",
       "      <th>Pick up times</th>\n",
       "      <th>Drop off dates</th>\n",
       "      <th>Drop off times</th>\n",
       "      <th>pickup_datetime</th>\n",
       "      <th>dropoff_datetime</th>\n",
       "    </tr>\n",
       "  </thead>\n",
       "  <tbody>\n",
       "    <tr>\n",
       "      <td>0</td>\n",
       "      <td>2.0</td>\n",
       "      <td>2019-01-09 00:43:42</td>\n",
       "      <td>2019-01-09 00:52:16</td>\n",
       "      <td>1.0</td>\n",
       "      <td>1.81</td>\n",
       "      <td>1.0</td>\n",
       "      <td>N</td>\n",
       "      <td>142</td>\n",
       "      <td>229</td>\n",
       "      <td>1.0</td>\n",
       "      <td>...</td>\n",
       "      <td>0</td>\n",
       "      <td>0</td>\n",
       "      <td>2019-01-09</td>\n",
       "      <td>00:43:42</td>\n",
       "      <td>2019-01-09</td>\n",
       "      <td>2019-01-09 00:43:42</td>\n",
       "      <td>2019-01-09</td>\n",
       "      <td>2019-01-09 00:52:16</td>\n",
       "      <td>2019-01-09 00:43:42</td>\n",
       "      <td>2019-01-09 00:52:16</td>\n",
       "    </tr>\n",
       "    <tr>\n",
       "      <td>1</td>\n",
       "      <td>1.0</td>\n",
       "      <td>2019-01-01 04:03:20</td>\n",
       "      <td>2019-01-01 04:18:54</td>\n",
       "      <td>1.0</td>\n",
       "      <td>4.30</td>\n",
       "      <td>1.0</td>\n",
       "      <td>N</td>\n",
       "      <td>140</td>\n",
       "      <td>202</td>\n",
       "      <td>1.0</td>\n",
       "      <td>...</td>\n",
       "      <td>0</td>\n",
       "      <td>0</td>\n",
       "      <td>2019-01-01</td>\n",
       "      <td>04:03:20</td>\n",
       "      <td>2019-01-01</td>\n",
       "      <td>2019-01-01 04:03:20</td>\n",
       "      <td>2019-01-01</td>\n",
       "      <td>2019-01-01 04:18:54</td>\n",
       "      <td>2019-01-01 04:03:20</td>\n",
       "      <td>2019-01-01 04:18:54</td>\n",
       "    </tr>\n",
       "    <tr>\n",
       "      <td>2</td>\n",
       "      <td>2.0</td>\n",
       "      <td>2019-01-26 02:19:33</td>\n",
       "      <td>2019-01-26 02:25:37</td>\n",
       "      <td>1.0</td>\n",
       "      <td>1.56</td>\n",
       "      <td>1.0</td>\n",
       "      <td>N</td>\n",
       "      <td>164</td>\n",
       "      <td>68</td>\n",
       "      <td>1.0</td>\n",
       "      <td>...</td>\n",
       "      <td>0</td>\n",
       "      <td>0</td>\n",
       "      <td>2019-01-26</td>\n",
       "      <td>02:19:33</td>\n",
       "      <td>2019-01-26</td>\n",
       "      <td>2019-01-26 02:19:33</td>\n",
       "      <td>2019-01-26</td>\n",
       "      <td>2019-01-26 02:25:37</td>\n",
       "      <td>2019-01-26 02:19:33</td>\n",
       "      <td>2019-01-26 02:25:37</td>\n",
       "    </tr>\n",
       "    <tr>\n",
       "      <td>3</td>\n",
       "      <td>1.0</td>\n",
       "      <td>2019-01-07 16:10:33</td>\n",
       "      <td>2019-01-07 16:26:20</td>\n",
       "      <td>1.0</td>\n",
       "      <td>0.80</td>\n",
       "      <td>1.0</td>\n",
       "      <td>N</td>\n",
       "      <td>170</td>\n",
       "      <td>230</td>\n",
       "      <td>2.0</td>\n",
       "      <td>...</td>\n",
       "      <td>0</td>\n",
       "      <td>0</td>\n",
       "      <td>2019-01-07</td>\n",
       "      <td>16:10:33</td>\n",
       "      <td>2019-01-07</td>\n",
       "      <td>2019-01-07 16:10:33</td>\n",
       "      <td>2019-01-07</td>\n",
       "      <td>2019-01-07 16:26:20</td>\n",
       "      <td>2019-01-07 16:10:33</td>\n",
       "      <td>2019-01-07 16:26:20</td>\n",
       "    </tr>\n",
       "    <tr>\n",
       "      <td>4</td>\n",
       "      <td>1.0</td>\n",
       "      <td>2019-01-20 08:58:48</td>\n",
       "      <td>2019-01-20 09:04:30</td>\n",
       "      <td>1.0</td>\n",
       "      <td>0.50</td>\n",
       "      <td>1.0</td>\n",
       "      <td>N</td>\n",
       "      <td>65</td>\n",
       "      <td>65</td>\n",
       "      <td>1.0</td>\n",
       "      <td>...</td>\n",
       "      <td>0</td>\n",
       "      <td>0</td>\n",
       "      <td>2019-01-20</td>\n",
       "      <td>08:58:48</td>\n",
       "      <td>2019-01-20</td>\n",
       "      <td>2019-01-20 08:58:48</td>\n",
       "      <td>2019-01-20</td>\n",
       "      <td>2019-01-20 09:04:30</td>\n",
       "      <td>2019-01-20 08:58:48</td>\n",
       "      <td>2019-01-20 09:04:30</td>\n",
       "    </tr>\n",
       "  </tbody>\n",
       "</table>\n",
       "<p>5 rows × 30 columns</p>\n",
       "</div>"
      ],
      "text/plain": [
       "   VendorID tpep_pickup_datetime tpep_dropoff_datetime  passenger_count  \\\n",
       "0       2.0  2019-01-09 00:43:42   2019-01-09 00:52:16              1.0   \n",
       "1       1.0  2019-01-01 04:03:20   2019-01-01 04:18:54              1.0   \n",
       "2       2.0  2019-01-26 02:19:33   2019-01-26 02:25:37              1.0   \n",
       "3       1.0  2019-01-07 16:10:33   2019-01-07 16:26:20              1.0   \n",
       "4       1.0  2019-01-20 08:58:48   2019-01-20 09:04:30              1.0   \n",
       "\n",
       "   trip_distance  RatecodeID store_and_fwd_flag  PULocationID  DOLocationID  \\\n",
       "0           1.81         1.0                  N           142           229   \n",
       "1           4.30         1.0                  N           140           202   \n",
       "2           1.56         1.0                  N           164            68   \n",
       "3           0.80         1.0                  N           170           230   \n",
       "4           0.50         1.0                  N            65            65   \n",
       "\n",
       "   payment_type  ...  summer  fall       Dates      Time  Pick up dates  \\\n",
       "0           1.0  ...       0     0  2019-01-09  00:43:42     2019-01-09   \n",
       "1           1.0  ...       0     0  2019-01-01  04:03:20     2019-01-01   \n",
       "2           1.0  ...       0     0  2019-01-26  02:19:33     2019-01-26   \n",
       "3           2.0  ...       0     0  2019-01-07  16:10:33     2019-01-07   \n",
       "4           1.0  ...       0     0  2019-01-20  08:58:48     2019-01-20   \n",
       "\n",
       "        Pick up times  Drop off dates      Drop off times     pickup_datetime  \\\n",
       "0 2019-01-09 00:43:42      2019-01-09 2019-01-09 00:52:16 2019-01-09 00:43:42   \n",
       "1 2019-01-01 04:03:20      2019-01-01 2019-01-01 04:18:54 2019-01-01 04:03:20   \n",
       "2 2019-01-26 02:19:33      2019-01-26 2019-01-26 02:25:37 2019-01-26 02:19:33   \n",
       "3 2019-01-07 16:10:33      2019-01-07 2019-01-07 16:26:20 2019-01-07 16:10:33   \n",
       "4 2019-01-20 08:58:48      2019-01-20 2019-01-20 09:04:30 2019-01-20 08:58:48   \n",
       "\n",
       "     dropoff_datetime  \n",
       "0 2019-01-09 00:52:16  \n",
       "1 2019-01-01 04:18:54  \n",
       "2 2019-01-26 02:25:37  \n",
       "3 2019-01-07 16:26:20  \n",
       "4 2019-01-20 09:04:30  \n",
       "\n",
       "[5 rows x 30 columns]"
      ]
     },
     "execution_count": 75,
     "metadata": {},
     "output_type": "execute_result"
    }
   ],
   "source": [
    "# separate the date and time into separate columns\n",
    "taxi_med['pickup_datetime'] = pd.to_datetime(taxi_med['tpep_pickup_datetime'])\n",
    "taxi_med['dropoff_datetime'] = pd.to_datetime(taxi_med['tpep_dropoff_datetime'])\n",
    "taxi_med.head()"
   ]
  },
  {
   "cell_type": "code",
   "execution_count": 76,
   "metadata": {},
   "outputs": [
    {
     "data": {
      "text/html": [
       "<div>\n",
       "<style scoped>\n",
       "    .dataframe tbody tr th:only-of-type {\n",
       "        vertical-align: middle;\n",
       "    }\n",
       "\n",
       "    .dataframe tbody tr th {\n",
       "        vertical-align: top;\n",
       "    }\n",
       "\n",
       "    .dataframe thead th {\n",
       "        text-align: right;\n",
       "    }\n",
       "</style>\n",
       "<table border=\"1\" class=\"dataframe\">\n",
       "  <thead>\n",
       "    <tr style=\"text-align: right;\">\n",
       "      <th></th>\n",
       "      <th>pickup_datetime</th>\n",
       "      <th>dropoff_datetime</th>\n",
       "      <th>fare_amount</th>\n",
       "    </tr>\n",
       "  </thead>\n",
       "  <tbody>\n",
       "    <tr>\n",
       "      <td>0</td>\n",
       "      <td>2019-01-09 00:43:42</td>\n",
       "      <td>2019-01-09 00:52:16</td>\n",
       "      <td>8.5</td>\n",
       "    </tr>\n",
       "    <tr>\n",
       "      <td>1</td>\n",
       "      <td>2019-01-01 04:03:20</td>\n",
       "      <td>2019-01-01 04:18:54</td>\n",
       "      <td>15.0</td>\n",
       "    </tr>\n",
       "    <tr>\n",
       "      <td>2</td>\n",
       "      <td>2019-01-26 02:19:33</td>\n",
       "      <td>2019-01-26 02:25:37</td>\n",
       "      <td>7.0</td>\n",
       "    </tr>\n",
       "    <tr>\n",
       "      <td>3</td>\n",
       "      <td>2019-01-07 16:10:33</td>\n",
       "      <td>2019-01-07 16:26:20</td>\n",
       "      <td>10.5</td>\n",
       "    </tr>\n",
       "    <tr>\n",
       "      <td>4</td>\n",
       "      <td>2019-01-20 08:58:48</td>\n",
       "      <td>2019-01-20 09:04:30</td>\n",
       "      <td>5.5</td>\n",
       "    </tr>\n",
       "  </tbody>\n",
       "</table>\n",
       "</div>"
      ],
      "text/plain": [
       "      pickup_datetime    dropoff_datetime  fare_amount\n",
       "0 2019-01-09 00:43:42 2019-01-09 00:52:16          8.5\n",
       "1 2019-01-01 04:03:20 2019-01-01 04:18:54         15.0\n",
       "2 2019-01-26 02:19:33 2019-01-26 02:25:37          7.0\n",
       "3 2019-01-07 16:10:33 2019-01-07 16:26:20         10.5\n",
       "4 2019-01-20 08:58:48 2019-01-20 09:04:30          5.5"
      ]
     },
     "execution_count": 76,
     "metadata": {},
     "output_type": "execute_result"
    }
   ],
   "source": [
    "# make a new dataframe with only dates, times, and fares\n",
    "df = taxi_med[['pickup_datetime','dropoff_datetime','fare_amount']].copy()\n",
    "df.head()"
   ]
  },
  {
   "cell_type": "markdown",
   "metadata": {},
   "source": [
    "We can standardize the fare by dividing the average fare amount by the ride duration and map it to the time that the ride started. So, we'd be left with how much the average ride costs per minute for a given time. This would actually be better to determine if time has an impact on fare"
   ]
  },
  {
   "cell_type": "code",
   "execution_count": 175,
   "metadata": {},
   "outputs": [
    {
     "data": {
      "text/html": [
       "<div>\n",
       "<style scoped>\n",
       "    .dataframe tbody tr th:only-of-type {\n",
       "        vertical-align: middle;\n",
       "    }\n",
       "\n",
       "    .dataframe tbody tr th {\n",
       "        vertical-align: top;\n",
       "    }\n",
       "\n",
       "    .dataframe thead th {\n",
       "        text-align: right;\n",
       "    }\n",
       "</style>\n",
       "<table border=\"1\" class=\"dataframe\">\n",
       "  <thead>\n",
       "    <tr style=\"text-align: right;\">\n",
       "      <th></th>\n",
       "      <th>average_fare_per_min</th>\n",
       "    </tr>\n",
       "  </thead>\n",
       "  <tbody>\n",
       "    <tr>\n",
       "      <td>0</td>\n",
       "      <td>2.001748</td>\n",
       "    </tr>\n",
       "    <tr>\n",
       "      <td>1</td>\n",
       "      <td>1.812085</td>\n",
       "    </tr>\n",
       "    <tr>\n",
       "      <td>2</td>\n",
       "      <td>1.503321</td>\n",
       "    </tr>\n",
       "    <tr>\n",
       "      <td>3</td>\n",
       "      <td>1.333522</td>\n",
       "    </tr>\n",
       "    <tr>\n",
       "      <td>4</td>\n",
       "      <td>2.657616</td>\n",
       "    </tr>\n",
       "    <tr>\n",
       "      <td>5</td>\n",
       "      <td>2.168571</td>\n",
       "    </tr>\n",
       "    <tr>\n",
       "      <td>6</td>\n",
       "      <td>1.382433</td>\n",
       "    </tr>\n",
       "    <tr>\n",
       "      <td>7</td>\n",
       "      <td>1.344623</td>\n",
       "    </tr>\n",
       "    <tr>\n",
       "      <td>8</td>\n",
       "      <td>1.316673</td>\n",
       "    </tr>\n",
       "    <tr>\n",
       "      <td>9</td>\n",
       "      <td>1.382971</td>\n",
       "    </tr>\n",
       "    <tr>\n",
       "      <td>10</td>\n",
       "      <td>1.070903</td>\n",
       "    </tr>\n",
       "    <tr>\n",
       "      <td>11</td>\n",
       "      <td>1.248449</td>\n",
       "    </tr>\n",
       "    <tr>\n",
       "      <td>12</td>\n",
       "      <td>1.491040</td>\n",
       "    </tr>\n",
       "    <tr>\n",
       "      <td>13</td>\n",
       "      <td>1.098545</td>\n",
       "    </tr>\n",
       "    <tr>\n",
       "      <td>14</td>\n",
       "      <td>1.254265</td>\n",
       "    </tr>\n",
       "    <tr>\n",
       "      <td>15</td>\n",
       "      <td>1.337593</td>\n",
       "    </tr>\n",
       "    <tr>\n",
       "      <td>16</td>\n",
       "      <td>1.602702</td>\n",
       "    </tr>\n",
       "    <tr>\n",
       "      <td>17</td>\n",
       "      <td>1.206809</td>\n",
       "    </tr>\n",
       "    <tr>\n",
       "      <td>18</td>\n",
       "      <td>1.263998</td>\n",
       "    </tr>\n",
       "    <tr>\n",
       "      <td>19</td>\n",
       "      <td>1.493456</td>\n",
       "    </tr>\n",
       "    <tr>\n",
       "      <td>20</td>\n",
       "      <td>1.333488</td>\n",
       "    </tr>\n",
       "    <tr>\n",
       "      <td>21</td>\n",
       "      <td>1.208405</td>\n",
       "    </tr>\n",
       "    <tr>\n",
       "      <td>22</td>\n",
       "      <td>1.432724</td>\n",
       "    </tr>\n",
       "    <tr>\n",
       "      <td>23</td>\n",
       "      <td>1.354486</td>\n",
       "    </tr>\n",
       "  </tbody>\n",
       "</table>\n",
       "</div>"
      ],
      "text/plain": [
       "    average_fare_per_min\n",
       "0               2.001748\n",
       "1               1.812085\n",
       "2               1.503321\n",
       "3               1.333522\n",
       "4               2.657616\n",
       "5               2.168571\n",
       "6               1.382433\n",
       "7               1.344623\n",
       "8               1.316673\n",
       "9               1.382971\n",
       "10              1.070903\n",
       "11              1.248449\n",
       "12              1.491040\n",
       "13              1.098545\n",
       "14              1.254265\n",
       "15              1.337593\n",
       "16              1.602702\n",
       "17              1.206809\n",
       "18              1.263998\n",
       "19              1.493456\n",
       "20              1.333488\n",
       "21              1.208405\n",
       "22              1.432724\n",
       "23              1.354486"
      ]
     },
     "execution_count": 175,
     "metadata": {},
     "output_type": "execute_result"
    }
   ],
   "source": [
    "# Sort dataframe by pickup times\n",
    "# df = df.sort_values(by='pickup_datetime',ascending=True)\n",
    "# Found that two entries aren't from 2019\n",
    "\n",
    "from datetime import datetime, date, timedelta\n",
    "import numpy as np\n",
    "\n",
    "# Compute ride time\n",
    "df['ride_duration'] = np.vectorize(lambda drop, pick: drop - pick)(df['dropoff_datetime'], df['pickup_datetime'])\n",
    "\n",
    "# Drop rides longer than 3 hours\n",
    "df.drop(df[df['ride_duration'] > timedelta(hours=3)].index, inplace=True)\n",
    "\n",
    "# Drop rides less than 1 seconds\n",
    "df.drop(df[df['ride_duration'] < timedelta(seconds=1)].index, inplace=True)\n",
    "\n",
    "# Convert ride duration to minutes\n",
    "df['ride_duration'] = list(map(lambda dur: dur.seconds/60, df['ride_duration']))\n",
    "\n",
    "# Compute fare per minute\n",
    "df['fare_per_min'] = df['fare_amount'] / df['ride_duration']\n",
    "\n",
    "\n",
    "fares = [0.0] * 24\n",
    "rides = [0.0] * 24\n",
    "for _, row in df.iterrows():\n",
    "    fares[row['pickup_datetime'].hour] += row['fare_per_min']\n",
    "    rides[row['pickup_datetime'].hour] += 1\n",
    "    \n",
    "hourly_avg_fare_per_min = pd.DataFrame(columns=['average_fare_per_min'])\n",
    "hourly_avg_fare_per_min['average_fare_per_min'] = list(map(lambda pair: pair[0]/pair[1], zip(fares, rides)))\n",
    "hourly_avg_fare_per_min"
   ]
  },
  {
   "cell_type": "markdown",
   "metadata": {},
   "source": [
    "Issues found to be fixed:\n",
    "-Two entries not from 2019\n",
    "-Some entries that claim pick up and drop off at the same time, with passenger count of 0 and a huge fare (this doesn't mean that a 0 passenger count is always a huge fare, most of the time this is reasonable)\n",
    "-Passenger count of 0 is very prevalent, cannot use passengers as a feature in the model\n",
    "-Some rides are very long, but the fare is very cheap. If we are to use the length of the ride as feature, we would have to throw out the rides that are unusually long"
   ]
  },
  {
   "cell_type": "markdown",
   "metadata": {},
   "source": [
    "## Add pickup and dropoff zone and borough information to taxi_large"
   ]
  },
  {
   "cell_type": "code",
   "execution_count": 279,
   "metadata": {},
   "outputs": [
    {
     "data": {
      "text/html": [
       "<div>\n",
       "<style scoped>\n",
       "    .dataframe tbody tr th:only-of-type {\n",
       "        vertical-align: middle;\n",
       "    }\n",
       "\n",
       "    .dataframe tbody tr th {\n",
       "        vertical-align: top;\n",
       "    }\n",
       "\n",
       "    .dataframe thead th {\n",
       "        text-align: right;\n",
       "    }\n",
       "</style>\n",
       "<table border=\"1\" class=\"dataframe\">\n",
       "  <thead>\n",
       "    <tr style=\"text-align: right;\">\n",
       "      <th></th>\n",
       "      <th>VendorID</th>\n",
       "      <th>tpep_pickup_datetime</th>\n",
       "      <th>tpep_dropoff_datetime</th>\n",
       "      <th>passenger_count</th>\n",
       "      <th>trip_distance</th>\n",
       "      <th>RatecodeID</th>\n",
       "      <th>store_and_fwd_flag</th>\n",
       "      <th>PULocationID</th>\n",
       "      <th>DOLocationID</th>\n",
       "      <th>payment_type</th>\n",
       "      <th>...</th>\n",
       "      <th>winter</th>\n",
       "      <th>spring</th>\n",
       "      <th>summer</th>\n",
       "      <th>fall</th>\n",
       "      <th>PU_Borough</th>\n",
       "      <th>PU_Zone</th>\n",
       "      <th>PU_service_zone</th>\n",
       "      <th>DO_Borough</th>\n",
       "      <th>DO_Zone</th>\n",
       "      <th>DO_service_zone</th>\n",
       "    </tr>\n",
       "  </thead>\n",
       "  <tbody>\n",
       "    <tr>\n",
       "      <td>0</td>\n",
       "      <td>1.0</td>\n",
       "      <td>2019-01-12 11:22:29</td>\n",
       "      <td>2019-01-12 11:29:48</td>\n",
       "      <td>2.0</td>\n",
       "      <td>0.90</td>\n",
       "      <td>1.0</td>\n",
       "      <td>N</td>\n",
       "      <td>260</td>\n",
       "      <td>226</td>\n",
       "      <td>2.0</td>\n",
       "      <td>...</td>\n",
       "      <td>1</td>\n",
       "      <td>0</td>\n",
       "      <td>0</td>\n",
       "      <td>0</td>\n",
       "      <td>Queens</td>\n",
       "      <td>Woodside</td>\n",
       "      <td>Boro Zone</td>\n",
       "      <td>Queens</td>\n",
       "      <td>Sunnyside</td>\n",
       "      <td>Boro Zone</td>\n",
       "    </tr>\n",
       "    <tr>\n",
       "      <td>1</td>\n",
       "      <td>2.0</td>\n",
       "      <td>2019-01-10 18:49:12</td>\n",
       "      <td>2019-01-10 18:57:21</td>\n",
       "      <td>1.0</td>\n",
       "      <td>1.01</td>\n",
       "      <td>1.0</td>\n",
       "      <td>N</td>\n",
       "      <td>140</td>\n",
       "      <td>237</td>\n",
       "      <td>1.0</td>\n",
       "      <td>...</td>\n",
       "      <td>1</td>\n",
       "      <td>0</td>\n",
       "      <td>0</td>\n",
       "      <td>0</td>\n",
       "      <td>Manhattan</td>\n",
       "      <td>Lenox Hill East</td>\n",
       "      <td>Yellow Zone</td>\n",
       "      <td>Manhattan</td>\n",
       "      <td>Upper East Side South</td>\n",
       "      <td>Yellow Zone</td>\n",
       "    </tr>\n",
       "    <tr>\n",
       "      <td>2</td>\n",
       "      <td>2.0</td>\n",
       "      <td>2019-01-29 12:55:07</td>\n",
       "      <td>2019-01-29 13:15:27</td>\n",
       "      <td>1.0</td>\n",
       "      <td>2.64</td>\n",
       "      <td>1.0</td>\n",
       "      <td>N</td>\n",
       "      <td>162</td>\n",
       "      <td>43</td>\n",
       "      <td>2.0</td>\n",
       "      <td>...</td>\n",
       "      <td>1</td>\n",
       "      <td>0</td>\n",
       "      <td>0</td>\n",
       "      <td>0</td>\n",
       "      <td>Manhattan</td>\n",
       "      <td>Midtown East</td>\n",
       "      <td>Yellow Zone</td>\n",
       "      <td>Manhattan</td>\n",
       "      <td>Central Park</td>\n",
       "      <td>Yellow Zone</td>\n",
       "    </tr>\n",
       "    <tr>\n",
       "      <td>3</td>\n",
       "      <td>1.0</td>\n",
       "      <td>2019-01-11 18:07:20</td>\n",
       "      <td>2019-01-11 18:11:42</td>\n",
       "      <td>1.0</td>\n",
       "      <td>1.00</td>\n",
       "      <td>1.0</td>\n",
       "      <td>N</td>\n",
       "      <td>236</td>\n",
       "      <td>75</td>\n",
       "      <td>1.0</td>\n",
       "      <td>...</td>\n",
       "      <td>1</td>\n",
       "      <td>0</td>\n",
       "      <td>0</td>\n",
       "      <td>0</td>\n",
       "      <td>Manhattan</td>\n",
       "      <td>Upper East Side North</td>\n",
       "      <td>Yellow Zone</td>\n",
       "      <td>Manhattan</td>\n",
       "      <td>East Harlem South</td>\n",
       "      <td>Boro Zone</td>\n",
       "    </tr>\n",
       "    <tr>\n",
       "      <td>4</td>\n",
       "      <td>2.0</td>\n",
       "      <td>2019-01-18 09:06:26</td>\n",
       "      <td>2019-01-18 09:16:14</td>\n",
       "      <td>1.0</td>\n",
       "      <td>1.59</td>\n",
       "      <td>1.0</td>\n",
       "      <td>N</td>\n",
       "      <td>125</td>\n",
       "      <td>113</td>\n",
       "      <td>2.0</td>\n",
       "      <td>...</td>\n",
       "      <td>1</td>\n",
       "      <td>0</td>\n",
       "      <td>0</td>\n",
       "      <td>0</td>\n",
       "      <td>Manhattan</td>\n",
       "      <td>Hudson Sq</td>\n",
       "      <td>Yellow Zone</td>\n",
       "      <td>Manhattan</td>\n",
       "      <td>Greenwich Village North</td>\n",
       "      <td>Yellow Zone</td>\n",
       "    </tr>\n",
       "  </tbody>\n",
       "</table>\n",
       "<p>5 rows × 28 columns</p>\n",
       "</div>"
      ],
      "text/plain": [
       "   VendorID tpep_pickup_datetime tpep_dropoff_datetime  passenger_count  \\\n",
       "0       1.0  2019-01-12 11:22:29   2019-01-12 11:29:48              2.0   \n",
       "1       2.0  2019-01-10 18:49:12   2019-01-10 18:57:21              1.0   \n",
       "2       2.0  2019-01-29 12:55:07   2019-01-29 13:15:27              1.0   \n",
       "3       1.0  2019-01-11 18:07:20   2019-01-11 18:11:42              1.0   \n",
       "4       2.0  2019-01-18 09:06:26   2019-01-18 09:16:14              1.0   \n",
       "\n",
       "   trip_distance  RatecodeID store_and_fwd_flag  PULocationID  DOLocationID  \\\n",
       "0           0.90         1.0                  N           260           226   \n",
       "1           1.01         1.0                  N           140           237   \n",
       "2           2.64         1.0                  N           162            43   \n",
       "3           1.00         1.0                  N           236            75   \n",
       "4           1.59         1.0                  N           125           113   \n",
       "\n",
       "   payment_type  ...  winter  spring  summer  fall  PU_Borough  \\\n",
       "0           2.0  ...       1       0       0     0      Queens   \n",
       "1           1.0  ...       1       0       0     0   Manhattan   \n",
       "2           2.0  ...       1       0       0     0   Manhattan   \n",
       "3           1.0  ...       1       0       0     0   Manhattan   \n",
       "4           2.0  ...       1       0       0     0   Manhattan   \n",
       "\n",
       "                 PU_Zone  PU_service_zone  DO_Borough  \\\n",
       "0               Woodside        Boro Zone      Queens   \n",
       "1        Lenox Hill East      Yellow Zone   Manhattan   \n",
       "2           Midtown East      Yellow Zone   Manhattan   \n",
       "3  Upper East Side North      Yellow Zone   Manhattan   \n",
       "4              Hudson Sq      Yellow Zone   Manhattan   \n",
       "\n",
       "                   DO_Zone  DO_service_zone  \n",
       "0                Sunnyside        Boro Zone  \n",
       "1    Upper East Side South      Yellow Zone  \n",
       "2             Central Park      Yellow Zone  \n",
       "3        East Harlem South        Boro Zone  \n",
       "4  Greenwich Village North      Yellow Zone  \n",
       "\n",
       "[5 rows x 28 columns]"
      ]
     },
     "execution_count": 279,
     "metadata": {},
     "output_type": "execute_result"
    }
   ],
   "source": [
    "df2 = taxi_large.join(other = taxi_zones.set_index(\"LocationID\"), on = \"PULocationID\", how = \"left\")\n",
    "df2 = df2.rename(columns={\"Borough\": \"PU_Borough\",\"Zone\": \"PU_Zone\", \"service_zone\": \"PU_service_zone\"})\n",
    "df3 = df2.join(other = taxi_zones.set_index(\"LocationID\"), on = \"DOLocationID\", how = \"left\")\n",
    "df3 = df3.rename(columns={\"Borough\": \"DO_Borough\",\"Zone\": \"DO_Zone\", \"service_zone\": \"DO_service_zone\"})\n",
    "df3.head()"
   ]
  },
  {
   "cell_type": "code",
   "execution_count": 280,
   "metadata": {},
   "outputs": [
    {
     "data": {
      "text/html": [
       "<div>\n",
       "<style scoped>\n",
       "    .dataframe tbody tr th:only-of-type {\n",
       "        vertical-align: middle;\n",
       "    }\n",
       "\n",
       "    .dataframe tbody tr th {\n",
       "        vertical-align: top;\n",
       "    }\n",
       "\n",
       "    .dataframe thead th {\n",
       "        text-align: right;\n",
       "    }\n",
       "</style>\n",
       "<table border=\"1\" class=\"dataframe\">\n",
       "  <thead>\n",
       "    <tr style=\"text-align: right;\">\n",
       "      <th></th>\n",
       "      <th>pickup_datetime</th>\n",
       "      <th>dropoff_datetime</th>\n",
       "      <th>fare_amount</th>\n",
       "      <th>PULocationID</th>\n",
       "      <th>PU_Zone</th>\n",
       "      <th>DOLocationID</th>\n",
       "      <th>DO_Zone</th>\n",
       "      <th>ride_duration</th>\n",
       "    </tr>\n",
       "  </thead>\n",
       "  <tbody>\n",
       "    <tr>\n",
       "      <td>0</td>\n",
       "      <td>2019-01-12 11:22:29</td>\n",
       "      <td>2019-01-12 11:29:48</td>\n",
       "      <td>6.5</td>\n",
       "      <td>260</td>\n",
       "      <td>Woodside</td>\n",
       "      <td>226</td>\n",
       "      <td>Sunnyside</td>\n",
       "      <td>439</td>\n",
       "    </tr>\n",
       "    <tr>\n",
       "      <td>1</td>\n",
       "      <td>2019-01-10 18:49:12</td>\n",
       "      <td>2019-01-10 18:57:21</td>\n",
       "      <td>7.0</td>\n",
       "      <td>140</td>\n",
       "      <td>Lenox Hill East</td>\n",
       "      <td>237</td>\n",
       "      <td>Upper East Side South</td>\n",
       "      <td>489</td>\n",
       "    </tr>\n",
       "    <tr>\n",
       "      <td>2</td>\n",
       "      <td>2019-01-29 12:55:07</td>\n",
       "      <td>2019-01-29 13:15:27</td>\n",
       "      <td>14.5</td>\n",
       "      <td>162</td>\n",
       "      <td>Midtown East</td>\n",
       "      <td>43</td>\n",
       "      <td>Central Park</td>\n",
       "      <td>1220</td>\n",
       "    </tr>\n",
       "    <tr>\n",
       "      <td>3</td>\n",
       "      <td>2019-01-11 18:07:20</td>\n",
       "      <td>2019-01-11 18:11:42</td>\n",
       "      <td>5.5</td>\n",
       "      <td>236</td>\n",
       "      <td>Upper East Side North</td>\n",
       "      <td>75</td>\n",
       "      <td>East Harlem South</td>\n",
       "      <td>262</td>\n",
       "    </tr>\n",
       "    <tr>\n",
       "      <td>4</td>\n",
       "      <td>2019-01-18 09:06:26</td>\n",
       "      <td>2019-01-18 09:16:14</td>\n",
       "      <td>7.5</td>\n",
       "      <td>125</td>\n",
       "      <td>Hudson Sq</td>\n",
       "      <td>113</td>\n",
       "      <td>Greenwich Village North</td>\n",
       "      <td>588</td>\n",
       "    </tr>\n",
       "  </tbody>\n",
       "</table>\n",
       "</div>"
      ],
      "text/plain": [
       "      pickup_datetime    dropoff_datetime  fare_amount  PULocationID  \\\n",
       "0 2019-01-12 11:22:29 2019-01-12 11:29:48          6.5           260   \n",
       "1 2019-01-10 18:49:12 2019-01-10 18:57:21          7.0           140   \n",
       "2 2019-01-29 12:55:07 2019-01-29 13:15:27         14.5           162   \n",
       "3 2019-01-11 18:07:20 2019-01-11 18:11:42          5.5           236   \n",
       "4 2019-01-18 09:06:26 2019-01-18 09:16:14          7.5           125   \n",
       "\n",
       "                 PU_Zone  DOLocationID                  DO_Zone  ride_duration  \n",
       "0               Woodside           226                Sunnyside            439  \n",
       "1        Lenox Hill East           237    Upper East Side South            489  \n",
       "2           Midtown East            43             Central Park           1220  \n",
       "3  Upper East Side North            75        East Harlem South            262  \n",
       "4              Hudson Sq           113  Greenwich Village North            588  "
      ]
     },
     "execution_count": 280,
     "metadata": {},
     "output_type": "execute_result"
    }
   ],
   "source": [
    "# separate the date and time into separate columns\n",
    "df3['pickup_datetime'] = pd.to_datetime(df3['tpep_pickup_datetime'])\n",
    "df3['dropoff_datetime'] = pd.to_datetime(df3['tpep_dropoff_datetime'])\n",
    "\n",
    "# make a new dataframe with fares\n",
    "df4 = df3[['pickup_datetime','dropoff_datetime','fare_amount','PULocationID','PU_Zone','DOLocationID','DO_Zone']].copy()\n",
    "df4['ride_duration'] = np.vectorize(lambda drop, pick: drop - pick)(df3['dropoff_datetime'], df3['pickup_datetime'])\n",
    "\n",
    "# Convert ride duration to seconds\n",
    "df4['ride_duration'] = list(map(lambda dur: dur.seconds, df4['ride_duration']))\n",
    "\n",
    "df4.head()"
   ]
  },
  {
   "cell_type": "markdown",
   "metadata": {},
   "source": [
    "## Need to determine baseline model"
   ]
  },
  {
   "cell_type": "code",
   "execution_count": null,
   "metadata": {},
   "outputs": [],
   "source": []
  },
  {
   "cell_type": "markdown",
   "metadata": {},
   "source": [
    "## Linear Regression on PULocationID PULocationID, ride_duration against fare_amount"
   ]
  },
  {
   "cell_type": "code",
   "execution_count": 282,
   "metadata": {},
   "outputs": [
    {
     "name": "stdout",
     "output_type": "stream",
     "text": [
      "[13.75215568 12.28048755 16.24402435 ... 11.93381614 10.82485152\n",
      " 13.69450951]\n",
      "Test RMSE: 12.024\n"
     ]
    }
   ],
   "source": [
    "from sklearn.model_selection import train_test_split\n",
    "from sklearn.linear_model import LinearRegression\n",
    "from sklearn.metrics import mean_squared_error\n",
    "\n",
    "y = df4['fare_amount']\n",
    "X = df4.drop(columns=['fare_amount','pickup_datetime','dropoff_datetime','PU_Zone','DO_Zone'])\n",
    "X_train, X_test, y_train, y_test = train_test_split(X, y, test_size=0.33, random_state=42)\n",
    "\n",
    "\n",
    "lr = LinearRegression()\n",
    "lr.fit(X_train, y_train)\n",
    "y_pred = lr.predict(X_test)\n",
    "\n",
    "print(y_pred)\n",
    "print(\"Test RMSE: %.3f\" % mean_squared_error(y_test, y_pred) ** 0.5)"
   ]
  },
  {
   "cell_type": "code",
   "execution_count": null,
   "metadata": {},
   "outputs": [],
   "source": []
  }
 ],
 "metadata": {
  "kernelspec": {
   "display_name": "Python 3",
   "language": "python",
   "name": "python3"
  },
  "language_info": {
   "codemirror_mode": {
    "name": "ipython",
    "version": 3
   },
   "file_extension": ".py",
   "mimetype": "text/x-python",
   "name": "python",
   "nbconvert_exporter": "python",
   "pygments_lexer": "ipython3",
   "version": "3.7.4"
  }
 },
 "nbformat": 4,
 "nbformat_minor": 4
}
