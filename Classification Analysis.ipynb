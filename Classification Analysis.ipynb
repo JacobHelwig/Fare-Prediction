{
 "cells": [
  {
   "cell_type": "code",
   "execution_count": 1,
   "metadata": {},
   "outputs": [],
   "source": [
    "import warnings\n",
    "warnings.simplefilter(\"ignore\")\n",
    "\n",
    "import pandas as pd\n",
    "import matplotlib as plt\n",
    "import numpy as np\n",
    "import sklearn as sk\n",
    "import time\n",
    "\n",
    "from sklearn.preprocessing import StandardScaler\n",
    "from sklearn.pipeline import Pipeline\n",
    "from sklearn.naive_bayes import GaussianNB\n",
    "from sklearn.model_selection import cross_val_score\n",
    "from sklearn.model_selection import cross_val_predict\n",
    "from sklearn.metrics import confusion_matrix\n",
    "from sklearn.metrics import classification_report\n",
    "from sklearn.model_selection import GridSearchCV\n",
    "from sklearn.neural_network import MLPClassifier\n"
   ]
  },
  {
   "cell_type": "code",
   "execution_count": 2,
   "metadata": {},
   "outputs": [
    {
     "name": "stdout",
     "output_type": "stream",
     "text": [
      "(8050, 19)\n"
     ]
    },
    {
     "data": {
      "text/html": [
       "<div>\n",
       "<style scoped>\n",
       "    .dataframe tbody tr th:only-of-type {\n",
       "        vertical-align: middle;\n",
       "    }\n",
       "\n",
       "    .dataframe tbody tr th {\n",
       "        vertical-align: top;\n",
       "    }\n",
       "\n",
       "    .dataframe thead th {\n",
       "        text-align: right;\n",
       "    }\n",
       "</style>\n",
       "<table border=\"1\" class=\"dataframe\">\n",
       "  <thead>\n",
       "    <tr style=\"text-align: right;\">\n",
       "      <th></th>\n",
       "      <th>trip_distance</th>\n",
       "      <th>fare_amount</th>\n",
       "      <th>winter</th>\n",
       "      <th>spring</th>\n",
       "      <th>summer</th>\n",
       "      <th>fall</th>\n",
       "      <th>PULongitude</th>\n",
       "      <th>PULatitude</th>\n",
       "      <th>DOLongitude</th>\n",
       "      <th>DOLatitude</th>\n",
       "      <th>pickup_datetime</th>\n",
       "      <th>dropoff_datetime</th>\n",
       "      <th>ride_duration</th>\n",
       "      <th>Early morning</th>\n",
       "      <th>Morning</th>\n",
       "      <th>Afternoon</th>\n",
       "      <th>Night</th>\n",
       "      <th>Holiday Proximity</th>\n",
       "      <th>label</th>\n",
       "    </tr>\n",
       "  </thead>\n",
       "  <tbody>\n",
       "    <tr>\n",
       "      <td>0</td>\n",
       "      <td>1.1</td>\n",
       "      <td>7.0</td>\n",
       "      <td>0</td>\n",
       "      <td>1</td>\n",
       "      <td>0</td>\n",
       "      <td>0</td>\n",
       "      <td>-73.984176</td>\n",
       "      <td>40.759845</td>\n",
       "      <td>-73.972145</td>\n",
       "      <td>40.756816</td>\n",
       "      <td>2019-04-29 07:55:30</td>\n",
       "      <td>2019-04-29 08:03:39</td>\n",
       "      <td>0 days 00:08:09.000000000</td>\n",
       "      <td>0</td>\n",
       "      <td>1</td>\n",
       "      <td>0</td>\n",
       "      <td>0</td>\n",
       "      <td>0</td>\n",
       "      <td>B</td>\n",
       "    </tr>\n",
       "    <tr>\n",
       "      <td>1</td>\n",
       "      <td>2.6</td>\n",
       "      <td>12.0</td>\n",
       "      <td>0</td>\n",
       "      <td>0</td>\n",
       "      <td>1</td>\n",
       "      <td>0</td>\n",
       "      <td>-73.992455</td>\n",
       "      <td>40.748476</td>\n",
       "      <td>-74.008386</td>\n",
       "      <td>40.735248</td>\n",
       "      <td>2019-08-31 14:26:37</td>\n",
       "      <td>2019-08-31 14:42:27</td>\n",
       "      <td>0 days 00:15:50.000000000</td>\n",
       "      <td>0</td>\n",
       "      <td>0</td>\n",
       "      <td>1</td>\n",
       "      <td>0</td>\n",
       "      <td>0</td>\n",
       "      <td>D</td>\n",
       "    </tr>\n",
       "    <tr>\n",
       "      <td>2</td>\n",
       "      <td>1.2</td>\n",
       "      <td>5.5</td>\n",
       "      <td>0</td>\n",
       "      <td>0</td>\n",
       "      <td>1</td>\n",
       "      <td>0</td>\n",
       "      <td>-73.965174</td>\n",
       "      <td>40.756589</td>\n",
       "      <td>-73.951208</td>\n",
       "      <td>40.778496</td>\n",
       "      <td>2019-07-07 17:53:54</td>\n",
       "      <td>2019-07-07 17:57:55</td>\n",
       "      <td>0 days 00:04:01.000000000</td>\n",
       "      <td>0</td>\n",
       "      <td>0</td>\n",
       "      <td>1</td>\n",
       "      <td>0</td>\n",
       "      <td>0</td>\n",
       "      <td>B</td>\n",
       "    </tr>\n",
       "    <tr>\n",
       "      <td>3</td>\n",
       "      <td>1.9</td>\n",
       "      <td>10.5</td>\n",
       "      <td>0</td>\n",
       "      <td>1</td>\n",
       "      <td>0</td>\n",
       "      <td>0</td>\n",
       "      <td>-73.987973</td>\n",
       "      <td>40.775770</td>\n",
       "      <td>-73.978367</td>\n",
       "      <td>40.764425</td>\n",
       "      <td>2019-04-30 14:45:33</td>\n",
       "      <td>2019-04-30 14:58:43</td>\n",
       "      <td>0 days 00:13:10.000000000</td>\n",
       "      <td>0</td>\n",
       "      <td>0</td>\n",
       "      <td>1</td>\n",
       "      <td>0</td>\n",
       "      <td>0</td>\n",
       "      <td>D</td>\n",
       "    </tr>\n",
       "    <tr>\n",
       "      <td>4</td>\n",
       "      <td>1.0</td>\n",
       "      <td>5.5</td>\n",
       "      <td>0</td>\n",
       "      <td>0</td>\n",
       "      <td>0</td>\n",
       "      <td>1</td>\n",
       "      <td>-73.985214</td>\n",
       "      <td>40.727944</td>\n",
       "      <td>-73.976942</td>\n",
       "      <td>40.747654</td>\n",
       "      <td>2019-09-15 01:52:45</td>\n",
       "      <td>2019-09-15 01:57:18</td>\n",
       "      <td>0 days 00:04:33.000000000</td>\n",
       "      <td>1</td>\n",
       "      <td>0</td>\n",
       "      <td>0</td>\n",
       "      <td>0</td>\n",
       "      <td>0</td>\n",
       "      <td>B</td>\n",
       "    </tr>\n",
       "  </tbody>\n",
       "</table>\n",
       "</div>"
      ],
      "text/plain": [
       "   trip_distance  fare_amount  winter  spring  summer  fall  PULongitude  \\\n",
       "0            1.1          7.0       0       1       0     0   -73.984176   \n",
       "1            2.6         12.0       0       0       1     0   -73.992455   \n",
       "2            1.2          5.5       0       0       1     0   -73.965174   \n",
       "3            1.9         10.5       0       1       0     0   -73.987973   \n",
       "4            1.0          5.5       0       0       0     1   -73.985214   \n",
       "\n",
       "   PULatitude  DOLongitude  DOLatitude      pickup_datetime  \\\n",
       "0   40.759845   -73.972145   40.756816  2019-04-29 07:55:30   \n",
       "1   40.748476   -74.008386   40.735248  2019-08-31 14:26:37   \n",
       "2   40.756589   -73.951208   40.778496  2019-07-07 17:53:54   \n",
       "3   40.775770   -73.978367   40.764425  2019-04-30 14:45:33   \n",
       "4   40.727944   -73.976942   40.747654  2019-09-15 01:52:45   \n",
       "\n",
       "      dropoff_datetime              ride_duration  Early morning  Morning  \\\n",
       "0  2019-04-29 08:03:39  0 days 00:08:09.000000000              0        1   \n",
       "1  2019-08-31 14:42:27  0 days 00:15:50.000000000              0        0   \n",
       "2  2019-07-07 17:57:55  0 days 00:04:01.000000000              0        0   \n",
       "3  2019-04-30 14:58:43  0 days 00:13:10.000000000              0        0   \n",
       "4  2019-09-15 01:57:18  0 days 00:04:33.000000000              1        0   \n",
       "\n",
       "   Afternoon  Night  Holiday Proximity label  \n",
       "0          0      0                  0     B  \n",
       "1          1      0                  0     D  \n",
       "2          1      0                  0     B  \n",
       "3          1      0                  0     D  \n",
       "4          0      0                  0     B  "
      ]
     },
     "execution_count": 2,
     "metadata": {},
     "output_type": "execute_result"
    }
   ],
   "source": [
    "#import data \n",
    "data = pd.read_csv(\"taxi_clean_med.csv\")\n",
    "\n",
    "#display data\n",
    "print(data.shape)\n",
    "      \n",
    "data.head()"
   ]
  },
  {
   "cell_type": "code",
   "execution_count": 3,
   "metadata": {},
   "outputs": [],
   "source": [
    "data['pickup_datetime'] = pd.to_datetime(data['pickup_datetime'])\n",
    "data['pickup_datetime'] = pd.to_numeric(data['pickup_datetime'])\n",
    "data['dropoff_datetime'] = pd.to_datetime(data['dropoff_datetime'])\n",
    "data['dropoff_datetime'] = pd.to_numeric(data['dropoff_datetime'])\n",
    "\n",
    "data['ride_duration'] = data['dropoff_datetime'] - data['pickup_datetime']\n",
    "\n"
   ]
  },
  {
   "cell_type": "code",
   "execution_count": 4,
   "metadata": {},
   "outputs": [],
   "source": [
    "#split our data \n",
    "#data_X = our attributes\n",
    "#data_y = labels\n",
    "\n",
    "data_X = data.drop(['label'], axis = 1)\n",
    "data_y = data['label']\n"
   ]
  },
  {
   "cell_type": "code",
   "execution_count": 5,
   "metadata": {},
   "outputs": [
    {
     "name": "stdout",
     "output_type": "stream",
     "text": [
      "Accuracy: 0.5298258996139544\n"
     ]
    }
   ],
   "source": [
    "#start with naive bayes\n",
    "#define our classifier\n",
    "clf = GaussianNB()\n",
    "\n",
    "#run a cross validation loop on our data and return the accuracy\n",
    "scores = cross_val_score(clf, data_X, data_y, cv = 10)\n",
    "print('Accuracy:',scores.mean())"
   ]
  },
  {
   "cell_type": "code",
   "execution_count": 6,
   "metadata": {},
   "outputs": [
    {
     "name": "stdout",
     "output_type": "stream",
     "text": [
      "Confusion Matrix:\n",
      " [[   0  564    0    0    0    0    0    0    0    0]\n",
      " [   0 1970   28    0    0    0    0    0    0    0]\n",
      " [   0  642  974   33    0    0    0    0    0    0]\n",
      " [   0   56  652  423    2    0    0    0    0    0]\n",
      " [   0   10  123  406  187    8    1    0    0    0]\n",
      " [   0    1   43  124  195   73   19    0    0    3]\n",
      " [   0    0   25   65  104   63   26    0    0   48]\n",
      " [   0    0   10   28   55   33   12    0    0   67]\n",
      " [   0    0    7   24   26   26    6    0    0   73]\n",
      " [   0    2    3   28   76   65   29    0    0  612]] \n",
      "\n",
      "Classification Report:\n",
      "\n",
      "               precision    recall  f1-score   support\n",
      "\n",
      "           A       0.00      0.00      0.00       564\n",
      "           B       0.61      0.99      0.75      1998\n",
      "           C       0.52      0.59      0.55      1649\n",
      "           D       0.37      0.37      0.37      1133\n",
      "           E       0.29      0.25      0.27       735\n",
      "           F       0.27      0.16      0.20       458\n",
      "           G       0.28      0.08      0.12       331\n",
      "           H       0.00      0.00      0.00       205\n",
      "           I       0.00      0.00      0.00       162\n",
      "           J       0.76      0.75      0.76       815\n",
      "\n",
      "    accuracy                           0.53      8050\n",
      "   macro avg       0.31      0.32      0.30      8050\n",
      "weighted avg       0.44      0.53      0.47      8050\n",
      "\n"
     ]
    }
   ],
   "source": [
    "#display results with a confusion matrix \n",
    "y_pred = cross_val_predict( clf, data_X, data_y, cv = 10)\n",
    "y_pred\n",
    "\n",
    "print('Confusion Matrix:\\n', confusion_matrix(data_y , y_pred),'\\n')\n",
    "print(\"Classification Report:\\n\\n\", classification_report(data_y, y_pred))"
   ]
  },
  {
   "cell_type": "code",
   "execution_count": 7,
   "metadata": {},
   "outputs": [
    {
     "name": "stdout",
     "output_type": "stream",
     "text": [
      "Average Accuracy: 0.9535441943993883\n"
     ]
    }
   ],
   "source": [
    "# now lets use a neural net\n",
    "\n",
    "#create classifier object\n",
    "mlp = MLPClassifier()\n",
    "\n",
    "#define scaler\n",
    "scaler = StandardScaler()\n",
    "#create pipeline\n",
    "pipe = Pipeline(steps = [('scaler',scaler),('MLP',mlp)])\n",
    "\n",
    "#define parameters\n",
    "param_grid = { 'MLP__hidden_layer_sizes' : [(10,), (15,) ] , \n",
    "              'MLP__activation' : ['logistic', 'tanh']}\n",
    "\n",
    "#create grid search object\n",
    "grid_search = GridSearchCV(pipe, param_grid, cv = 5)\n",
    "\n",
    "#calculate score\n",
    "score = cross_val_score(grid_search, data_X, data_y, cv = 5)\n",
    "\n",
    "#print results\n",
    "print('Average Accuracy:',score.mean())\n"
   ]
  },
  {
   "cell_type": "code",
   "execution_count": 8,
   "metadata": {},
   "outputs": [
    {
     "name": "stdout",
     "output_type": "stream",
     "text": [
      "Confusion Matrix:\n",
      " [[  57  339    0   56  112    0    0    0    0    0]\n",
      " [ 200 1199    0  200  399    0    0    0    0    0]\n",
      " [ 165  989    0  165  330    0    0    0    0    0]\n",
      " [ 113  681    0  113  226    0    0    0    0    0]\n",
      " [  74  441    0   73  147    0    0    0    0    0]\n",
      " [  46  275    0   46   91    0    0    0    0    0]\n",
      " [  33  199    0   33   66    0    0    0    0    0]\n",
      " [  21  123    0   20   41    0    0    0    0    0]\n",
      " [  16   98    0   16   32    0    0    0    0    0]\n",
      " [  82  482    7   81  163    0    0    0    0    0]] \n",
      "\n",
      "Classification Report:\n",
      "\n",
      "               precision    recall  f1-score   support\n",
      "\n",
      "           A       0.07      0.10      0.08       564\n",
      "           B       0.25      0.60      0.35      1998\n",
      "           C       0.00      0.00      0.00      1649\n",
      "           D       0.14      0.10      0.12      1133\n",
      "           E       0.09      0.20      0.13       735\n",
      "           F       0.00      0.00      0.00       458\n",
      "           G       0.00      0.00      0.00       331\n",
      "           H       0.00      0.00      0.00       205\n",
      "           I       0.00      0.00      0.00       162\n",
      "           J       0.00      0.00      0.00       815\n",
      "\n",
      "    accuracy                           0.19      8050\n",
      "   macro avg       0.06      0.10      0.07      8050\n",
      "weighted avg       0.09      0.19      0.12      8050\n",
      "\n"
     ]
    }
   ],
   "source": [
    "#display results with a confusion matrix \n",
    "y_pred = cross_val_predict( mlp, data_X, data_y, cv = 10)\n",
    "y_pred\n",
    "\n",
    "print('Confusion Matrix:\\n', confusion_matrix(data_y , y_pred),'\\n')\n",
    "print(\"Classification Report:\\n\\n\", classification_report(data_y, y_pred))"
   ]
  },
  {
   "cell_type": "markdown",
   "metadata": {},
   "source": [
    "When running a cross validation loop, I got an accuracy of 9"
   ]
  },
  {
   "cell_type": "markdown",
   "metadata": {},
   "source": [
    "## KNN Analysis"
   ]
  },
  {
   "cell_type": "code",
   "execution_count": 20,
   "metadata": {},
   "outputs": [
    {
     "name": "stdout",
     "output_type": "stream",
     "text": [
      "best_score 0.5937888198757764\n",
      "best_params {'knn__n_neighbors': 1, 'pca__n_components': 12}\n"
     ]
    }
   ],
   "source": [
    "from sklearn.preprocessing import MinMaxScaler\n",
    "from sklearn.model_selection import GridSearchCV\n",
    "from sklearn.neighbors import KNeighborsClassifier\n",
    "from sklearn.decomposition import PCA\n",
    "from sklearn.pipeline import Pipeline\n",
    "\n",
    "featurevalues = data.drop(['label'], axis = 1)\n",
    "classlabels = data['label']\n",
    "\n",
    "# define a pipeline to search for best combination of PCA dimensions and n_neighbors\n",
    "scaler = MinMaxScaler()\n",
    "pca = PCA()\n",
    "knn = KNeighborsClassifier()\n",
    "\n",
    "# create a pipeline\n",
    "pipe = Pipeline(steps=[('scaler', scaler), ('pca', pca), ('knn', knn)])\n",
    "\n",
    "# set up parameters to tune for each step in pipeline\n",
    "param_grid = {\n",
    "    'pca__n_components': list(range(1, 19)), # find how many principal componenet to keep\n",
    "    'knn__n_neighbors': list(range(1, 30)),  # find the best value of k\n",
    "}\n",
    "\n",
    "# pass pipeline into gridsearchcv\n",
    "grid_pipe = GridSearchCV(pipe,param_grid,cv=5)\n",
    "\n",
    "# call fit on grid_pipe and pass in unscaled data\n",
    "grid_pipe = grid_pipe.fit(featurevalues,classlabels)\n",
    "\n",
    "# print out the best_score_ and best_params_ from the GridSearchCV\n",
    "print(\"best_score\",grid_pipe.best_score_)\n",
    "print(\"best_params\",grid_pipe.best_params_)"
   ]
  },
  {
   "cell_type": "code",
   "execution_count": 21,
   "metadata": {},
   "outputs": [
    {
     "name": "stdout",
     "output_type": "stream",
     "text": [
      "Accuracy: 59.38079032843297\n"
     ]
    }
   ],
   "source": [
    "# display accuracy on model\n",
    "scores = cross_val_score(grid_pipe,featurevalues,classlabels,cv=5)\n",
    "print(\"Accuracy:\", scores.mean()*100)"
   ]
  },
  {
   "cell_type": "markdown",
   "metadata": {},
   "source": [
    "## SVM Analysis"
   ]
  },
  {
   "cell_type": "code",
   "execution_count": 25,
   "metadata": {},
   "outputs": [
    {
     "name": "stdout",
     "output_type": "stream",
     "text": [
      "Accuracy: 79.62815514695144\n"
     ]
    }
   ],
   "source": [
    "from sklearn.svm import SVC\n",
    "\n",
    "scaler = StandardScaler()\n",
    "svc = SVC()\n",
    "\n",
    "# set up pipeline\n",
    "pipe = Pipeline(steps=[('scaler',scaler),('svc',svc)])\n",
    "pipeline = cross_val_score(pipe,featurevalues,classlabels,cv=5)\n",
    "print(\"Accuracy:\", pipeline.mean()*100)"
   ]
  },
  {
   "cell_type": "code",
   "execution_count": 30,
   "metadata": {},
   "outputs": [
    {
     "name": "stdout",
     "output_type": "stream",
     "text": [
      "{'svc__kernel': 'linear'}\n",
      "Accuracy: 99.96265558880566\n"
     ]
    }
   ],
   "source": [
    "# tune 'svm' part of the pipeline, 'kernel' hyperparameter\n",
    "param_grid = {'svc__kernel': ['linear', 'rbf', 'poly', 'sigmoid']}\n",
    "\n",
    "# find and print best parameter\n",
    "gridsearch = GridSearchCV(pipe,param_grid,cv=5)\n",
    "gridsearch = gridsearch.fit(featurevalues,classlabels)\n",
    "print(gridsearch.best_params_)\n",
    "\n",
    "# find best value of c and print accuracy\n",
    "c = []\n",
    "for x in range(50,110,5):\n",
    "    c.append(x)\n",
    "param_grid = {'svc__kernel':['linear','rbf','poly','sigmoid'],'svc__C':c}\n",
    "grid_search = GridSearchCV(pipe,param_grid,cv=5)\n",
    "grid_accuracy = cross_val_score(grid_search,featurevalues,classlabels,cv=5)\n",
    "print(\"Accuracy:\",grid_accuracy.mean()*100)"
   ]
  },
  {
   "cell_type": "code",
   "execution_count": null,
   "metadata": {},
   "outputs": [],
   "source": []
  }
 ],
 "metadata": {
  "kernelspec": {
   "display_name": "Python 3",
   "language": "python",
   "name": "python3"
  },
  "language_info": {
   "codemirror_mode": {
    "name": "ipython",
    "version": 3
   },
   "file_extension": ".py",
   "mimetype": "text/x-python",
   "name": "python",
   "nbconvert_exporter": "python",
   "pygments_lexer": "ipython3",
   "version": "3.7.4"
  }
 },
 "nbformat": 4,
 "nbformat_minor": 2
}
